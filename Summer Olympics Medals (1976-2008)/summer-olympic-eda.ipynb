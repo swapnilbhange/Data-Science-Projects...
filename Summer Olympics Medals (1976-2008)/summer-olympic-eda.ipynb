{
 "cells": [
  {
   "cell_type": "markdown",
   "metadata": {
    "papermill": {
     "duration": 0.055619,
     "end_time": "2020-10-18T09:58:56.038279",
     "exception": false,
     "start_time": "2020-10-18T09:58:55.982660",
     "status": "completed"
    },
    "tags": []
   },
   "source": [
    "## Summer Olympics Medals (1976-2008)"
   ]
  },
  {
   "cell_type": "markdown",
   "metadata": {
    "papermill": {
     "duration": 0.052925,
     "end_time": "2020-10-18T09:58:56.144118",
     "exception": false,
     "start_time": "2020-10-18T09:58:56.091193",
     "status": "completed"
    },
    "tags": []
   },
   "source": [
    "This dataset is a list of all the medal winners in the Summer Olympics from 1976 Montreal to 2008 Beijing. It includes each and every medal awarded within the period. This dataset is intended for beginners so that they can get a taste of advanced Excel functions which is perhaps one of the key skills required to be a great data scientist. I too got my hands dirty with the dataset and played with some advanced Excel functions. Further, this dataset can also be used for a predictive model as to which country is likely to fetch the highest number of gold in a particular sports category (just an example), etc."
   ]
  },
  {
   "cell_type": "markdown",
   "metadata": {
    "papermill": {
     "duration": 0.053156,
     "end_time": "2020-10-18T09:58:56.250215",
     "exception": false,
     "start_time": "2020-10-18T09:58:56.197059",
     "status": "completed"
    },
    "tags": []
   },
   "source": [
    "The file contains 11 columns which include information about each and every medal awarded between the period of 1976-2008 in the Summer Olympics. The athlete's name along with his country, gender, discipline in which he/she won and the event name is included in the dataset."
   ]
  },
  {
   "cell_type": "code",
   "execution_count": 1,
   "metadata": {
    "_cell_guid": "b1076dfc-b9ad-4769-8c92-a6c4dae69d19",
    "_uuid": "8f2839f25d086af736a60e9eeb907d3b93b6e0e5",
    "execution": {
     "iopub.execute_input": "2020-10-18T09:58:56.363793Z",
     "iopub.status.busy": "2020-10-18T09:58:56.362850Z",
     "iopub.status.idle": "2020-10-18T09:58:56.370479Z",
     "shell.execute_reply": "2020-10-18T09:58:56.369766Z"
    },
    "papermill": {
     "duration": 0.067524,
     "end_time": "2020-10-18T09:58:56.370609",
     "exception": false,
     "start_time": "2020-10-18T09:58:56.303085",
     "status": "completed"
    },
    "tags": []
   },
   "outputs": [
    {
     "name": "stdout",
     "output_type": "stream",
     "text": [
      "/kaggle/input/summer-olympics-medals/Summer-Olympic-medals-1976-to-2008.csv\n"
     ]
    }
   ],
   "source": [
    "# This Python 3 environment comes with many helpful analytics libraries installed\n",
    "# It is defined by the kaggle/python Docker image: https://github.com/kaggle/docker-python\n",
    "# For example, here's several helpful packages to load\n",
    "\n",
    "import numpy as np # linear algebra\n",
    "import pandas as pd # data processing, CSV file I/O (e.g. pd.read_csv)\n",
    "\n",
    "# Input data files are available in the read-only \"../input/\" directory\n",
    "# For example, running this (by clicking run or pressing Shift+Enter) will list all files under the input directory\n",
    "\n",
    "import os\n",
    "for dirname, _, filenames in os.walk('/kaggle/input'):\n",
    "    for filename in filenames:\n",
    "        print(os.path.join(dirname, filename))\n",
    "\n",
    "# You can write up to 5GB to the current directory (/kaggle/working/) that gets preserved as output when you create a version using \"Save & Run All\" \n",
    "# You can also write temporary files to /kaggle/temp/, but they won't be saved outside of the current session"
   ]
  },
  {
   "cell_type": "markdown",
   "metadata": {
    "papermill": {
     "duration": 0.052797,
     "end_time": "2020-10-18T09:58:56.477468",
     "exception": false,
     "start_time": "2020-10-18T09:58:56.424671",
     "status": "completed"
    },
    "tags": []
   },
   "source": [
    "### importing necessary libraries..."
   ]
  },
  {
   "cell_type": "code",
   "execution_count": 2,
   "metadata": {
    "_cell_guid": "79c7e3d0-c299-4dcb-8224-4455121ee9b0",
    "_uuid": "d629ff2d2480ee46fbb7e2d37f6b5fab8052498a",
    "execution": {
     "iopub.execute_input": "2020-10-18T09:58:56.592903Z",
     "iopub.status.busy": "2020-10-18T09:58:56.592105Z",
     "iopub.status.idle": "2020-10-18T09:58:57.554692Z",
     "shell.execute_reply": "2020-10-18T09:58:57.553598Z"
    },
    "papermill": {
     "duration": 1.024416,
     "end_time": "2020-10-18T09:58:57.554836",
     "exception": false,
     "start_time": "2020-10-18T09:58:56.530420",
     "status": "completed"
    },
    "tags": []
   },
   "outputs": [],
   "source": [
    "import pandas as pd\n",
    "import sys\n",
    "import math\n",
    "import numpy.random as nr\n",
    "import scipy.stats as ss\n",
    "import seaborn as sns\n",
    "import matplotlib.pyplot as plt\n",
    "%matplotlib inline"
   ]
  },
  {
   "cell_type": "markdown",
   "metadata": {
    "papermill": {
     "duration": 0.053856,
     "end_time": "2020-10-18T09:58:57.662561",
     "exception": false,
     "start_time": "2020-10-18T09:58:57.608705",
     "status": "completed"
    },
    "tags": []
   },
   "source": [
    "### importing Dataset..."
   ]
  },
  {
   "cell_type": "code",
   "execution_count": 3,
   "metadata": {
    "execution": {
     "iopub.execute_input": "2020-10-18T09:58:57.776230Z",
     "iopub.status.busy": "2020-10-18T09:58:57.775460Z",
     "iopub.status.idle": "2020-10-18T09:58:57.853832Z",
     "shell.execute_reply": "2020-10-18T09:58:57.852271Z"
    },
    "papermill": {
     "duration": 0.137951,
     "end_time": "2020-10-18T09:58:57.854031",
     "exception": false,
     "start_time": "2020-10-18T09:58:57.716080",
     "status": "completed"
    },
    "tags": []
   },
   "outputs": [],
   "source": [
    "df = pd.read_csv('../input/summer-olympics-medals/Summer-Olympic-medals-1976-to-2008.csv',  encoding = \"ISO-8859-1\")"
   ]
  },
  {
   "cell_type": "code",
   "execution_count": 4,
   "metadata": {
    "execution": {
     "iopub.execute_input": "2020-10-18T09:58:57.993313Z",
     "iopub.status.busy": "2020-10-18T09:58:57.992230Z",
     "iopub.status.idle": "2020-10-18T09:58:58.006585Z",
     "shell.execute_reply": "2020-10-18T09:58:58.005752Z"
    },
    "papermill": {
     "duration": 0.093428,
     "end_time": "2020-10-18T09:58:58.006720",
     "exception": false,
     "start_time": "2020-10-18T09:58:57.913292",
     "status": "completed"
    },
    "tags": []
   },
   "outputs": [
    {
     "data": {
      "text/html": [
       "<div>\n",
       "<style scoped>\n",
       "    .dataframe tbody tr th:only-of-type {\n",
       "        vertical-align: middle;\n",
       "    }\n",
       "\n",
       "    .dataframe tbody tr th {\n",
       "        vertical-align: top;\n",
       "    }\n",
       "\n",
       "    .dataframe thead th {\n",
       "        text-align: right;\n",
       "    }\n",
       "</style>\n",
       "<table border=\"1\" class=\"dataframe\">\n",
       "  <thead>\n",
       "    <tr style=\"text-align: right;\">\n",
       "      <th></th>\n",
       "      <th>City</th>\n",
       "      <th>Year</th>\n",
       "      <th>Sport</th>\n",
       "      <th>Discipline</th>\n",
       "      <th>Event</th>\n",
       "      <th>Athlete</th>\n",
       "      <th>Gender</th>\n",
       "      <th>Country_Code</th>\n",
       "      <th>Country</th>\n",
       "      <th>Event_gender</th>\n",
       "      <th>Medal</th>\n",
       "    </tr>\n",
       "  </thead>\n",
       "  <tbody>\n",
       "    <tr>\n",
       "      <th>0</th>\n",
       "      <td>Montreal</td>\n",
       "      <td>1976.0</td>\n",
       "      <td>Aquatics</td>\n",
       "      <td>Diving</td>\n",
       "      <td>3m springboard</td>\n",
       "      <td>KÖHLER, Christa</td>\n",
       "      <td>Women</td>\n",
       "      <td>GDR</td>\n",
       "      <td>East Germany</td>\n",
       "      <td>W</td>\n",
       "      <td>Silver</td>\n",
       "    </tr>\n",
       "    <tr>\n",
       "      <th>1</th>\n",
       "      <td>Montreal</td>\n",
       "      <td>1976.0</td>\n",
       "      <td>Aquatics</td>\n",
       "      <td>Diving</td>\n",
       "      <td>3m springboard</td>\n",
       "      <td>KOSENKOV, Aleksandr</td>\n",
       "      <td>Men</td>\n",
       "      <td>URS</td>\n",
       "      <td>Soviet Union</td>\n",
       "      <td>M</td>\n",
       "      <td>Bronze</td>\n",
       "    </tr>\n",
       "    <tr>\n",
       "      <th>2</th>\n",
       "      <td>Montreal</td>\n",
       "      <td>1976.0</td>\n",
       "      <td>Aquatics</td>\n",
       "      <td>Diving</td>\n",
       "      <td>3m springboard</td>\n",
       "      <td>BOGGS, Philip George</td>\n",
       "      <td>Men</td>\n",
       "      <td>USA</td>\n",
       "      <td>United States</td>\n",
       "      <td>M</td>\n",
       "      <td>Gold</td>\n",
       "    </tr>\n",
       "    <tr>\n",
       "      <th>3</th>\n",
       "      <td>Montreal</td>\n",
       "      <td>1976.0</td>\n",
       "      <td>Aquatics</td>\n",
       "      <td>Diving</td>\n",
       "      <td>3m springboard</td>\n",
       "      <td>CAGNOTTO, Giorgio Franco</td>\n",
       "      <td>Men</td>\n",
       "      <td>ITA</td>\n",
       "      <td>Italy</td>\n",
       "      <td>M</td>\n",
       "      <td>Silver</td>\n",
       "    </tr>\n",
       "    <tr>\n",
       "      <th>4</th>\n",
       "      <td>Montreal</td>\n",
       "      <td>1976.0</td>\n",
       "      <td>Aquatics</td>\n",
       "      <td>Diving</td>\n",
       "      <td>10m platform</td>\n",
       "      <td>WILSON, Deborah Keplar</td>\n",
       "      <td>Women</td>\n",
       "      <td>USA</td>\n",
       "      <td>United States</td>\n",
       "      <td>W</td>\n",
       "      <td>Bronze</td>\n",
       "    </tr>\n",
       "  </tbody>\n",
       "</table>\n",
       "</div>"
      ],
      "text/plain": [
       "       City    Year     Sport Discipline           Event  \\\n",
       "0  Montreal  1976.0  Aquatics     Diving  3m springboard   \n",
       "1  Montreal  1976.0  Aquatics     Diving  3m springboard   \n",
       "2  Montreal  1976.0  Aquatics     Diving  3m springboard   \n",
       "3  Montreal  1976.0  Aquatics     Diving  3m springboard   \n",
       "4  Montreal  1976.0  Aquatics     Diving    10m platform   \n",
       "\n",
       "                    Athlete Gender Country_Code        Country Event_gender  \\\n",
       "0           KÖHLER, Christa  Women          GDR   East Germany            W   \n",
       "1       KOSENKOV, Aleksandr    Men          URS   Soviet Union            M   \n",
       "2      BOGGS, Philip George    Men          USA  United States            M   \n",
       "3  CAGNOTTO, Giorgio Franco    Men          ITA          Italy            M   \n",
       "4    WILSON, Deborah Keplar  Women          USA  United States            W   \n",
       "\n",
       "    Medal  \n",
       "0  Silver  \n",
       "1  Bronze  \n",
       "2    Gold  \n",
       "3  Silver  \n",
       "4  Bronze  "
      ]
     },
     "execution_count": 4,
     "metadata": {},
     "output_type": "execute_result"
    }
   ],
   "source": [
    "df.head()"
   ]
  },
  {
   "cell_type": "markdown",
   "metadata": {
    "papermill": {
     "duration": 0.055164,
     "end_time": "2020-10-18T09:58:58.120034",
     "exception": false,
     "start_time": "2020-10-18T09:58:58.064870",
     "status": "completed"
    },
    "tags": []
   },
   "source": [
    "### Checking the concise summary of the dataset..."
   ]
  },
  {
   "cell_type": "code",
   "execution_count": 5,
   "metadata": {
    "execution": {
     "iopub.execute_input": "2020-10-18T09:58:58.251520Z",
     "iopub.status.busy": "2020-10-18T09:58:58.250728Z",
     "iopub.status.idle": "2020-10-18T09:58:58.264787Z",
     "shell.execute_reply": "2020-10-18T09:58:58.264150Z"
    },
    "papermill": {
     "duration": 0.090547,
     "end_time": "2020-10-18T09:58:58.264936",
     "exception": false,
     "start_time": "2020-10-18T09:58:58.174389",
     "status": "completed"
    },
    "tags": []
   },
   "outputs": [
    {
     "name": "stdout",
     "output_type": "stream",
     "text": [
      "<class 'pandas.core.frame.DataFrame'>\n",
      "RangeIndex: 15433 entries, 0 to 15432\n",
      "Data columns (total 11 columns):\n",
      " #   Column        Non-Null Count  Dtype  \n",
      "---  ------        --------------  -----  \n",
      " 0   City          15316 non-null  object \n",
      " 1   Year          15316 non-null  float64\n",
      " 2   Sport         15316 non-null  object \n",
      " 3   Discipline    15316 non-null  object \n",
      " 4   Event         15316 non-null  object \n",
      " 5   Athlete       15316 non-null  object \n",
      " 6   Gender        15316 non-null  object \n",
      " 7   Country_Code  15316 non-null  object \n",
      " 8   Country       15316 non-null  object \n",
      " 9   Event_gender  15316 non-null  object \n",
      " 10  Medal         15316 non-null  object \n",
      "dtypes: float64(1), object(10)\n",
      "memory usage: 1.3+ MB\n"
     ]
    }
   ],
   "source": [
    "df.info()"
   ]
  },
  {
   "cell_type": "markdown",
   "metadata": {
    "papermill": {
     "duration": 0.054571,
     "end_time": "2020-10-18T09:58:58.375029",
     "exception": false,
     "start_time": "2020-10-18T09:58:58.320458",
     "status": "completed"
    },
    "tags": []
   },
   "source": [
    "### Checking the shape of the dataset..."
   ]
  },
  {
   "cell_type": "code",
   "execution_count": 6,
   "metadata": {
    "execution": {
     "iopub.execute_input": "2020-10-18T09:58:58.492032Z",
     "iopub.status.busy": "2020-10-18T09:58:58.491075Z",
     "iopub.status.idle": "2020-10-18T09:58:58.495773Z",
     "shell.execute_reply": "2020-10-18T09:58:58.495042Z"
    },
    "papermill": {
     "duration": 0.065839,
     "end_time": "2020-10-18T09:58:58.495896",
     "exception": false,
     "start_time": "2020-10-18T09:58:58.430057",
     "status": "completed"
    },
    "tags": []
   },
   "outputs": [
    {
     "data": {
      "text/plain": [
       "(15433, 11)"
      ]
     },
     "execution_count": 6,
     "metadata": {},
     "output_type": "execute_result"
    }
   ],
   "source": [
    "df.shape"
   ]
  },
  {
   "cell_type": "markdown",
   "metadata": {
    "papermill": {
     "duration": 0.055446,
     "end_time": "2020-10-18T09:58:58.607317",
     "exception": false,
     "start_time": "2020-10-18T09:58:58.551871",
     "status": "completed"
    },
    "tags": []
   },
   "source": [
    "dataset contains 15433 Rows and 11 Columns..."
   ]
  },
  {
   "cell_type": "markdown",
   "metadata": {
    "papermill": {
     "duration": 0.058023,
     "end_time": "2020-10-18T09:58:58.720932",
     "exception": false,
     "start_time": "2020-10-18T09:58:58.662909",
     "status": "completed"
    },
    "tags": []
   },
   "source": [
    "### checking the null values in the dataset..."
   ]
  },
  {
   "cell_type": "code",
   "execution_count": 7,
   "metadata": {
    "execution": {
     "iopub.execute_input": "2020-10-18T09:58:58.855836Z",
     "iopub.status.busy": "2020-10-18T09:58:58.854768Z",
     "iopub.status.idle": "2020-10-18T09:58:58.862878Z",
     "shell.execute_reply": "2020-10-18T09:58:58.862148Z"
    },
    "papermill": {
     "duration": 0.085724,
     "end_time": "2020-10-18T09:58:58.863031",
     "exception": false,
     "start_time": "2020-10-18T09:58:58.777307",
     "status": "completed"
    },
    "tags": []
   },
   "outputs": [
    {
     "data": {
      "text/plain": [
       "City            117\n",
       "Year            117\n",
       "Sport           117\n",
       "Discipline      117\n",
       "Event           117\n",
       "Athlete         117\n",
       "Gender          117\n",
       "Country_Code    117\n",
       "Country         117\n",
       "Event_gender    117\n",
       "Medal           117\n",
       "dtype: int64"
      ]
     },
     "execution_count": 7,
     "metadata": {},
     "output_type": "execute_result"
    }
   ],
   "source": [
    "df.isnull().sum()"
   ]
  },
  {
   "cell_type": "markdown",
   "metadata": {
    "papermill": {
     "duration": 0.055973,
     "end_time": "2020-10-18T09:58:58.975163",
     "exception": false,
     "start_time": "2020-10-18T09:58:58.919190",
     "status": "completed"
    },
    "tags": []
   },
   "source": [
    "There are null values present in the dataset...\n",
    "we will treat the null values at the time of modelling..."
   ]
  },
  {
   "cell_type": "markdown",
   "metadata": {
    "papermill": {
     "duration": 0.056246,
     "end_time": "2020-10-18T09:58:59.088824",
     "exception": false,
     "start_time": "2020-10-18T09:58:59.032578",
     "status": "completed"
    },
    "tags": []
   },
   "source": [
    "### Number of unique values"
   ]
  },
  {
   "cell_type": "code",
   "execution_count": 8,
   "metadata": {
    "execution": {
     "iopub.execute_input": "2020-10-18T09:58:59.224732Z",
     "iopub.status.busy": "2020-10-18T09:58:59.220990Z",
     "iopub.status.idle": "2020-10-18T09:58:59.233602Z",
     "shell.execute_reply": "2020-10-18T09:58:59.232858Z"
    },
    "papermill": {
     "duration": 0.088084,
     "end_time": "2020-10-18T09:58:59.233726",
     "exception": false,
     "start_time": "2020-10-18T09:58:59.145642",
     "status": "completed"
    },
    "tags": []
   },
   "outputs": [
    {
     "name": "stdout",
     "output_type": "stream",
     "text": [
      "no. of unique values in City : 9\n",
      "\n",
      "no. of unique values in Year : 9\n",
      "\n",
      "no. of unique values in Sport : 28\n",
      "\n",
      "no. of unique values in Discipline : 41\n",
      "\n",
      "no. of unique values in Event : 293\n",
      "\n",
      "no. of unique values in Athlete : 11337\n",
      "\n",
      "no. of unique values in Gender : 2\n",
      "\n",
      "no. of unique values in Country_Code : 128\n",
      "\n",
      "no. of unique values in Country : 127\n",
      "\n",
      "no. of unique values in Event_gender : 3\n",
      "\n",
      "no. of unique values in Medal : 3\n",
      "\n"
     ]
    }
   ],
   "source": [
    "for vars in df.columns:\n",
    "  print(f'no. of unique values in {vars} : {df[vars].nunique()}\\n')"
   ]
  },
  {
   "cell_type": "markdown",
   "metadata": {
    "papermill": {
     "duration": 0.056938,
     "end_time": "2020-10-18T09:58:59.347847",
     "exception": false,
     "start_time": "2020-10-18T09:58:59.290909",
     "status": "completed"
    },
    "tags": []
   },
   "source": [
    "### Exploratory Data Analysis"
   ]
  },
  {
   "cell_type": "markdown",
   "metadata": {
    "papermill": {
     "duration": 0.056771,
     "end_time": "2020-10-18T09:58:59.461611",
     "exception": false,
     "start_time": "2020-10-18T09:58:59.404840",
     "status": "completed"
    },
    "tags": []
   },
   "source": [
    "Question: How many medals are won per olympic Year...?"
   ]
  },
  {
   "cell_type": "code",
   "execution_count": 9,
   "metadata": {
    "execution": {
     "iopub.execute_input": "2020-10-18T09:58:59.582205Z",
     "iopub.status.busy": "2020-10-18T09:58:59.581199Z",
     "iopub.status.idle": "2020-10-18T09:58:59.592006Z",
     "shell.execute_reply": "2020-10-18T09:58:59.591231Z"
    },
    "papermill": {
     "duration": 0.073685,
     "end_time": "2020-10-18T09:58:59.592133",
     "exception": false,
     "start_time": "2020-10-18T09:58:59.518448",
     "status": "completed"
    },
    "tags": []
   },
   "outputs": [
    {
     "data": {
      "text/plain": [
       "Year\n",
       "1976.0    1305\n",
       "1980.0    1387\n",
       "1984.0    1459\n",
       "1988.0    1546\n",
       "1992.0    1705\n",
       "1996.0    1859\n",
       "2000.0    2015\n",
       "2004.0    1998\n",
       "2008.0    2042\n",
       "Name: Medal, dtype: int64"
      ]
     },
     "execution_count": 9,
     "metadata": {},
     "output_type": "execute_result"
    }
   ],
   "source": [
    "year_wise_total_medal=df.groupby('Year')['Medal'].count()\n",
    "year_wise_total_medal"
   ]
  },
  {
   "cell_type": "code",
   "execution_count": 10,
   "metadata": {
    "execution": {
     "iopub.execute_input": "2020-10-18T09:58:59.716783Z",
     "iopub.status.busy": "2020-10-18T09:58:59.715976Z",
     "iopub.status.idle": "2020-10-18T09:58:59.959755Z",
     "shell.execute_reply": "2020-10-18T09:58:59.960296Z"
    },
    "papermill": {
     "duration": 0.310723,
     "end_time": "2020-10-18T09:58:59.960487",
     "exception": false,
     "start_time": "2020-10-18T09:58:59.649764",
     "status": "completed"
    },
    "tags": []
   },
   "outputs": [
    {
     "data": {
      "image/png": "[encoded data removed]",
      "text/plain": [
       "<Figure size 432x288 with 1 Axes>"
      ]
     },
     "metadata": {
      "needs_background": "light"
     },
     "output_type": "display_data"
    }
   ],
   "source": [
    "year_wise_total_medal.plot(kind='bar');"
   ]
  },
  {
   "cell_type": "markdown",
   "metadata": {
    "papermill": {
     "duration": 0.059842,
     "end_time": "2020-10-18T09:59:00.079164",
     "exception": false,
     "start_time": "2020-10-18T09:59:00.019322",
     "status": "completed"
    },
    "tags": []
   },
   "source": [
    "This visualization shows that year 2008 has highest number of medal followed by 2000"
   ]
  },
  {
   "cell_type": "markdown",
   "metadata": {
    "papermill": {
     "duration": 0.058893,
     "end_time": "2020-10-18T09:59:00.197661",
     "exception": false,
     "start_time": "2020-10-18T09:59:00.138768",
     "status": "completed"
    },
    "tags": []
   },
   "source": [
    "Question: How many Gold, Silver and Bronze medals are won per olympic Year...?"
   ]
  },
  {
   "cell_type": "code",
   "execution_count": 11,
   "metadata": {
    "execution": {
     "iopub.execute_input": "2020-10-18T09:59:00.321548Z",
     "iopub.status.busy": "2020-10-18T09:59:00.320505Z",
     "iopub.status.idle": "2020-10-18T09:59:00.335375Z",
     "shell.execute_reply": "2020-10-18T09:59:00.334719Z"
    },
    "papermill": {
     "duration": 0.079031,
     "end_time": "2020-10-18T09:59:00.335503",
     "exception": false,
     "start_time": "2020-10-18T09:59:00.256472",
     "status": "completed"
    },
    "tags": []
   },
   "outputs": [
    {
     "data": {
      "text/plain": [
       "Year    Medal \n",
       "1976.0  Bronze    447\n",
       "        Gold      429\n",
       "        Silver    429\n",
       "1980.0  Bronze    472\n",
       "        Gold      460\n",
       "        Silver    455\n",
       "1984.0  Bronze    500\n",
       "        Gold      483\n",
       "        Silver    476\n",
       "1988.0  Bronze    535\n",
       "        Gold      506\n",
       "        Silver    505\n",
       "1992.0  Bronze    596\n",
       "        Gold      558\n",
       "        Silver    551\n",
       "1996.0  Bronze    634\n",
       "        Gold      615\n",
       "        Silver    610\n",
       "2000.0  Bronze    685\n",
       "        Silver    667\n",
       "        Gold      663\n",
       "2004.0  Bronze    679\n",
       "        Silver    660\n",
       "        Gold      659\n",
       "2008.0  Bronze    710\n",
       "        Gold      669\n",
       "        Silver    663\n",
       "Name: Medal, dtype: int64"
      ]
     },
     "execution_count": 11,
     "metadata": {},
     "output_type": "execute_result"
    }
   ],
   "source": [
    "year_wise_medal=df.groupby('Year')['Medal'].value_counts()\n",
    "year_wise_medal"
   ]
  },
  {
   "cell_type": "code",
   "execution_count": 12,
   "metadata": {
    "execution": {
     "iopub.execute_input": "2020-10-18T09:59:00.460524Z",
     "iopub.status.busy": "2020-10-18T09:59:00.459733Z",
     "iopub.status.idle": "2020-10-18T09:59:00.764630Z",
     "shell.execute_reply": "2020-10-18T09:59:00.763542Z"
    },
    "papermill": {
     "duration": 0.369784,
     "end_time": "2020-10-18T09:59:00.764848",
     "exception": false,
     "start_time": "2020-10-18T09:59:00.395064",
     "status": "completed"
    },
    "tags": []
   },
   "outputs": [
    {
     "data": {
      "image/png": "[encoded data removed]",
      "text/plain": [
       "<Figure size 1080x432 with 1 Axes>"
      ]
     },
     "metadata": {
      "needs_background": "light"
     },
     "output_type": "display_data"
    }
   ],
   "source": [
    "plt.figure(figsize=(15,6))\n",
    "sns.countplot(df['Year'], hue=df['Medal']);"
   ]
  },
  {
   "cell_type": "markdown",
   "metadata": {
    "papermill": {
     "duration": 0.063724,
     "end_time": "2020-10-18T09:59:00.909460",
     "exception": false,
     "start_time": "2020-10-18T09:59:00.845736",
     "status": "completed"
    },
    "tags": []
   },
   "source": [
    "In Year 2008 won the most Bronze--710, Gold--669, Silver--663..."
   ]
  },
  {
   "cell_type": "markdown",
   "metadata": {
    "papermill": {
     "duration": 0.060423,
     "end_time": "2020-10-18T09:59:01.030536",
     "exception": false,
     "start_time": "2020-10-18T09:59:00.970113",
     "status": "completed"
    },
    "tags": []
   },
   "source": [
    "Question: How many medals are won based on Gender per olympic Year...?"
   ]
  },
  {
   "cell_type": "code",
   "execution_count": 13,
   "metadata": {
    "execution": {
     "iopub.execute_input": "2020-10-18T09:59:01.159688Z",
     "iopub.status.busy": "2020-10-18T09:59:01.158533Z",
     "iopub.status.idle": "2020-10-18T09:59:01.171593Z",
     "shell.execute_reply": "2020-10-18T09:59:01.170856Z"
    },
    "papermill": {
     "duration": 0.079953,
     "end_time": "2020-10-18T09:59:01.171725",
     "exception": false,
     "start_time": "2020-10-18T09:59:01.091772",
     "status": "completed"
    },
    "tags": []
   },
   "outputs": [
    {
     "data": {
      "text/plain": [
       "Year    Gender\n",
       "1976.0  Men        924\n",
       "        Women      381\n",
       "1980.0  Men        958\n",
       "        Women      429\n",
       "1984.0  Men        973\n",
       "        Women      486\n",
       "1988.0  Men       1011\n",
       "        Women      535\n",
       "1992.0  Men       1105\n",
       "        Women      600\n",
       "1996.0  Men       1082\n",
       "        Women      777\n",
       "2000.0  Men       1126\n",
       "        Women      889\n",
       "2004.0  Men       1099\n",
       "        Women      899\n",
       "2008.0  Men       1110\n",
       "        Women      932\n",
       "Name: Gender, dtype: int64"
      ]
     },
     "execution_count": 13,
     "metadata": {},
     "output_type": "execute_result"
    }
   ],
   "source": [
    "year_wise_participants=df.groupby('Year')['Gender'].value_counts()\n",
    "year_wise_participants"
   ]
  },
  {
   "cell_type": "code",
   "execution_count": 14,
   "metadata": {
    "execution": {
     "iopub.execute_input": "2020-10-18T09:59:01.303509Z",
     "iopub.status.busy": "2020-10-18T09:59:01.302571Z",
     "iopub.status.idle": "2020-10-18T09:59:01.552423Z",
     "shell.execute_reply": "2020-10-18T09:59:01.551673Z"
    },
    "papermill": {
     "duration": 0.317741,
     "end_time": "2020-10-18T09:59:01.552548",
     "exception": false,
     "start_time": "2020-10-18T09:59:01.234807",
     "status": "completed"
    },
    "tags": []
   },
   "outputs": [
    {
     "data": {
      "image/png": "[encoded data removed]",
      "text/plain": [
       "<Figure size 1080x432 with 1 Axes>"
      ]
     },
     "metadata": {
      "needs_background": "light"
     },
     "output_type": "display_data"
    }
   ],
   "source": [
    "plt.figure(figsize=(15,6))\n",
    "sns.countplot(df['Year'], hue=df['Gender']);"
   ]
  },
  {
   "cell_type": "markdown",
   "metadata": {
    "papermill": {
     "duration": 0.061408,
     "end_time": "2020-10-18T09:59:01.675977",
     "exception": false,
     "start_time": "2020-10-18T09:59:01.614569",
     "status": "completed"
    },
    "tags": []
   },
   "source": [
    "The participation of women is less as compared to men but as the time progresses the women participation increase that shows the eqaulity in sports also."
   ]
  },
  {
   "cell_type": "markdown",
   "metadata": {
    "papermill": {
     "duration": 0.062519,
     "end_time": "2020-10-18T09:59:01.800727",
     "exception": false,
     "start_time": "2020-10-18T09:59:01.738208",
     "status": "completed"
    },
    "tags": []
   },
   "source": [
    "Question: Which country won the most medals in total...?"
   ]
  },
  {
   "cell_type": "code",
   "execution_count": 15,
   "metadata": {
    "execution": {
     "iopub.execute_input": "2020-10-18T09:59:01.940029Z",
     "iopub.status.busy": "2020-10-18T09:59:01.936211Z",
     "iopub.status.idle": "2020-10-18T09:59:01.944649Z",
     "shell.execute_reply": "2020-10-18T09:59:01.945185Z"
    },
    "papermill": {
     "duration": 0.082253,
     "end_time": "2020-10-18T09:59:01.945386",
     "exception": false,
     "start_time": "2020-10-18T09:59:01.863133",
     "status": "completed"
    },
    "tags": []
   },
   "outputs": [
    {
     "data": {
      "text/plain": [
       "Country\n",
       "United States     1992\n",
       "Soviet Union      1021\n",
       "Australia          798\n",
       "Germany            691\n",
       "China              679\n",
       "Russia             638\n",
       "East Germany       626\n",
       "Italy              486\n",
       "Romania            482\n",
       "United Kingdom     467\n",
       "Korea, South       454\n",
       "France             449\n",
       "Netherlands        428\n",
       "Japan              388\n",
       "Hungary            368\n",
       "Cuba               349\n",
       "West Germany       345\n",
       "Spain              328\n",
       "Brazil             318\n",
       "Canada             304\n",
       "Name: Medal, dtype: int64"
      ]
     },
     "execution_count": 15,
     "metadata": {},
     "output_type": "execute_result"
    }
   ],
   "source": [
    "medals_by_country=df.groupby('Country')['Medal'].count().sort_values(ascending=False)[:20]\n",
    "medals_by_country"
   ]
  },
  {
   "cell_type": "code",
   "execution_count": 16,
   "metadata": {
    "execution": {
     "iopub.execute_input": "2020-10-18T09:59:02.089131Z",
     "iopub.status.busy": "2020-10-18T09:59:02.088039Z",
     "iopub.status.idle": "2020-10-18T09:59:02.358611Z",
     "shell.execute_reply": "2020-10-18T09:59:02.359140Z"
    },
    "papermill": {
     "duration": 0.349602,
     "end_time": "2020-10-18T09:59:02.359302",
     "exception": false,
     "start_time": "2020-10-18T09:59:02.009700",
     "status": "completed"
    },
    "tags": []
   },
   "outputs": [
    {
     "data": {
      "image/png": "[encoded data removed]",
      "text/plain": [
       "<Figure size 1440x432 with 1 Axes>"
      ]
     },
     "metadata": {
      "needs_background": "light"
     },
     "output_type": "display_data"
    }
   ],
   "source": [
    "medals_by_country.plot(kind='bar', figsize=(20,6));"
   ]
  },
  {
   "cell_type": "markdown",
   "metadata": {
    "papermill": {
     "duration": 0.063395,
     "end_time": "2020-10-18T09:59:02.487058",
     "exception": false,
     "start_time": "2020-10-18T09:59:02.423663",
     "status": "completed"
    },
    "tags": []
   },
   "source": [
    "Top 15 countries with maximum number of medals in summer olympics. Usa is at the top with 1992 medals which is followed by Soviet Union with 1021 medals."
   ]
  },
  {
   "cell_type": "markdown",
   "metadata": {
    "papermill": {
     "duration": 0.063423,
     "end_time": "2020-10-18T09:59:02.662978",
     "exception": false,
     "start_time": "2020-10-18T09:59:02.599555",
     "status": "completed"
    },
    "tags": []
   },
   "source": [
    "Lets Explore above chart for top 7 countries..."
   ]
  },
  {
   "cell_type": "code",
   "execution_count": 17,
   "metadata": {
    "execution": {
     "iopub.execute_input": "2020-10-18T09:59:02.856104Z",
     "iopub.status.busy": "2020-10-18T09:59:02.812983Z",
     "iopub.status.idle": "2020-10-18T09:59:03.360151Z",
     "shell.execute_reply": "2020-10-18T09:59:03.359444Z"
    },
    "papermill": {
     "duration": 0.633527,
     "end_time": "2020-10-18T09:59:03.360277",
     "exception": false,
     "start_time": "2020-10-18T09:59:02.726750",
     "status": "completed"
    },
    "tags": []
   },
   "outputs": [
    {
     "data": {
      "image/png": "[encoded data removed]",
      "text/plain": [
       "<Figure size 432x288 with 1 Axes>"
      ]
     },
     "metadata": {
      "needs_background": "light"
     },
     "output_type": "display_data"
    }
   ],
   "source": [
    "fil1=df['Country']=='United States'\n",
    "fil2=df['Country']=='Australia'\n",
    "fil3=df['Country']=='Soviet Union'\n",
    "fil4=df['Country']=='Germany'\n",
    "fil5=df['Country']=='China'\n",
    "fil6=df['Country']=='Russia'\n",
    "fil7=df['Country']=='East Germany'\n",
    "df1=df.where(fil1 | fil2| fil3 | fil4 | fil5 | fil6 | fil7).dropna()\n",
    "df1=df1[['Year','Country','Medal']]\n",
    "df2=df1.groupby(['Country','Year']).agg('count').groupby('Country').cumsum().reset_index()\n",
    "sns.lineplot(data=df2,x='Year',y='Medal',hue='Country')\n",
    "plt.title('Top 7 Countries With The Most Medals')\n",
    "plt.show()"
   ]
  },
  {
   "cell_type": "markdown",
   "metadata": {
    "papermill": {
     "duration": 0.065105,
     "end_time": "2020-10-18T09:59:03.491276",
     "exception": false,
     "start_time": "2020-10-18T09:59:03.426171",
     "status": "completed"
    },
    "tags": []
   },
   "source": [
    "Here we can see that USA continuosly progressing per year in the medal count.\n",
    "\n",
    "And we can clealy see that until 1988 Soviet Union won after that dissolution of the Soviet Union happened...\n",
    "and same for the East Germany...\n",
    "\n",
    "We can see the Russia joined the race which was part of Soviet Union..."
   ]
  },
  {
   "cell_type": "markdown",
   "metadata": {
    "papermill": {
     "duration": 0.065182,
     "end_time": "2020-10-18T09:59:03.622499",
     "exception": false,
     "start_time": "2020-10-18T09:59:03.557317",
     "status": "completed"
    },
    "tags": []
   },
   "source": [
    "Question: Which Sports won the most medals...?"
   ]
  },
  {
   "cell_type": "code",
   "execution_count": 18,
   "metadata": {
    "execution": {
     "iopub.execute_input": "2020-10-18T09:59:03.764286Z",
     "iopub.status.busy": "2020-10-18T09:59:03.763195Z",
     "iopub.status.idle": "2020-10-18T09:59:03.772580Z",
     "shell.execute_reply": "2020-10-18T09:59:03.771915Z"
    },
    "papermill": {
     "duration": 0.084943,
     "end_time": "2020-10-18T09:59:03.772712",
     "exception": false,
     "start_time": "2020-10-18T09:59:03.687769",
     "status": "completed"
    },
    "tags": []
   },
   "outputs": [
    {
     "data": {
      "text/plain": [
       "Sport\n",
       "Aquatics             2210\n",
       "Athletics            1523\n",
       "Rowing               1377\n",
       "Hockey                817\n",
       "Gymnastics            783\n",
       "Handball              780\n",
       "Volleyball            695\n",
       "Canoe / Kayak         672\n",
       "Football              669\n",
       "Basketball            646\n",
       "Fencing               606\n",
       "Wrestling             533\n",
       "Cycling               483\n",
       "Equestrian            423\n",
       "Sailing               417\n",
       "Boxing                416\n",
       "Judo                  396\n",
       "Shooting              345\n",
       "Baseball              335\n",
       "Weightlifting         311\n",
       "Softball              180\n",
       "Archery               162\n",
       "Badminton             120\n",
       "Table Tennis          120\n",
       "Tennis                118\n",
       "Modern Pentathlon      81\n",
       "Taekwondo              80\n",
       "Triathlon              18\n",
       "Name: Medal, dtype: int64"
      ]
     },
     "execution_count": 18,
     "metadata": {},
     "output_type": "execute_result"
    }
   ],
   "source": [
    "medals_in_sports=df.groupby('Sport')['Medal'].count().sort_values(ascending=False)\n",
    "medals_in_sports"
   ]
  },
  {
   "cell_type": "code",
   "execution_count": 19,
   "metadata": {
    "execution": {
     "iopub.execute_input": "2020-10-18T09:59:03.921297Z",
     "iopub.status.busy": "2020-10-18T09:59:03.915587Z",
     "iopub.status.idle": "2020-10-18T09:59:04.230676Z",
     "shell.execute_reply": "2020-10-18T09:59:04.229862Z"
    },
    "papermill": {
     "duration": 0.390593,
     "end_time": "2020-10-18T09:59:04.230805",
     "exception": false,
     "start_time": "2020-10-18T09:59:03.840212",
     "status": "completed"
    },
    "tags": []
   },
   "outputs": [
    {
     "data": {
      "image/png": "[encoded data removed]",
      "text/plain": [
       "<Figure size 1440x432 with 1 Axes>"
      ]
     },
     "metadata": {
      "needs_background": "light"
     },
     "output_type": "display_data"
    }
   ],
   "source": [
    "medals_in_sports.plot(kind='bar', figsize=(20,6));"
   ]
  },
  {
   "cell_type": "markdown",
   "metadata": {
    "papermill": {
     "duration": 0.070654,
     "end_time": "2020-10-18T09:59:04.369902",
     "exception": false,
     "start_time": "2020-10-18T09:59:04.299248",
     "status": "completed"
    },
    "tags": []
   },
   "source": [
    "Aquatics and athletics have maximum participation with maximum number of medals in Aquatics with 2210 medals follwed by Athletics with 1523 medals."
   ]
  },
  {
   "cell_type": "markdown",
   "metadata": {
    "papermill": {
     "duration": 0.067122,
     "end_time": "2020-10-18T09:59:04.504948",
     "exception": false,
     "start_time": "2020-10-18T09:59:04.437826",
     "status": "completed"
    },
    "tags": []
   },
   "source": [
    "Since USA won the most medals, lets explore more for amazing insights..."
   ]
  },
  {
   "cell_type": "markdown",
   "metadata": {
    "papermill": {
     "duration": 0.067003,
     "end_time": "2020-10-18T09:59:04.639848",
     "exception": false,
     "start_time": "2020-10-18T09:59:04.572845",
     "status": "completed"
    },
    "tags": []
   },
   "source": [
    "### USA data Visulatization"
   ]
  },
  {
   "cell_type": "code",
   "execution_count": 20,
   "metadata": {
    "execution": {
     "iopub.execute_input": "2020-10-18T09:59:04.807360Z",
     "iopub.status.busy": "2020-10-18T09:59:04.784072Z",
     "iopub.status.idle": "2020-10-18T09:59:04.812764Z",
     "shell.execute_reply": "2020-10-18T09:59:04.812001Z"
    },
    "papermill": {
     "duration": 0.105177,
     "end_time": "2020-10-18T09:59:04.812898",
     "exception": false,
     "start_time": "2020-10-18T09:59:04.707721",
     "status": "completed"
    },
    "tags": []
   },
   "outputs": [
    {
     "data": {
      "text/html": [
       "<div>\n",
       "<style scoped>\n",
       "    .dataframe tbody tr th:only-of-type {\n",
       "        vertical-align: middle;\n",
       "    }\n",
       "\n",
       "    .dataframe tbody tr th {\n",
       "        vertical-align: top;\n",
       "    }\n",
       "\n",
       "    .dataframe thead th {\n",
       "        text-align: right;\n",
       "    }\n",
       "</style>\n",
       "<table border=\"1\" class=\"dataframe\">\n",
       "  <thead>\n",
       "    <tr style=\"text-align: right;\">\n",
       "      <th></th>\n",
       "      <th>City</th>\n",
       "      <th>Year</th>\n",
       "      <th>Sport</th>\n",
       "      <th>Discipline</th>\n",
       "      <th>Event</th>\n",
       "      <th>Athlete</th>\n",
       "      <th>Gender</th>\n",
       "      <th>Country_Code</th>\n",
       "      <th>Country</th>\n",
       "      <th>Event_gender</th>\n",
       "      <th>Medal</th>\n",
       "    </tr>\n",
       "  </thead>\n",
       "  <tbody>\n",
       "    <tr>\n",
       "      <th>2</th>\n",
       "      <td>Montreal</td>\n",
       "      <td>1976.0</td>\n",
       "      <td>Aquatics</td>\n",
       "      <td>Diving</td>\n",
       "      <td>3m springboard</td>\n",
       "      <td>BOGGS, Philip George</td>\n",
       "      <td>Men</td>\n",
       "      <td>USA</td>\n",
       "      <td>United States</td>\n",
       "      <td>M</td>\n",
       "      <td>Gold</td>\n",
       "    </tr>\n",
       "    <tr>\n",
       "      <th>4</th>\n",
       "      <td>Montreal</td>\n",
       "      <td>1976.0</td>\n",
       "      <td>Aquatics</td>\n",
       "      <td>Diving</td>\n",
       "      <td>10m platform</td>\n",
       "      <td>WILSON, Deborah Keplar</td>\n",
       "      <td>Women</td>\n",
       "      <td>USA</td>\n",
       "      <td>United States</td>\n",
       "      <td>W</td>\n",
       "      <td>Bronze</td>\n",
       "    </tr>\n",
       "    <tr>\n",
       "      <th>5</th>\n",
       "      <td>Montreal</td>\n",
       "      <td>1976.0</td>\n",
       "      <td>Aquatics</td>\n",
       "      <td>Diving</td>\n",
       "      <td>10m platform</td>\n",
       "      <td>LOUGANIS, Gregory</td>\n",
       "      <td>Men</td>\n",
       "      <td>USA</td>\n",
       "      <td>United States</td>\n",
       "      <td>M</td>\n",
       "      <td>Silver</td>\n",
       "    </tr>\n",
       "    <tr>\n",
       "      <th>7</th>\n",
       "      <td>Montreal</td>\n",
       "      <td>1976.0</td>\n",
       "      <td>Aquatics</td>\n",
       "      <td>Diving</td>\n",
       "      <td>3m springboard</td>\n",
       "      <td>POTTER-MCINGVALE, Cynthia</td>\n",
       "      <td>Women</td>\n",
       "      <td>USA</td>\n",
       "      <td>United States</td>\n",
       "      <td>W</td>\n",
       "      <td>Bronze</td>\n",
       "    </tr>\n",
       "    <tr>\n",
       "      <th>11</th>\n",
       "      <td>Montreal</td>\n",
       "      <td>1976.0</td>\n",
       "      <td>Aquatics</td>\n",
       "      <td>Diving</td>\n",
       "      <td>3m springboard</td>\n",
       "      <td>CHANDLER, Jennifer Kay</td>\n",
       "      <td>Women</td>\n",
       "      <td>USA</td>\n",
       "      <td>United States</td>\n",
       "      <td>W</td>\n",
       "      <td>Gold</td>\n",
       "    </tr>\n",
       "    <tr>\n",
       "      <th>...</th>\n",
       "      <td>...</td>\n",
       "      <td>...</td>\n",
       "      <td>...</td>\n",
       "      <td>...</td>\n",
       "      <td>...</td>\n",
       "      <td>...</td>\n",
       "      <td>...</td>\n",
       "      <td>...</td>\n",
       "      <td>...</td>\n",
       "      <td>...</td>\n",
       "      <td>...</td>\n",
       "    </tr>\n",
       "    <tr>\n",
       "      <th>15314</th>\n",
       "      <td>Beijing</td>\n",
       "      <td>2008.0</td>\n",
       "      <td>Volleyball</td>\n",
       "      <td>Volleyball</td>\n",
       "      <td>volleyball</td>\n",
       "      <td>SALMON, Riley</td>\n",
       "      <td>Men</td>\n",
       "      <td>USA</td>\n",
       "      <td>United States</td>\n",
       "      <td>M</td>\n",
       "      <td>Gold</td>\n",
       "    </tr>\n",
       "    <tr>\n",
       "      <th>15316</th>\n",
       "      <td>Beijing</td>\n",
       "      <td>2008.0</td>\n",
       "      <td>Volleyball</td>\n",
       "      <td>Volleyball</td>\n",
       "      <td>volleyball</td>\n",
       "      <td>NNAMANI, Ogonna</td>\n",
       "      <td>Women</td>\n",
       "      <td>USA</td>\n",
       "      <td>United States</td>\n",
       "      <td>W</td>\n",
       "      <td>Silver</td>\n",
       "    </tr>\n",
       "    <tr>\n",
       "      <th>15380</th>\n",
       "      <td>Beijing</td>\n",
       "      <td>2008.0</td>\n",
       "      <td>Wrestling</td>\n",
       "      <td>Wrestling Free.</td>\n",
       "      <td>- 55kg</td>\n",
       "      <td>CEJUDO, Henry</td>\n",
       "      <td>Men</td>\n",
       "      <td>USA</td>\n",
       "      <td>United States</td>\n",
       "      <td>M</td>\n",
       "      <td>Gold</td>\n",
       "    </tr>\n",
       "    <tr>\n",
       "      <th>15398</th>\n",
       "      <td>Beijing</td>\n",
       "      <td>2008.0</td>\n",
       "      <td>Wrestling</td>\n",
       "      <td>Wrestling Free.</td>\n",
       "      <td>55 - 63kg</td>\n",
       "      <td>MILLER, Randi</td>\n",
       "      <td>Women</td>\n",
       "      <td>USA</td>\n",
       "      <td>United States</td>\n",
       "      <td>W</td>\n",
       "      <td>Bronze</td>\n",
       "    </tr>\n",
       "    <tr>\n",
       "      <th>15420</th>\n",
       "      <td>Beijing</td>\n",
       "      <td>2008.0</td>\n",
       "      <td>Wrestling</td>\n",
       "      <td>Wrestling Gre-R</td>\n",
       "      <td>84 - 96kg</td>\n",
       "      <td>WHEELER, Adam</td>\n",
       "      <td>Men</td>\n",
       "      <td>USA</td>\n",
       "      <td>United States</td>\n",
       "      <td>M</td>\n",
       "      <td>Bronze</td>\n",
       "    </tr>\n",
       "  </tbody>\n",
       "</table>\n",
       "<p>1992 rows × 11 columns</p>\n",
       "</div>"
      ],
      "text/plain": [
       "           City    Year       Sport       Discipline           Event  \\\n",
       "2      Montreal  1976.0    Aquatics           Diving  3m springboard   \n",
       "4      Montreal  1976.0    Aquatics           Diving    10m platform   \n",
       "5      Montreal  1976.0    Aquatics           Diving    10m platform   \n",
       "7      Montreal  1976.0    Aquatics           Diving  3m springboard   \n",
       "11     Montreal  1976.0    Aquatics           Diving  3m springboard   \n",
       "...         ...     ...         ...              ...             ...   \n",
       "15314   Beijing  2008.0  Volleyball       Volleyball      volleyball   \n",
       "15316   Beijing  2008.0  Volleyball       Volleyball      volleyball   \n",
       "15380   Beijing  2008.0   Wrestling  Wrestling Free.          - 55kg   \n",
       "15398   Beijing  2008.0   Wrestling  Wrestling Free.       55 - 63kg   \n",
       "15420   Beijing  2008.0   Wrestling  Wrestling Gre-R       84 - 96kg   \n",
       "\n",
       "                         Athlete Gender Country_Code        Country  \\\n",
       "2           BOGGS, Philip George    Men          USA  United States   \n",
       "4         WILSON, Deborah Keplar  Women          USA  United States   \n",
       "5              LOUGANIS, Gregory    Men          USA  United States   \n",
       "7      POTTER-MCINGVALE, Cynthia  Women          USA  United States   \n",
       "11        CHANDLER, Jennifer Kay  Women          USA  United States   \n",
       "...                          ...    ...          ...            ...   \n",
       "15314              SALMON, Riley    Men          USA  United States   \n",
       "15316            NNAMANI, Ogonna  Women          USA  United States   \n",
       "15380              CEJUDO, Henry    Men          USA  United States   \n",
       "15398              MILLER, Randi  Women          USA  United States   \n",
       "15420              WHEELER, Adam    Men          USA  United States   \n",
       "\n",
       "      Event_gender   Medal  \n",
       "2                M    Gold  \n",
       "4                W  Bronze  \n",
       "5                M  Silver  \n",
       "7                W  Bronze  \n",
       "11               W    Gold  \n",
       "...            ...     ...  \n",
       "15314            M    Gold  \n",
       "15316            W  Silver  \n",
       "15380            M    Gold  \n",
       "15398            W  Bronze  \n",
       "15420            M  Bronze  \n",
       "\n",
       "[1992 rows x 11 columns]"
      ]
     },
     "execution_count": 20,
     "metadata": {},
     "output_type": "execute_result"
    }
   ],
   "source": [
    "usa=df[df['Country']=='United States']\n",
    "usa"
   ]
  },
  {
   "cell_type": "markdown",
   "metadata": {
    "papermill": {
     "duration": 0.068263,
     "end_time": "2020-10-18T09:59:04.950571",
     "exception": false,
     "start_time": "2020-10-18T09:59:04.882308",
     "status": "completed"
    },
    "tags": []
   },
   "source": [
    "Question: Which Year won the most medals...?"
   ]
  },
  {
   "cell_type": "code",
   "execution_count": 21,
   "metadata": {
    "execution": {
     "iopub.execute_input": "2020-10-18T09:59:05.099043Z",
     "iopub.status.busy": "2020-10-18T09:59:05.098009Z",
     "iopub.status.idle": "2020-10-18T09:59:05.103031Z",
     "shell.execute_reply": "2020-10-18T09:59:05.102414Z"
    },
    "papermill": {
     "duration": 0.083562,
     "end_time": "2020-10-18T09:59:05.103160",
     "exception": false,
     "start_time": "2020-10-18T09:59:05.019598",
     "status": "completed"
    },
    "tags": []
   },
   "outputs": [
    {
     "data": {
      "text/plain": [
       "Year\n",
       "1976.0    155\n",
       "1984.0    333\n",
       "1988.0    193\n",
       "1992.0    224\n",
       "1996.0    260\n",
       "2000.0    248\n",
       "2004.0    264\n",
       "2008.0    315\n",
       "Name: Medal, dtype: int64"
      ]
     },
     "execution_count": 21,
     "metadata": {},
     "output_type": "execute_result"
    }
   ],
   "source": [
    "usa_medal=usa.groupby('Year')['Medal'].count()\n",
    "usa_medal"
   ]
  },
  {
   "cell_type": "code",
   "execution_count": 22,
   "metadata": {
    "execution": {
     "iopub.execute_input": "2020-10-18T09:59:05.252703Z",
     "iopub.status.busy": "2020-10-18T09:59:05.251891Z",
     "iopub.status.idle": "2020-10-18T09:59:05.420543Z",
     "shell.execute_reply": "2020-10-18T09:59:05.419892Z"
    },
    "papermill": {
     "duration": 0.247439,
     "end_time": "2020-10-18T09:59:05.420676",
     "exception": false,
     "start_time": "2020-10-18T09:59:05.173237",
     "status": "completed"
    },
    "tags": []
   },
   "outputs": [
    {
     "data": {
      "image/png": "[encoded data removed]",
      "text/plain": [
       "<Figure size 432x288 with 1 Axes>"
      ]
     },
     "metadata": {
      "needs_background": "light"
     },
     "output_type": "display_data"
    }
   ],
   "source": [
    "# USA medals by year\n",
    "usa_medal=df[df.Country_Code=='USA']\n",
    "sns.countplot(x=\"Year\", data=usa_medal)\n",
    "plt.title(\"USA Total Medals per Year\")\n",
    "plt.show();"
   ]
  },
  {
   "cell_type": "markdown",
   "metadata": {
    "papermill": {
     "duration": 0.06977,
     "end_time": "2020-10-18T09:59:05.560745",
     "exception": false,
     "start_time": "2020-10-18T09:59:05.490975",
     "status": "completed"
    },
    "tags": []
   },
   "source": [
    "Maximum number of medals won in year 1984 with 333 medals follwed by year 2008 with 315 medals."
   ]
  },
  {
   "cell_type": "markdown",
   "metadata": {
    "papermill": {
     "duration": 0.069573,
     "end_time": "2020-10-18T09:59:05.700517",
     "exception": false,
     "start_time": "2020-10-18T09:59:05.630944",
     "status": "completed"
    },
    "tags": []
   },
   "source": [
    "Quesiton: which medals are the most won by the USA team...?"
   ]
  },
  {
   "cell_type": "code",
   "execution_count": 23,
   "metadata": {
    "execution": {
     "iopub.execute_input": "2020-10-18T09:59:05.847360Z",
     "iopub.status.busy": "2020-10-18T09:59:05.846519Z",
     "iopub.status.idle": "2020-10-18T09:59:05.856558Z",
     "shell.execute_reply": "2020-10-18T09:59:05.855961Z"
    },
    "papermill": {
     "duration": 0.086258,
     "end_time": "2020-10-18T09:59:05.856692",
     "exception": false,
     "start_time": "2020-10-18T09:59:05.770434",
     "status": "completed"
    },
    "tags": []
   },
   "outputs": [
    {
     "data": {
      "text/plain": [
       "Year    Medal \n",
       "1976.0  Gold       63\n",
       "        Silver     56\n",
       "        Bronze     36\n",
       "1984.0  Gold      168\n",
       "        Silver    115\n",
       "        Bronze     50\n",
       "1988.0  Gold       77\n",
       "        Silver     64\n",
       "        Bronze     52\n",
       "1992.0  Gold       89\n",
       "        Bronze     85\n",
       "        Silver     50\n",
       "1996.0  Gold      160\n",
       "        Bronze     52\n",
       "        Silver     48\n",
       "2000.0  Gold      130\n",
       "        Silver     66\n",
       "        Bronze     52\n",
       "2004.0  Gold      116\n",
       "        Silver     75\n",
       "        Bronze     73\n",
       "2008.0  Gold      125\n",
       "        Silver    109\n",
       "        Bronze     81\n",
       "Name: Medal, dtype: int64"
      ]
     },
     "execution_count": 23,
     "metadata": {},
     "output_type": "execute_result"
    }
   ],
   "source": [
    "usa_medal_GSB=usa.groupby('Year')['Medal'].value_counts()\n",
    "usa_medal_GSB"
   ]
  },
  {
   "cell_type": "code",
   "execution_count": 24,
   "metadata": {
    "execution": {
     "iopub.execute_input": "2020-10-18T09:59:06.008383Z",
     "iopub.status.busy": "2020-10-18T09:59:06.005937Z",
     "iopub.status.idle": "2020-10-18T09:59:06.271373Z",
     "shell.execute_reply": "2020-10-18T09:59:06.270604Z"
    },
    "papermill": {
     "duration": 0.342858,
     "end_time": "2020-10-18T09:59:06.271500",
     "exception": false,
     "start_time": "2020-10-18T09:59:05.928642",
     "status": "completed"
    },
    "tags": []
   },
   "outputs": [
    {
     "data": {
      "image/png": "[encoded data removed]",
      "text/plain": [
       "<Figure size 432x288 with 1 Axes>"
      ]
     },
     "metadata": {
      "needs_background": "light"
     },
     "output_type": "display_data"
    }
   ],
   "source": [
    "sns.countplot(usa['Year'],hue=usa['Medal']);"
   ]
  },
  {
   "cell_type": "markdown",
   "metadata": {
    "papermill": {
     "duration": 0.073583,
     "end_time": "2020-10-18T09:59:06.418051",
     "exception": false,
     "start_time": "2020-10-18T09:59:06.344468",
     "status": "completed"
    },
    "tags": []
   },
   "source": [
    "Team USA in 1984 won Gold-- 168, Silver--115 which in most and in 1992 bronze-- 85..."
   ]
  },
  {
   "cell_type": "markdown",
   "metadata": {
    "papermill": {
     "duration": 0.07149,
     "end_time": "2020-10-18T09:59:06.561291",
     "exception": false,
     "start_time": "2020-10-18T09:59:06.489801",
     "status": "completed"
    },
    "tags": []
   },
   "source": [
    "Question: which sport won the most medals...?"
   ]
  },
  {
   "cell_type": "code",
   "execution_count": 25,
   "metadata": {
    "execution": {
     "iopub.execute_input": "2020-10-18T09:59:06.712246Z",
     "iopub.status.busy": "2020-10-18T09:59:06.711490Z",
     "iopub.status.idle": "2020-10-18T09:59:06.721747Z",
     "shell.execute_reply": "2020-10-18T09:59:06.722360Z"
    },
    "papermill": {
     "duration": 0.089449,
     "end_time": "2020-10-18T09:59:06.722523",
     "exception": false,
     "start_time": "2020-10-18T09:59:06.633074",
     "status": "completed"
    },
    "tags": []
   },
   "outputs": [
    {
     "data": {
      "text/plain": [
       "Sport          Medal \n",
       "Aquatics       Gold      279\n",
       "               Silver    197\n",
       "               Bronze    102\n",
       "Archery        Gold        8\n",
       "               Bronze      6\n",
       "                        ... \n",
       "Weightlifting  Silver      2\n",
       "               Gold        1\n",
       "Wrestling      Gold       22\n",
       "               Silver     19\n",
       "               Bronze     16\n",
       "Name: Medal, Length: 65, dtype: int64"
      ]
     },
     "execution_count": 25,
     "metadata": {},
     "output_type": "execute_result"
    }
   ],
   "source": [
    "sports_medals=usa.groupby('Sport')['Medal'].value_counts()\n",
    "sports_medals"
   ]
  },
  {
   "cell_type": "code",
   "execution_count": 26,
   "metadata": {
    "execution": {
     "iopub.execute_input": "2020-10-18T09:59:06.878564Z",
     "iopub.status.busy": "2020-10-18T09:59:06.877727Z",
     "iopub.status.idle": "2020-10-18T09:59:07.424439Z",
     "shell.execute_reply": "2020-10-18T09:59:07.424987Z"
    },
    "papermill": {
     "duration": 0.630183,
     "end_time": "2020-10-18T09:59:07.425158",
     "exception": false,
     "start_time": "2020-10-18T09:59:06.794975",
     "status": "completed"
    },
    "tags": []
   },
   "outputs": [
    {
     "data": {
      "image/png": "[encoded data removed]",
      "text/plain": [
       "<Figure size 1440x432 with 1 Axes>"
      ]
     },
     "metadata": {
      "needs_background": "light"
     },
     "output_type": "display_data"
    }
   ],
   "source": [
    "plt.figure(figsize=(20,6))\n",
    "sns.countplot(usa['Sport'], hue=usa['Medal'])\n",
    "plt.xticks(rotation=90);"
   ]
  },
  {
   "cell_type": "markdown",
   "metadata": {
    "papermill": {
     "duration": 0.074794,
     "end_time": "2020-10-18T09:59:07.574093",
     "exception": false,
     "start_time": "2020-10-18T09:59:07.499299",
     "status": "completed"
    },
    "tags": []
   },
   "source": [
    "Aquatics with highest number of gold medals follwed by Athletics as large number of participants prefer these sports in USA."
   ]
  },
  {
   "cell_type": "markdown",
   "metadata": {
    "papermill": {
     "duration": 0.073169,
     "end_time": "2020-10-18T09:59:07.720943",
     "exception": false,
     "start_time": "2020-10-18T09:59:07.647774",
     "status": "completed"
    },
    "tags": []
   },
   "source": [
    "Question: How the progress based on the Gender per olympic Year...?"
   ]
  },
  {
   "cell_type": "code",
   "execution_count": 27,
   "metadata": {
    "execution": {
     "iopub.execute_input": "2020-10-18T09:59:07.878588Z",
     "iopub.status.busy": "2020-10-18T09:59:07.877793Z",
     "iopub.status.idle": "2020-10-18T09:59:07.887941Z",
     "shell.execute_reply": "2020-10-18T09:59:07.887190Z"
    },
    "papermill": {
     "duration": 0.092858,
     "end_time": "2020-10-18T09:59:07.888075",
     "exception": false,
     "start_time": "2020-10-18T09:59:07.795217",
     "status": "completed"
    },
    "tags": []
   },
   "outputs": [
    {
     "data": {
      "text/plain": [
       "Sport              Gender\n",
       "Aquatics           Men       290\n",
       "                   Women     288\n",
       "Archery            Men        15\n",
       "                   Women       4\n",
       "Athletics          Men       189\n",
       "                   Women     110\n",
       "Baseball           Men        68\n",
       "Basketball         Men        96\n",
       "                   Women      96\n",
       "Boxing             Men        42\n",
       "Canoe / Kayak      Men         7\n",
       "                   Women       3\n",
       "Cycling            Men        23\n",
       "                   Women       9\n",
       "Equestrian         Men        38\n",
       "                   Women      35\n",
       "Fencing            Women      11\n",
       "                   Men         5\n",
       "Football           Women      68\n",
       "Gymnastics         Women      64\n",
       "                   Men        31\n",
       "Hockey             Women      16\n",
       "Judo               Men         8\n",
       "                   Women       1\n",
       "Modern Pentathlon  Men         3\n",
       "                   Women       1\n",
       "Rowing             Men        70\n",
       "                   Women      59\n",
       "Sailing            Men        55\n",
       "                   Women       9\n",
       "Shooting           Men        16\n",
       "                   Women      11\n",
       "Softball           Women      60\n",
       "Taekwondo          Men         4\n",
       "                   Women       2\n",
       "Tennis             Women      16\n",
       "                   Men         8\n",
       "Triathlon          Women       1\n",
       "Volleyball         Men        56\n",
       "                   Women      42\n",
       "Weightlifting      Men         3\n",
       "                   Women       2\n",
       "Wrestling          Men        54\n",
       "                   Women       3\n",
       "Name: Gender, dtype: int64"
      ]
     },
     "execution_count": 27,
     "metadata": {},
     "output_type": "execute_result"
    }
   ],
   "source": [
    "sports_gender=usa.groupby('Sport')['Gender'].value_counts()\n",
    "sports_gender"
   ]
  },
  {
   "cell_type": "code",
   "execution_count": 28,
   "metadata": {
    "execution": {
     "iopub.execute_input": "2020-10-18T09:59:08.046579Z",
     "iopub.status.busy": "2020-10-18T09:59:08.045776Z",
     "iopub.status.idle": "2020-10-18T09:59:08.274999Z",
     "shell.execute_reply": "2020-10-18T09:59:08.274249Z"
    },
    "papermill": {
     "duration": 0.312305,
     "end_time": "2020-10-18T09:59:08.275119",
     "exception": false,
     "start_time": "2020-10-18T09:59:07.962814",
     "status": "completed"
    },
    "tags": []
   },
   "outputs": [
    {
     "data": {
      "image/png": "[encoded data removed]",
      "text/plain": [
       "<Figure size 432x288 with 1 Axes>"
      ]
     },
     "metadata": {
      "needs_background": "light"
     },
     "output_type": "display_data"
    }
   ],
   "source": [
    "sns.countplot(usa['Year'],hue=usa['Gender']);"
   ]
  },
  {
   "cell_type": "markdown",
   "metadata": {
    "papermill": {
     "duration": 0.075408,
     "end_time": "2020-10-18T09:59:08.426096",
     "exception": false,
     "start_time": "2020-10-18T09:59:08.350688",
     "status": "completed"
    },
    "tags": []
   },
   "source": [
    "This visualization also shows that women participation increases as they are also give preference in participation of sports as time progress. In 2008 it is seen that the participation of women take lead in participation in USA."
   ]
  },
  {
   "cell_type": "markdown",
   "metadata": {
    "papermill": {
     "duration": 0.075285,
     "end_time": "2020-10-18T09:59:08.579884",
     "exception": false,
     "start_time": "2020-10-18T09:59:08.504599",
     "status": "completed"
    },
    "tags": []
   },
   "source": [
    "Question: What is the participation based on the Gender per olympic Year...?"
   ]
  },
  {
   "cell_type": "code",
   "execution_count": 29,
   "metadata": {
    "execution": {
     "iopub.execute_input": "2020-10-18T09:59:08.740438Z",
     "iopub.status.busy": "2020-10-18T09:59:08.739610Z",
     "iopub.status.idle": "2020-10-18T09:59:08.749164Z",
     "shell.execute_reply": "2020-10-18T09:59:08.749709Z"
    },
    "papermill": {
     "duration": 0.094695,
     "end_time": "2020-10-18T09:59:08.749877",
     "exception": false,
     "start_time": "2020-10-18T09:59:08.655182",
     "status": "completed"
    },
    "tags": []
   },
   "outputs": [
    {
     "data": {
      "text/plain": [
       "Sport              Gender\n",
       "Aquatics           Men       290\n",
       "                   Women     288\n",
       "Archery            Men        15\n",
       "                   Women       4\n",
       "Athletics          Men       189\n",
       "                   Women     110\n",
       "Baseball           Men        68\n",
       "Basketball         Men        96\n",
       "                   Women      96\n",
       "Boxing             Men        42\n",
       "Canoe / Kayak      Men         7\n",
       "                   Women       3\n",
       "Cycling            Men        23\n",
       "                   Women       9\n",
       "Equestrian         Men        38\n",
       "                   Women      35\n",
       "Fencing            Women      11\n",
       "                   Men         5\n",
       "Football           Women      68\n",
       "Gymnastics         Women      64\n",
       "                   Men        31\n",
       "Hockey             Women      16\n",
       "Judo               Men         8\n",
       "                   Women       1\n",
       "Modern Pentathlon  Men         3\n",
       "                   Women       1\n",
       "Rowing             Men        70\n",
       "                   Women      59\n",
       "Sailing            Men        55\n",
       "                   Women       9\n",
       "Shooting           Men        16\n",
       "                   Women      11\n",
       "Softball           Women      60\n",
       "Taekwondo          Men         4\n",
       "                   Women       2\n",
       "Tennis             Women      16\n",
       "                   Men         8\n",
       "Triathlon          Women       1\n",
       "Volleyball         Men        56\n",
       "                   Women      42\n",
       "Weightlifting      Men         3\n",
       "                   Women       2\n",
       "Wrestling          Men        54\n",
       "                   Women       3\n",
       "Name: Gender, dtype: int64"
      ]
     },
     "execution_count": 29,
     "metadata": {},
     "output_type": "execute_result"
    }
   ],
   "source": [
    "sports_gender=usa.groupby('Sport')['Gender'].value_counts()\n",
    "sports_gender"
   ]
  },
  {
   "cell_type": "code",
   "execution_count": 30,
   "metadata": {
    "execution": {
     "iopub.execute_input": "2020-10-18T09:59:08.910360Z",
     "iopub.status.busy": "2020-10-18T09:59:08.909614Z",
     "iopub.status.idle": "2020-10-18T09:59:09.371689Z",
     "shell.execute_reply": "2020-10-18T09:59:09.370924Z"
    },
    "papermill": {
     "duration": 0.545806,
     "end_time": "2020-10-18T09:59:09.371814",
     "exception": false,
     "start_time": "2020-10-18T09:59:08.826008",
     "status": "completed"
    },
    "tags": []
   },
   "outputs": [
    {
     "data": {
      "image/png": "[encoded data removed]",
      "text/plain": [
       "<Figure size 1440x432 with 1 Axes>"
      ]
     },
     "metadata": {
      "needs_background": "light"
     },
     "output_type": "display_data"
    }
   ],
   "source": [
    "plt.figure(figsize=(20,6))\n",
    "sns.countplot(usa['Sport'], hue=usa['Gender'])\n",
    "plt.xticks(rotation=90);"
   ]
  },
  {
   "cell_type": "markdown",
   "metadata": {
    "papermill": {
     "duration": 0.077182,
     "end_time": "2020-10-18T09:59:09.526711",
     "exception": false,
     "start_time": "2020-10-18T09:59:09.449529",
     "status": "completed"
    },
    "tags": []
   },
   "source": [
    "It looks like aquatics has equal participation from men and women. It looks like Aquatics is mostly famous in sports person."
   ]
  },
  {
   "cell_type": "markdown",
   "metadata": {
    "papermill": {
     "duration": 0.07695,
     "end_time": "2020-10-18T09:59:09.681604",
     "exception": false,
     "start_time": "2020-10-18T09:59:09.604654",
     "status": "completed"
    },
    "tags": []
   },
   "source": [
    "In Conclusion, the USA team is progressing per year and shows the most medals are won in teh year 1992 followed by 2008.\n",
    "\n",
    "also the participation of women are increasing per year.\n",
    "\n",
    "Aquatics is the sport which won the most medals..."
   ]
  },
  {
   "cell_type": "markdown",
   "metadata": {
    "papermill": {
     "duration": 0.077892,
     "end_time": "2020-10-18T09:59:09.836908",
     "exception": false,
     "start_time": "2020-10-18T09:59:09.759016",
     "status": "completed"
    },
    "tags": []
   },
   "source": [
    "Lets Explore the performance of India in Olympics..."
   ]
  },
  {
   "cell_type": "markdown",
   "metadata": {
    "papermill": {
     "duration": 0.077448,
     "end_time": "2020-10-18T09:59:09.993269",
     "exception": false,
     "start_time": "2020-10-18T09:59:09.915821",
     "status": "completed"
    },
    "tags": []
   },
   "source": [
    "### India Data Visualization"
   ]
  },
  {
   "cell_type": "code",
   "execution_count": 31,
   "metadata": {
    "execution": {
     "iopub.execute_input": "2020-10-18T09:59:10.184810Z",
     "iopub.status.busy": "2020-10-18T09:59:10.183804Z",
     "iopub.status.idle": "2020-10-18T09:59:10.188538Z",
     "shell.execute_reply": "2020-10-18T09:59:10.189058Z"
    },
    "papermill": {
     "duration": 0.116456,
     "end_time": "2020-10-18T09:59:10.189219",
     "exception": false,
     "start_time": "2020-10-18T09:59:10.072763",
     "status": "completed"
    },
    "tags": []
   },
   "outputs": [
    {
     "data": {
      "text/html": [
       "<div>\n",
       "<style scoped>\n",
       "    .dataframe tbody tr th:only-of-type {\n",
       "        vertical-align: middle;\n",
       "    }\n",
       "\n",
       "    .dataframe tbody tr th {\n",
       "        vertical-align: top;\n",
       "    }\n",
       "\n",
       "    .dataframe thead th {\n",
       "        text-align: right;\n",
       "    }\n",
       "</style>\n",
       "<table border=\"1\" class=\"dataframe\">\n",
       "  <thead>\n",
       "    <tr style=\"text-align: right;\">\n",
       "      <th></th>\n",
       "      <th>City</th>\n",
       "      <th>Year</th>\n",
       "      <th>Sport</th>\n",
       "      <th>Discipline</th>\n",
       "      <th>Event</th>\n",
       "      <th>Athlete</th>\n",
       "      <th>Gender</th>\n",
       "      <th>Country_Code</th>\n",
       "      <th>Country</th>\n",
       "      <th>Event_gender</th>\n",
       "      <th>Medal</th>\n",
       "    </tr>\n",
       "  </thead>\n",
       "  <tbody>\n",
       "    <tr>\n",
       "      <th>2288</th>\n",
       "      <td>Moscow</td>\n",
       "      <td>1980.0</td>\n",
       "      <td>Hockey</td>\n",
       "      <td>Hockey</td>\n",
       "      <td>hockey</td>\n",
       "      <td>SINGH, Singh</td>\n",
       "      <td>Men</td>\n",
       "      <td>IND</td>\n",
       "      <td>India</td>\n",
       "      <td>M</td>\n",
       "      <td>Gold</td>\n",
       "    </tr>\n",
       "    <tr>\n",
       "      <th>2289</th>\n",
       "      <td>Moscow</td>\n",
       "      <td>1980.0</td>\n",
       "      <td>Hockey</td>\n",
       "      <td>Hockey</td>\n",
       "      <td>hockey</td>\n",
       "      <td>FERNANDES, Mervyn</td>\n",
       "      <td>Men</td>\n",
       "      <td>IND</td>\n",
       "      <td>India</td>\n",
       "      <td>M</td>\n",
       "      <td>Gold</td>\n",
       "    </tr>\n",
       "    <tr>\n",
       "      <th>2294</th>\n",
       "      <td>Moscow</td>\n",
       "      <td>1980.0</td>\n",
       "      <td>Hockey</td>\n",
       "      <td>Hockey</td>\n",
       "      <td>hockey</td>\n",
       "      <td>GURMAIL, Singh</td>\n",
       "      <td>Men</td>\n",
       "      <td>IND</td>\n",
       "      <td>India</td>\n",
       "      <td>M</td>\n",
       "      <td>Gold</td>\n",
       "    </tr>\n",
       "    <tr>\n",
       "      <th>2302</th>\n",
       "      <td>Moscow</td>\n",
       "      <td>1980.0</td>\n",
       "      <td>Hockey</td>\n",
       "      <td>Hockey</td>\n",
       "      <td>hockey</td>\n",
       "      <td>BASKARAN, Baskaran</td>\n",
       "      <td>Men</td>\n",
       "      <td>IND</td>\n",
       "      <td>India</td>\n",
       "      <td>M</td>\n",
       "      <td>Gold</td>\n",
       "    </tr>\n",
       "    <tr>\n",
       "      <th>2303</th>\n",
       "      <td>Moscow</td>\n",
       "      <td>1980.0</td>\n",
       "      <td>Hockey</td>\n",
       "      <td>Hockey</td>\n",
       "      <td>hockey</td>\n",
       "      <td>ZAFAR, Zafar</td>\n",
       "      <td>Men</td>\n",
       "      <td>IND</td>\n",
       "      <td>India</td>\n",
       "      <td>M</td>\n",
       "      <td>Gold</td>\n",
       "    </tr>\n",
       "    <tr>\n",
       "      <th>2313</th>\n",
       "      <td>Moscow</td>\n",
       "      <td>1980.0</td>\n",
       "      <td>Hockey</td>\n",
       "      <td>Hockey</td>\n",
       "      <td>hockey</td>\n",
       "      <td>MOHAMMAD, Shahid</td>\n",
       "      <td>Men</td>\n",
       "      <td>IND</td>\n",
       "      <td>India</td>\n",
       "      <td>M</td>\n",
       "      <td>Gold</td>\n",
       "    </tr>\n",
       "    <tr>\n",
       "      <th>2320</th>\n",
       "      <td>Moscow</td>\n",
       "      <td>1980.0</td>\n",
       "      <td>Hockey</td>\n",
       "      <td>Hockey</td>\n",
       "      <td>hockey</td>\n",
       "      <td>SINGH, Singh</td>\n",
       "      <td>Men</td>\n",
       "      <td>IND</td>\n",
       "      <td>India</td>\n",
       "      <td>M</td>\n",
       "      <td>Gold</td>\n",
       "    </tr>\n",
       "    <tr>\n",
       "      <th>2339</th>\n",
       "      <td>Moscow</td>\n",
       "      <td>1980.0</td>\n",
       "      <td>Hockey</td>\n",
       "      <td>Hockey</td>\n",
       "      <td>hockey</td>\n",
       "      <td>KAUSHIK, Maharaj Krishon</td>\n",
       "      <td>Men</td>\n",
       "      <td>IND</td>\n",
       "      <td>India</td>\n",
       "      <td>M</td>\n",
       "      <td>Gold</td>\n",
       "    </tr>\n",
       "    <tr>\n",
       "      <th>2341</th>\n",
       "      <td>Moscow</td>\n",
       "      <td>1980.0</td>\n",
       "      <td>Hockey</td>\n",
       "      <td>Hockey</td>\n",
       "      <td>hockey</td>\n",
       "      <td>SURINDER, Singh</td>\n",
       "      <td>Men</td>\n",
       "      <td>IND</td>\n",
       "      <td>India</td>\n",
       "      <td>M</td>\n",
       "      <td>Gold</td>\n",
       "    </tr>\n",
       "    <tr>\n",
       "      <th>2347</th>\n",
       "      <td>Moscow</td>\n",
       "      <td>1980.0</td>\n",
       "      <td>Hockey</td>\n",
       "      <td>Hockey</td>\n",
       "      <td>hockey</td>\n",
       "      <td>KUMAR, Charanjit</td>\n",
       "      <td>Men</td>\n",
       "      <td>IND</td>\n",
       "      <td>India</td>\n",
       "      <td>M</td>\n",
       "      <td>Gold</td>\n",
       "    </tr>\n",
       "    <tr>\n",
       "      <th>2348</th>\n",
       "      <td>Moscow</td>\n",
       "      <td>1980.0</td>\n",
       "      <td>Hockey</td>\n",
       "      <td>Hockey</td>\n",
       "      <td>hockey</td>\n",
       "      <td>SYLVANUS, Dung Dung</td>\n",
       "      <td>Men</td>\n",
       "      <td>IND</td>\n",
       "      <td>India</td>\n",
       "      <td>M</td>\n",
       "      <td>Gold</td>\n",
       "    </tr>\n",
       "    <tr>\n",
       "      <th>2350</th>\n",
       "      <td>Moscow</td>\n",
       "      <td>1980.0</td>\n",
       "      <td>Hockey</td>\n",
       "      <td>Hockey</td>\n",
       "      <td>hockey</td>\n",
       "      <td>DEAVINDER, Singh</td>\n",
       "      <td>Men</td>\n",
       "      <td>IND</td>\n",
       "      <td>India</td>\n",
       "      <td>M</td>\n",
       "      <td>Gold</td>\n",
       "    </tr>\n",
       "    <tr>\n",
       "      <th>2370</th>\n",
       "      <td>Moscow</td>\n",
       "      <td>1980.0</td>\n",
       "      <td>Hockey</td>\n",
       "      <td>Hockey</td>\n",
       "      <td>hockey</td>\n",
       "      <td>AMARJIT RANA, Singh</td>\n",
       "      <td>Men</td>\n",
       "      <td>IND</td>\n",
       "      <td>India</td>\n",
       "      <td>M</td>\n",
       "      <td>Gold</td>\n",
       "    </tr>\n",
       "    <tr>\n",
       "      <th>2375</th>\n",
       "      <td>Moscow</td>\n",
       "      <td>1980.0</td>\n",
       "      <td>Hockey</td>\n",
       "      <td>Hockey</td>\n",
       "      <td>hockey</td>\n",
       "      <td>ALLAN, Schofield</td>\n",
       "      <td>Men</td>\n",
       "      <td>IND</td>\n",
       "      <td>India</td>\n",
       "      <td>M</td>\n",
       "      <td>Gold</td>\n",
       "    </tr>\n",
       "    <tr>\n",
       "      <th>2377</th>\n",
       "      <td>Moscow</td>\n",
       "      <td>1980.0</td>\n",
       "      <td>Hockey</td>\n",
       "      <td>Hockey</td>\n",
       "      <td>hockey</td>\n",
       "      <td>CHETTRI, Chettri</td>\n",
       "      <td>Men</td>\n",
       "      <td>IND</td>\n",
       "      <td>India</td>\n",
       "      <td>M</td>\n",
       "      <td>Gold</td>\n",
       "    </tr>\n",
       "    <tr>\n",
       "      <th>2378</th>\n",
       "      <td>Moscow</td>\n",
       "      <td>1980.0</td>\n",
       "      <td>Hockey</td>\n",
       "      <td>Hockey</td>\n",
       "      <td>hockey</td>\n",
       "      <td>MANEYPANDA, Somaya</td>\n",
       "      <td>Men</td>\n",
       "      <td>IND</td>\n",
       "      <td>India</td>\n",
       "      <td>M</td>\n",
       "      <td>Gold</td>\n",
       "    </tr>\n",
       "    <tr>\n",
       "      <th>9191</th>\n",
       "      <td>Atlanta</td>\n",
       "      <td>1996.0</td>\n",
       "      <td>Tennis</td>\n",
       "      <td>Tennis</td>\n",
       "      <td>singles</td>\n",
       "      <td>PAES, Leander</td>\n",
       "      <td>Men</td>\n",
       "      <td>IND</td>\n",
       "      <td>India</td>\n",
       "      <td>M</td>\n",
       "      <td>Bronze</td>\n",
       "    </tr>\n",
       "    <tr>\n",
       "      <th>11324</th>\n",
       "      <td>Sydney</td>\n",
       "      <td>2000.0</td>\n",
       "      <td>Weightlifting</td>\n",
       "      <td>Weightlifting</td>\n",
       "      <td>69kg</td>\n",
       "      <td>MALLESWARI, Karnam</td>\n",
       "      <td>Women</td>\n",
       "      <td>IND</td>\n",
       "      <td>India</td>\n",
       "      <td>W</td>\n",
       "      <td>Bronze</td>\n",
       "    </tr>\n",
       "    <tr>\n",
       "      <th>13051</th>\n",
       "      <td>Athens</td>\n",
       "      <td>2004.0</td>\n",
       "      <td>Shooting</td>\n",
       "      <td>Shooting</td>\n",
       "      <td>double trap (150 targets)</td>\n",
       "      <td>RATHORE, Rajyavardhan S.</td>\n",
       "      <td>Men</td>\n",
       "      <td>IND</td>\n",
       "      <td>India</td>\n",
       "      <td>M</td>\n",
       "      <td>Silver</td>\n",
       "    </tr>\n",
       "    <tr>\n",
       "      <th>14125</th>\n",
       "      <td>Beijing</td>\n",
       "      <td>2008.0</td>\n",
       "      <td>Boxing</td>\n",
       "      <td>Boxing</td>\n",
       "      <td>69 - 75 kg</td>\n",
       "      <td>KUMAR, Vijender</td>\n",
       "      <td>Men</td>\n",
       "      <td>IND</td>\n",
       "      <td>India</td>\n",
       "      <td>M</td>\n",
       "      <td>Bronze</td>\n",
       "    </tr>\n",
       "    <tr>\n",
       "      <th>15073</th>\n",
       "      <td>Beijing</td>\n",
       "      <td>2008.0</td>\n",
       "      <td>Shooting</td>\n",
       "      <td>Shooting</td>\n",
       "      <td>10m air rifle (60 shots)</td>\n",
       "      <td>BINDRA, Abhinav</td>\n",
       "      <td>Men</td>\n",
       "      <td>IND</td>\n",
       "      <td>India</td>\n",
       "      <td>M</td>\n",
       "      <td>Gold</td>\n",
       "    </tr>\n",
       "    <tr>\n",
       "      <th>15389</th>\n",
       "      <td>Beijing</td>\n",
       "      <td>2008.0</td>\n",
       "      <td>Wrestling</td>\n",
       "      <td>Wrestling Free.</td>\n",
       "      <td>60 - 66kg</td>\n",
       "      <td>KUMAR, Sushil</td>\n",
       "      <td>Men</td>\n",
       "      <td>IND</td>\n",
       "      <td>India</td>\n",
       "      <td>M</td>\n",
       "      <td>Bronze</td>\n",
       "    </tr>\n",
       "  </tbody>\n",
       "</table>\n",
       "</div>"
      ],
      "text/plain": [
       "          City    Year          Sport       Discipline  \\\n",
       "2288    Moscow  1980.0         Hockey           Hockey   \n",
       "2289    Moscow  1980.0         Hockey           Hockey   \n",
       "2294    Moscow  1980.0         Hockey           Hockey   \n",
       "2302    Moscow  1980.0         Hockey           Hockey   \n",
       "2303    Moscow  1980.0         Hockey           Hockey   \n",
       "2313    Moscow  1980.0         Hockey           Hockey   \n",
       "2320    Moscow  1980.0         Hockey           Hockey   \n",
       "2339    Moscow  1980.0         Hockey           Hockey   \n",
       "2341    Moscow  1980.0         Hockey           Hockey   \n",
       "2347    Moscow  1980.0         Hockey           Hockey   \n",
       "2348    Moscow  1980.0         Hockey           Hockey   \n",
       "2350    Moscow  1980.0         Hockey           Hockey   \n",
       "2370    Moscow  1980.0         Hockey           Hockey   \n",
       "2375    Moscow  1980.0         Hockey           Hockey   \n",
       "2377    Moscow  1980.0         Hockey           Hockey   \n",
       "2378    Moscow  1980.0         Hockey           Hockey   \n",
       "9191   Atlanta  1996.0         Tennis           Tennis   \n",
       "11324   Sydney  2000.0  Weightlifting    Weightlifting   \n",
       "13051   Athens  2004.0       Shooting         Shooting   \n",
       "14125  Beijing  2008.0         Boxing           Boxing   \n",
       "15073  Beijing  2008.0       Shooting         Shooting   \n",
       "15389  Beijing  2008.0      Wrestling  Wrestling Free.   \n",
       "\n",
       "                           Event                   Athlete Gender  \\\n",
       "2288                      hockey              SINGH, Singh    Men   \n",
       "2289                      hockey         FERNANDES, Mervyn    Men   \n",
       "2294                      hockey            GURMAIL, Singh    Men   \n",
       "2302                      hockey        BASKARAN, Baskaran    Men   \n",
       "2303                      hockey              ZAFAR, Zafar    Men   \n",
       "2313                      hockey          MOHAMMAD, Shahid    Men   \n",
       "2320                      hockey              SINGH, Singh    Men   \n",
       "2339                      hockey  KAUSHIK, Maharaj Krishon    Men   \n",
       "2341                      hockey           SURINDER, Singh    Men   \n",
       "2347                      hockey          KUMAR, Charanjit    Men   \n",
       "2348                      hockey       SYLVANUS, Dung Dung    Men   \n",
       "2350                      hockey          DEAVINDER, Singh    Men   \n",
       "2370                      hockey       AMARJIT RANA, Singh    Men   \n",
       "2375                      hockey          ALLAN, Schofield    Men   \n",
       "2377                      hockey          CHETTRI, Chettri    Men   \n",
       "2378                      hockey        MANEYPANDA, Somaya    Men   \n",
       "9191                     singles             PAES, Leander    Men   \n",
       "11324                       69kg        MALLESWARI, Karnam  Women   \n",
       "13051  double trap (150 targets)  RATHORE, Rajyavardhan S.    Men   \n",
       "14125                 69 - 75 kg           KUMAR, Vijender    Men   \n",
       "15073   10m air rifle (60 shots)           BINDRA, Abhinav    Men   \n",
       "15389                  60 - 66kg             KUMAR, Sushil    Men   \n",
       "\n",
       "      Country_Code Country Event_gender   Medal  \n",
       "2288           IND   India            M    Gold  \n",
       "2289           IND   India            M    Gold  \n",
       "2294           IND   India            M    Gold  \n",
       "2302           IND   India            M    Gold  \n",
       "2303           IND   India            M    Gold  \n",
       "2313           IND   India            M    Gold  \n",
       "2320           IND   India            M    Gold  \n",
       "2339           IND   India            M    Gold  \n",
       "2341           IND   India            M    Gold  \n",
       "2347           IND   India            M    Gold  \n",
       "2348           IND   India            M    Gold  \n",
       "2350           IND   India            M    Gold  \n",
       "2370           IND   India            M    Gold  \n",
       "2375           IND   India            M    Gold  \n",
       "2377           IND   India            M    Gold  \n",
       "2378           IND   India            M    Gold  \n",
       "9191           IND   India            M  Bronze  \n",
       "11324          IND   India            W  Bronze  \n",
       "13051          IND   India            M  Silver  \n",
       "14125          IND   India            M  Bronze  \n",
       "15073          IND   India            M    Gold  \n",
       "15389          IND   India            M  Bronze  "
      ]
     },
     "execution_count": 31,
     "metadata": {},
     "output_type": "execute_result"
    }
   ],
   "source": [
    "India=df[df['Country']=='India']\n",
    "India"
   ]
  },
  {
   "cell_type": "markdown",
   "metadata": {
    "papermill": {
     "duration": 0.079578,
     "end_time": "2020-10-18T09:59:10.348497",
     "exception": false,
     "start_time": "2020-10-18T09:59:10.268919",
     "status": "completed"
    },
    "tags": []
   },
   "source": [
    "Question: Which Year won the most medals...?"
   ]
  },
  {
   "cell_type": "code",
   "execution_count": 32,
   "metadata": {
    "execution": {
     "iopub.execute_input": "2020-10-18T09:59:10.515780Z",
     "iopub.status.busy": "2020-10-18T09:59:10.514890Z",
     "iopub.status.idle": "2020-10-18T09:59:10.518646Z",
     "shell.execute_reply": "2020-10-18T09:59:10.519347Z"
    },
    "papermill": {
     "duration": 0.091885,
     "end_time": "2020-10-18T09:59:10.519501",
     "exception": false,
     "start_time": "2020-10-18T09:59:10.427616",
     "status": "completed"
    },
    "tags": []
   },
   "outputs": [
    {
     "data": {
      "text/plain": [
       "Year\n",
       "1980.0    16\n",
       "1996.0     1\n",
       "2000.0     1\n",
       "2004.0     1\n",
       "2008.0     3\n",
       "Name: Medal, dtype: int64"
      ]
     },
     "execution_count": 32,
     "metadata": {},
     "output_type": "execute_result"
    }
   ],
   "source": [
    "india_total_medals=India.groupby('Year')['Medal'].count()\n",
    "india_total_medals"
   ]
  },
  {
   "cell_type": "code",
   "execution_count": 33,
   "metadata": {
    "execution": {
     "iopub.execute_input": "2020-10-18T09:59:10.693676Z",
     "iopub.status.busy": "2020-10-18T09:59:10.692885Z",
     "iopub.status.idle": "2020-10-18T09:59:10.837681Z",
     "shell.execute_reply": "2020-10-18T09:59:10.836913Z"
    },
    "papermill": {
     "duration": 0.23859,
     "end_time": "2020-10-18T09:59:10.837823",
     "exception": false,
     "start_time": "2020-10-18T09:59:10.599233",
     "status": "completed"
    },
    "tags": []
   },
   "outputs": [
    {
     "data": {
      "image/png": "[encoded data removed]",
      "text/plain": [
       "<Figure size 432x288 with 1 Axes>"
      ]
     },
     "metadata": {
      "needs_background": "light"
     },
     "output_type": "display_data"
    }
   ],
   "source": [
    "india_total_medals.plot(kind='bar');"
   ]
  },
  {
   "cell_type": "markdown",
   "metadata": {
    "papermill": {
     "duration": 0.079721,
     "end_time": "2020-10-18T09:59:10.999117",
     "exception": false,
     "start_time": "2020-10-18T09:59:10.919396",
     "status": "completed"
    },
    "tags": []
   },
   "source": [
    "India won 16 medals in 1980 and after that 3 medals in 2008."
   ]
  },
  {
   "cell_type": "markdown",
   "metadata": {
    "papermill": {
     "duration": 0.08108,
     "end_time": "2020-10-18T09:59:11.161297",
     "exception": false,
     "start_time": "2020-10-18T09:59:11.080217",
     "status": "completed"
    },
    "tags": []
   },
   "source": [
    "Quesiton: which medals are the most won by the India team...?"
   ]
  },
  {
   "cell_type": "code",
   "execution_count": 34,
   "metadata": {
    "execution": {
     "iopub.execute_input": "2020-10-18T09:59:11.347799Z",
     "iopub.status.busy": "2020-10-18T09:59:11.343376Z",
     "iopub.status.idle": "2020-10-18T09:59:11.648144Z",
     "shell.execute_reply": "2020-10-18T09:59:11.647364Z"
    },
    "papermill": {
     "duration": 0.406116,
     "end_time": "2020-10-18T09:59:11.648277",
     "exception": false,
     "start_time": "2020-10-18T09:59:11.242161",
     "status": "completed"
    },
    "tags": []
   },
   "outputs": [
    {
     "data": {
      "image/png": "[encoded data removed]",
      "text/plain": [
       "<Figure size 432x288 with 1 Axes>"
      ]
     },
     "metadata": {
      "needs_background": "light"
     },
     "output_type": "display_data"
    }
   ],
   "source": [
    "sns.countplot(India['Year'], hue=India['Medal']);"
   ]
  },
  {
   "cell_type": "markdown",
   "metadata": {
    "papermill": {
     "duration": 0.101283,
     "end_time": "2020-10-18T09:59:11.839398",
     "exception": false,
     "start_time": "2020-10-18T09:59:11.738115",
     "status": "completed"
    },
    "tags": []
   },
   "source": [
    "In Year 1980 India won the most gold medals..."
   ]
  },
  {
   "cell_type": "markdown",
   "metadata": {
    "papermill": {
     "duration": 0.081608,
     "end_time": "2020-10-18T09:59:12.006881",
     "exception": false,
     "start_time": "2020-10-18T09:59:11.925273",
     "status": "completed"
    },
    "tags": []
   },
   "source": [
    "Quesiton: Medals won based on Gender in the India team...?"
   ]
  },
  {
   "cell_type": "code",
   "execution_count": 35,
   "metadata": {
    "execution": {
     "iopub.execute_input": "2020-10-18T09:59:12.200078Z",
     "iopub.status.busy": "2020-10-18T09:59:12.197199Z",
     "iopub.status.idle": "2020-10-18T09:59:12.380551Z",
     "shell.execute_reply": "2020-10-18T09:59:12.379778Z"
    },
    "papermill": {
     "duration": 0.286752,
     "end_time": "2020-10-18T09:59:12.380681",
     "exception": false,
     "start_time": "2020-10-18T09:59:12.093929",
     "status": "completed"
    },
    "tags": []
   },
   "outputs": [
    {
     "data": {
      "image/png": "[encoded data removed]",
      "text/plain": [
       "<Figure size 432x288 with 1 Axes>"
      ]
     },
     "metadata": {
      "needs_background": "light"
     },
     "output_type": "display_data"
    }
   ],
   "source": [
    "sns.countplot(India['Year'], hue=India['Gender']);"
   ]
  },
  {
   "cell_type": "markdown",
   "metadata": {
    "papermill": {
     "duration": 0.082057,
     "end_time": "2020-10-18T09:59:12.545724",
     "exception": false,
     "start_time": "2020-10-18T09:59:12.463667",
     "status": "completed"
    },
    "tags": []
   },
   "source": [
    "Here we can see that the India team is male dominant and not a significant contribution of women..."
   ]
  },
  {
   "cell_type": "markdown",
   "metadata": {
    "papermill": {
     "duration": 0.081926,
     "end_time": "2020-10-18T09:59:12.711414",
     "exception": false,
     "start_time": "2020-10-18T09:59:12.629488",
     "status": "completed"
    },
    "tags": []
   },
   "source": [
    "Question: Which sport won medals based on Gender....?"
   ]
  },
  {
   "cell_type": "code",
   "execution_count": 36,
   "metadata": {
    "execution": {
     "iopub.execute_input": "2020-10-18T09:59:12.895651Z",
     "iopub.status.busy": "2020-10-18T09:59:12.884943Z",
     "iopub.status.idle": "2020-10-18T09:59:13.099788Z",
     "shell.execute_reply": "2020-10-18T09:59:13.098853Z"
    },
    "papermill": {
     "duration": 0.306358,
     "end_time": "2020-10-18T09:59:13.099976",
     "exception": false,
     "start_time": "2020-10-18T09:59:12.793618",
     "status": "completed"
    },
    "tags": []
   },
   "outputs": [
    {
     "data": {
      "image/png": "[encoded data removed]",
      "text/plain": [
       "<Figure size 432x288 with 1 Axes>"
      ]
     },
     "metadata": {
      "needs_background": "light"
     },
     "output_type": "display_data"
    }
   ],
   "source": [
    "sns.countplot(India['Sport'], hue=India['Gender']);"
   ]
  },
  {
   "cell_type": "markdown",
   "metadata": {
    "papermill": {
     "duration": 0.083038,
     "end_time": "2020-10-18T09:59:13.267749",
     "exception": false,
     "start_time": "2020-10-18T09:59:13.184711",
     "status": "completed"
    },
    "tags": []
   },
   "source": [
    "Mens Hockey team won the most medals, followed by Shooting and Weightlifting which has women contribution..."
   ]
  },
  {
   "cell_type": "markdown",
   "metadata": {
    "papermill": {
     "duration": 0.082669,
     "end_time": "2020-10-18T09:59:13.433369",
     "exception": false,
     "start_time": "2020-10-18T09:59:13.350700",
     "status": "completed"
    },
    "tags": []
   },
   "source": [
    "### Inferences:\n",
    "\n",
    "As the GDP increases the Medal won by the participating country increase except India...\n",
    "\n",
    "Participation of women is incresing per year...\n",
    "\n",
    "Aquatics, athletics, rowing and hockey are the sports with the most medal won..."
   ]
  },
  {
   "cell_type": "code",
   "execution_count": null,
   "metadata": {
    "papermill": {
     "duration": 0.082766,
     "end_time": "2020-10-18T09:59:13.598992",
     "exception": false,
     "start_time": "2020-10-18T09:59:13.516226",
     "status": "completed"
    },
    "tags": []
   },
   "outputs": [],
   "source": []
  }
 ],
 "metadata": {
  "kernelspec": {
   "display_name": "Python 3",
   "language": "python",
   "name": "python3"
  },
  "language_info": {
   "codemirror_mode": {
    "name": "ipython",
    "version": 3
   },
   "file_extension": ".py",
   "mimetype": "text/x-python",
   "name": "python",
   "nbconvert_exporter": "python",
   "pygments_lexer": "ipython3",
   "version": "3.7.6"
  },
  "papermill": {
   "duration": 22.691204,
   "end_time": "2020-10-18T09:59:13.790422",
   "environment_variables": {},
   "exception": null,
   "input_path": "__notebook__.ipynb",
   "output_path": "__notebook__.ipynb",
   "parameters": {},
   "start_time": "2020-10-18T09:58:51.099218",
   "version": "2.1.0"
  }
 },
 "nbformat": 4,
 "nbformat_minor": 4
}
