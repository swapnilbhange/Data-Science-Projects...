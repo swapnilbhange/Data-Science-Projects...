{
 "cells": [
  {
   "cell_type": "markdown",
   "metadata": {
    "papermill": {
     "duration": 0.051256,
     "end_time": "2020-11-06T13:31:49.306108",
     "exception": false,
     "start_time": "2020-11-06T13:31:49.254852",
     "status": "completed"
    },
    "tags": []
   },
   "source": [
    "Importing Necessary Libraries..."
   ]
  },
  {
   "cell_type": "code",
   "execution_count": 1,
   "metadata": {
    "execution": {
     "iopub.execute_input": "2020-11-06T13:31:49.412016Z",
     "iopub.status.busy": "2020-11-06T13:31:49.411057Z",
     "iopub.status.idle": "2020-11-06T13:31:49.414381Z",
     "shell.execute_reply": "2020-11-06T13:31:49.413592Z"
    },
    "papermill": {
     "duration": 0.058682,
     "end_time": "2020-11-06T13:31:49.414542",
     "exception": false,
     "start_time": "2020-11-06T13:31:49.355860",
     "status": "completed"
    },
    "tags": []
   },
   "outputs": [],
   "source": [
    "import pandas as pd\n",
    "import numpy as np"
   ]
  },
  {
   "cell_type": "markdown",
   "metadata": {
    "papermill": {
     "duration": 0.049014,
     "end_time": "2020-11-06T13:31:49.513571",
     "exception": false,
     "start_time": "2020-11-06T13:31:49.464557",
     "status": "completed"
    },
    "tags": []
   },
   "source": [
    "Importing Datasets..."
   ]
  },
  {
   "cell_type": "code",
   "execution_count": 2,
   "metadata": {
    "execution": {
     "iopub.execute_input": "2020-11-06T13:31:49.620666Z",
     "iopub.status.busy": "2020-11-06T13:31:49.619898Z",
     "iopub.status.idle": "2020-11-06T13:31:49.632135Z",
     "shell.execute_reply": "2020-11-06T13:31:49.631328Z"
    },
    "papermill": {
     "duration": 0.069225,
     "end_time": "2020-11-06T13:31:49.632271",
     "exception": false,
     "start_time": "2020-11-06T13:31:49.563046",
     "status": "completed"
    },
    "tags": []
   },
   "outputs": [],
   "source": [
    "df = pd.read_csv('../input/titanic/train.csv')"
   ]
  },
  {
   "cell_type": "code",
   "execution_count": 3,
   "metadata": {
    "execution": {
     "iopub.execute_input": "2020-11-06T13:31:49.738289Z",
     "iopub.status.busy": "2020-11-06T13:31:49.737485Z",
     "iopub.status.idle": "2020-11-06T13:31:49.746150Z",
     "shell.execute_reply": "2020-11-06T13:31:49.745524Z"
    },
    "papermill": {
     "duration": 0.063697,
     "end_time": "2020-11-06T13:31:49.746284",
     "exception": false,
     "start_time": "2020-11-06T13:31:49.682587",
     "status": "completed"
    },
    "tags": []
   },
   "outputs": [],
   "source": [
    "test = pd.read_csv('../input/titanic/test.csv')"
   ]
  },
  {
   "cell_type": "code",
   "execution_count": 4,
   "metadata": {
    "execution": {
     "iopub.execute_input": "2020-11-06T13:31:49.871272Z",
     "iopub.status.busy": "2020-11-06T13:31:49.864618Z",
     "iopub.status.idle": "2020-11-06T13:31:49.885257Z",
     "shell.execute_reply": "2020-11-06T13:31:49.884584Z"
    },
    "papermill": {
     "duration": 0.088302,
     "end_time": "2020-11-06T13:31:49.885378",
     "exception": false,
     "start_time": "2020-11-06T13:31:49.797076",
     "status": "completed"
    },
    "tags": []
   },
   "outputs": [
    {
     "data": {
      "text/html": [
       "<div>\n",
       "<style scoped>\n",
       "    .dataframe tbody tr th:only-of-type {\n",
       "        vertical-align: middle;\n",
       "    }\n",
       "\n",
       "    .dataframe tbody tr th {\n",
       "        vertical-align: top;\n",
       "    }\n",
       "\n",
       "    .dataframe thead th {\n",
       "        text-align: right;\n",
       "    }\n",
       "</style>\n",
       "<table border=\"1\" class=\"dataframe\">\n",
       "  <thead>\n",
       "    <tr style=\"text-align: right;\">\n",
       "      <th></th>\n",
       "      <th>PassengerId</th>\n",
       "      <th>Survived</th>\n",
       "      <th>Pclass</th>\n",
       "      <th>Name</th>\n",
       "      <th>Sex</th>\n",
       "      <th>Age</th>\n",
       "      <th>SibSp</th>\n",
       "      <th>Parch</th>\n",
       "      <th>Ticket</th>\n",
       "      <th>Fare</th>\n",
       "      <th>Cabin</th>\n",
       "      <th>Embarked</th>\n",
       "    </tr>\n",
       "  </thead>\n",
       "  <tbody>\n",
       "    <tr>\n",
       "      <th>0</th>\n",
       "      <td>1</td>\n",
       "      <td>0</td>\n",
       "      <td>3</td>\n",
       "      <td>Braund, Mr. Owen Harris</td>\n",
       "      <td>male</td>\n",
       "      <td>22.0</td>\n",
       "      <td>1</td>\n",
       "      <td>0</td>\n",
       "      <td>A/5 21171</td>\n",
       "      <td>7.2500</td>\n",
       "      <td>NaN</td>\n",
       "      <td>S</td>\n",
       "    </tr>\n",
       "    <tr>\n",
       "      <th>1</th>\n",
       "      <td>2</td>\n",
       "      <td>1</td>\n",
       "      <td>1</td>\n",
       "      <td>Cumings, Mrs. John Bradley (Florence Briggs Th...</td>\n",
       "      <td>female</td>\n",
       "      <td>38.0</td>\n",
       "      <td>1</td>\n",
       "      <td>0</td>\n",
       "      <td>PC 17599</td>\n",
       "      <td>71.2833</td>\n",
       "      <td>C85</td>\n",
       "      <td>C</td>\n",
       "    </tr>\n",
       "    <tr>\n",
       "      <th>2</th>\n",
       "      <td>3</td>\n",
       "      <td>1</td>\n",
       "      <td>3</td>\n",
       "      <td>Heikkinen, Miss. Laina</td>\n",
       "      <td>female</td>\n",
       "      <td>26.0</td>\n",
       "      <td>0</td>\n",
       "      <td>0</td>\n",
       "      <td>STON/O2. 3101282</td>\n",
       "      <td>7.9250</td>\n",
       "      <td>NaN</td>\n",
       "      <td>S</td>\n",
       "    </tr>\n",
       "    <tr>\n",
       "      <th>3</th>\n",
       "      <td>4</td>\n",
       "      <td>1</td>\n",
       "      <td>1</td>\n",
       "      <td>Futrelle, Mrs. Jacques Heath (Lily May Peel)</td>\n",
       "      <td>female</td>\n",
       "      <td>35.0</td>\n",
       "      <td>1</td>\n",
       "      <td>0</td>\n",
       "      <td>113803</td>\n",
       "      <td>53.1000</td>\n",
       "      <td>C123</td>\n",
       "      <td>S</td>\n",
       "    </tr>\n",
       "    <tr>\n",
       "      <th>4</th>\n",
       "      <td>5</td>\n",
       "      <td>0</td>\n",
       "      <td>3</td>\n",
       "      <td>Allen, Mr. William Henry</td>\n",
       "      <td>male</td>\n",
       "      <td>35.0</td>\n",
       "      <td>0</td>\n",
       "      <td>0</td>\n",
       "      <td>373450</td>\n",
       "      <td>8.0500</td>\n",
       "      <td>NaN</td>\n",
       "      <td>S</td>\n",
       "    </tr>\n",
       "  </tbody>\n",
       "</table>\n",
       "</div>"
      ],
      "text/plain": [
       "   PassengerId  Survived  Pclass  \\\n",
       "0            1         0       3   \n",
       "1            2         1       1   \n",
       "2            3         1       3   \n",
       "3            4         1       1   \n",
       "4            5         0       3   \n",
       "\n",
       "                                                Name     Sex   Age  SibSp  \\\n",
       "0                            Braund, Mr. Owen Harris    male  22.0      1   \n",
       "1  Cumings, Mrs. John Bradley (Florence Briggs Th...  female  38.0      1   \n",
       "2                             Heikkinen, Miss. Laina  female  26.0      0   \n",
       "3       Futrelle, Mrs. Jacques Heath (Lily May Peel)  female  35.0      1   \n",
       "4                           Allen, Mr. William Henry    male  35.0      0   \n",
       "\n",
       "   Parch            Ticket     Fare Cabin Embarked  \n",
       "0      0         A/5 21171   7.2500   NaN        S  \n",
       "1      0          PC 17599  71.2833   C85        C  \n",
       "2      0  STON/O2. 3101282   7.9250   NaN        S  \n",
       "3      0            113803  53.1000  C123        S  \n",
       "4      0            373450   8.0500   NaN        S  "
      ]
     },
     "execution_count": 4,
     "metadata": {},
     "output_type": "execute_result"
    }
   ],
   "source": [
    "df.head()"
   ]
  },
  {
   "cell_type": "markdown",
   "metadata": {
    "papermill": {
     "duration": 0.052975,
     "end_time": "2020-11-06T13:31:49.992530",
     "exception": false,
     "start_time": "2020-11-06T13:31:49.939555",
     "status": "completed"
    },
    "tags": []
   },
   "source": [
    "- SibSp - sibling spouse - count of spouse and siblings\n",
    "- Parch - parent child - count of parents and children\n",
    "- We need to predict whether a passenger has survived or not."
   ]
  },
  {
   "cell_type": "markdown",
   "metadata": {
    "papermill": {
     "duration": 0.051222,
     "end_time": "2020-11-06T13:31:50.095451",
     "exception": false,
     "start_time": "2020-11-06T13:31:50.044229",
     "status": "completed"
    },
    "tags": []
   },
   "source": [
    "## Missing Data"
   ]
  },
  {
   "cell_type": "code",
   "execution_count": 5,
   "metadata": {
    "execution": {
     "iopub.execute_input": "2020-11-06T13:31:50.205151Z",
     "iopub.status.busy": "2020-11-06T13:31:50.204016Z",
     "iopub.status.idle": "2020-11-06T13:31:50.207402Z",
     "shell.execute_reply": "2020-11-06T13:31:50.206669Z"
    },
    "papermill": {
     "duration": 0.058885,
     "end_time": "2020-11-06T13:31:50.207569",
     "exception": false,
     "start_time": "2020-11-06T13:31:50.148684",
     "status": "completed"
    },
    "tags": []
   },
   "outputs": [],
   "source": [
    "## Find out how many Nan values are there"
   ]
  },
  {
   "cell_type": "code",
   "execution_count": 6,
   "metadata": {
    "execution": {
     "iopub.execute_input": "2020-11-06T13:31:50.331152Z",
     "iopub.status.busy": "2020-11-06T13:31:50.330238Z",
     "iopub.status.idle": "2020-11-06T13:31:50.335439Z",
     "shell.execute_reply": "2020-11-06T13:31:50.334644Z"
    },
    "papermill": {
     "duration": 0.076611,
     "end_time": "2020-11-06T13:31:50.335597",
     "exception": false,
     "start_time": "2020-11-06T13:31:50.258986",
     "status": "completed"
    },
    "tags": []
   },
   "outputs": [
    {
     "data": {
      "text/html": [
       "<div>\n",
       "<style scoped>\n",
       "    .dataframe tbody tr th:only-of-type {\n",
       "        vertical-align: middle;\n",
       "    }\n",
       "\n",
       "    .dataframe tbody tr th {\n",
       "        vertical-align: top;\n",
       "    }\n",
       "\n",
       "    .dataframe thead th {\n",
       "        text-align: right;\n",
       "    }\n",
       "</style>\n",
       "<table border=\"1\" class=\"dataframe\">\n",
       "  <thead>\n",
       "    <tr style=\"text-align: right;\">\n",
       "      <th></th>\n",
       "      <th>PassengerId</th>\n",
       "      <th>Survived</th>\n",
       "      <th>Pclass</th>\n",
       "      <th>Name</th>\n",
       "      <th>Sex</th>\n",
       "      <th>Age</th>\n",
       "      <th>SibSp</th>\n",
       "      <th>Parch</th>\n",
       "      <th>Ticket</th>\n",
       "      <th>Fare</th>\n",
       "      <th>Cabin</th>\n",
       "      <th>Embarked</th>\n",
       "    </tr>\n",
       "  </thead>\n",
       "  <tbody>\n",
       "    <tr>\n",
       "      <th>0</th>\n",
       "      <td>False</td>\n",
       "      <td>False</td>\n",
       "      <td>False</td>\n",
       "      <td>False</td>\n",
       "      <td>False</td>\n",
       "      <td>False</td>\n",
       "      <td>False</td>\n",
       "      <td>False</td>\n",
       "      <td>False</td>\n",
       "      <td>False</td>\n",
       "      <td>True</td>\n",
       "      <td>False</td>\n",
       "    </tr>\n",
       "    <tr>\n",
       "      <th>1</th>\n",
       "      <td>False</td>\n",
       "      <td>False</td>\n",
       "      <td>False</td>\n",
       "      <td>False</td>\n",
       "      <td>False</td>\n",
       "      <td>False</td>\n",
       "      <td>False</td>\n",
       "      <td>False</td>\n",
       "      <td>False</td>\n",
       "      <td>False</td>\n",
       "      <td>False</td>\n",
       "      <td>False</td>\n",
       "    </tr>\n",
       "    <tr>\n",
       "      <th>2</th>\n",
       "      <td>False</td>\n",
       "      <td>False</td>\n",
       "      <td>False</td>\n",
       "      <td>False</td>\n",
       "      <td>False</td>\n",
       "      <td>False</td>\n",
       "      <td>False</td>\n",
       "      <td>False</td>\n",
       "      <td>False</td>\n",
       "      <td>False</td>\n",
       "      <td>True</td>\n",
       "      <td>False</td>\n",
       "    </tr>\n",
       "    <tr>\n",
       "      <th>3</th>\n",
       "      <td>False</td>\n",
       "      <td>False</td>\n",
       "      <td>False</td>\n",
       "      <td>False</td>\n",
       "      <td>False</td>\n",
       "      <td>False</td>\n",
       "      <td>False</td>\n",
       "      <td>False</td>\n",
       "      <td>False</td>\n",
       "      <td>False</td>\n",
       "      <td>False</td>\n",
       "      <td>False</td>\n",
       "    </tr>\n",
       "    <tr>\n",
       "      <th>4</th>\n",
       "      <td>False</td>\n",
       "      <td>False</td>\n",
       "      <td>False</td>\n",
       "      <td>False</td>\n",
       "      <td>False</td>\n",
       "      <td>False</td>\n",
       "      <td>False</td>\n",
       "      <td>False</td>\n",
       "      <td>False</td>\n",
       "      <td>False</td>\n",
       "      <td>True</td>\n",
       "      <td>False</td>\n",
       "    </tr>\n",
       "  </tbody>\n",
       "</table>\n",
       "</div>"
      ],
      "text/plain": [
       "   PassengerId  Survived  Pclass   Name    Sex    Age  SibSp  Parch  Ticket  \\\n",
       "0        False     False   False  False  False  False  False  False   False   \n",
       "1        False     False   False  False  False  False  False  False   False   \n",
       "2        False     False   False  False  False  False  False  False   False   \n",
       "3        False     False   False  False  False  False  False  False   False   \n",
       "4        False     False   False  False  False  False  False  False   False   \n",
       "\n",
       "    Fare  Cabin  Embarked  \n",
       "0  False   True     False  \n",
       "1  False  False     False  \n",
       "2  False   True     False  \n",
       "3  False  False     False  \n",
       "4  False   True     False  "
      ]
     },
     "execution_count": 6,
     "metadata": {},
     "output_type": "execute_result"
    }
   ],
   "source": [
    "df.isnull().head() ## Helps us to find out whether it is true or not\n"
   ]
  },
  {
   "cell_type": "markdown",
   "metadata": {
    "papermill": {
     "duration": 0.05138,
     "end_time": "2020-11-06T13:31:50.439896",
     "exception": false,
     "start_time": "2020-11-06T13:31:50.388516",
     "status": "completed"
    },
    "tags": []
   },
   "source": [
    "- True = has null value.\n",
    "- False = not has the null value"
   ]
  },
  {
   "cell_type": "code",
   "execution_count": 7,
   "metadata": {
    "execution": {
     "iopub.execute_input": "2020-11-06T13:31:50.551280Z",
     "iopub.status.busy": "2020-11-06T13:31:50.550479Z",
     "iopub.status.idle": "2020-11-06T13:31:51.806514Z",
     "shell.execute_reply": "2020-11-06T13:31:51.805884Z"
    },
    "papermill": {
     "duration": 1.314165,
     "end_time": "2020-11-06T13:31:51.806651",
     "exception": false,
     "start_time": "2020-11-06T13:31:50.492486",
     "status": "completed"
    },
    "tags": []
   },
   "outputs": [
    {
     "data": {
      "image/png": "[encoded data removed]",
      "text/plain": [
       "<Figure size 432x288 with 1 Axes>"
      ]
     },
     "metadata": {
      "needs_background": "light"
     },
     "output_type": "display_data"
    }
   ],
   "source": [
    "### This is very difficult to see here as how many values are true or false.\n",
    "## Let's use some visualisation concept.\n",
    "\n",
    "import seaborn as sns\n",
    "sns.heatmap(df.isnull() , yticklabels = False , cbar = False , cmap = 'viridis');"
   ]
  },
  {
   "cell_type": "markdown",
   "metadata": {
    "papermill": {
     "duration": 0.053036,
     "end_time": "2020-11-06T13:31:51.912626",
     "exception": false,
     "start_time": "2020-11-06T13:31:51.859590",
     "status": "completed"
    },
    "tags": []
   },
   "source": [
    "\n",
    "- This heat map is done to see that whatever condition we are putting(in this case df.isnull() , if it is true then it will be displayed in come other color.)\n",
    "\n",
    "- y ticklabels is false so i can't see the row numbers(index) , as my x tick labels is not false so i can see all the columns)\n",
    "\n",
    "- cbar cmap(all the values are shown as yellow color) are just styling technique."
   ]
  },
  {
   "cell_type": "code",
   "execution_count": 8,
   "metadata": {
    "execution": {
     "iopub.execute_input": "2020-11-06T13:31:52.025774Z",
     "iopub.status.busy": "2020-11-06T13:31:52.024796Z",
     "iopub.status.idle": "2020-11-06T13:31:52.028134Z",
     "shell.execute_reply": "2020-11-06T13:31:52.027382Z"
    },
    "papermill": {
     "duration": 0.062112,
     "end_time": "2020-11-06T13:31:52.028328",
     "exception": false,
     "start_time": "2020-11-06T13:31:51.966216",
     "status": "completed"
    },
    "tags": []
   },
   "outputs": [],
   "source": [
    "## This also shows me that which column has more number of Nan values.\n",
    "\n",
    "## Most of the cabin values are missing.And roughly 30-40% of age is missing."
   ]
  },
  {
   "cell_type": "code",
   "execution_count": 9,
   "metadata": {
    "execution": {
     "iopub.execute_input": "2020-11-06T13:31:52.142377Z",
     "iopub.status.busy": "2020-11-06T13:31:52.141617Z",
     "iopub.status.idle": "2020-11-06T13:31:52.287259Z",
     "shell.execute_reply": "2020-11-06T13:31:52.286623Z"
    },
    "papermill": {
     "duration": 0.20582,
     "end_time": "2020-11-06T13:31:52.287419",
     "exception": false,
     "start_time": "2020-11-06T13:31:52.081599",
     "status": "completed"
    },
    "tags": []
   },
   "outputs": [
    {
     "data": {
      "image/png": "[encoded data removed]",
      "text/plain": [
       "<Figure size 432x288 with 1 Axes>"
      ]
     },
     "metadata": {},
     "output_type": "display_data"
    }
   ],
   "source": [
    "sns.set_style('whitegrid')\n",
    "sns.countplot(x='Survived', data = df);\n",
    "## We are making a count plot, and based on survived column we are making count plot.\n",
    "## 0 is not survived.\n",
    "## 1 is survived."
   ]
  },
  {
   "cell_type": "markdown",
   "metadata": {
    "papermill": {
     "duration": 0.054437,
     "end_time": "2020-11-06T13:31:52.396652",
     "exception": false,
     "start_time": "2020-11-06T13:31:52.342215",
     "status": "completed"
    },
    "tags": []
   },
   "source": [
    "So, on the basis of sex(male or female let's check how many survived and how many not survived)..."
   ]
  },
  {
   "cell_type": "code",
   "execution_count": 10,
   "metadata": {
    "execution": {
     "iopub.execute_input": "2020-11-06T13:31:52.513180Z",
     "iopub.status.busy": "2020-11-06T13:31:52.511920Z",
     "iopub.status.idle": "2020-11-06T13:31:52.688098Z",
     "shell.execute_reply": "2020-11-06T13:31:52.688688Z"
    },
    "papermill": {
     "duration": 0.238156,
     "end_time": "2020-11-06T13:31:52.688851",
     "exception": false,
     "start_time": "2020-11-06T13:31:52.450695",
     "status": "completed"
    },
    "tags": []
   },
   "outputs": [
    {
     "data": {
      "image/png": "[encoded data removed]",
      "text/plain": [
       "<Figure size 432x288 with 1 Axes>"
      ]
     },
     "metadata": {},
     "output_type": "display_data"
    }
   ],
   "source": [
    "sns.set_style('whitegrid')\n",
    "sns.countplot(x='Survived',hue = 'Sex', data = df , palette = 'RdBu_r');"
   ]
  },
  {
   "cell_type": "markdown",
   "metadata": {
    "papermill": {
     "duration": 0.054392,
     "end_time": "2020-11-06T13:31:52.799896",
     "exception": false,
     "start_time": "2020-11-06T13:31:52.745504",
     "status": "completed"
    },
    "tags": []
   },
   "source": [
    "- Among not survived most of the men died , less women died.\n",
    "- female survived more."
   ]
  },
  {
   "cell_type": "code",
   "execution_count": 11,
   "metadata": {
    "execution": {
     "iopub.execute_input": "2020-11-06T13:31:52.919030Z",
     "iopub.status.busy": "2020-11-06T13:31:52.917912Z",
     "iopub.status.idle": "2020-11-06T13:31:53.130809Z",
     "shell.execute_reply": "2020-11-06T13:31:53.129963Z"
    },
    "papermill": {
     "duration": 0.276195,
     "end_time": "2020-11-06T13:31:53.130946",
     "exception": false,
     "start_time": "2020-11-06T13:31:52.854751",
     "status": "completed"
    },
    "tags": []
   },
   "outputs": [
    {
     "data": {
      "image/png": "[encoded data removed]",
      "text/plain": [
       "<Figure size 432x288 with 1 Axes>"
      ]
     },
     "metadata": {},
     "output_type": "display_data"
    }
   ],
   "source": [
    "sns.set_style('whitegrid')\n",
    "sns.countplot(x='Survived',hue = 'Pclass', data = df , palette = 'rainbow');\n",
    "\n",
    "## Pclass - Passenger class , as this has the medium income group people , as they have paid less so they would have been given \n",
    "## less preference by the on duty staff."
   ]
  },
  {
   "cell_type": "markdown",
   "metadata": {
    "papermill": {
     "duration": 0.063875,
     "end_time": "2020-11-06T13:31:53.252573",
     "exception": false,
     "start_time": "2020-11-06T13:31:53.188698",
     "status": "completed"
    },
    "tags": []
   },
   "source": [
    "- Pclass has 1 (rich) , 2 (medium), 3 (poor)\n",
    "- Hero of titanic was in which class (3)"
   ]
  },
  {
   "cell_type": "markdown",
   "metadata": {
    "papermill": {
     "duration": 0.067242,
     "end_time": "2020-11-06T13:31:53.389579",
     "exception": false,
     "start_time": "2020-11-06T13:31:53.322337",
     "status": "completed"
    },
    "tags": []
   },
   "source": [
    "### Most of the pclass 3 i.e. poor died the most."
   ]
  },
  {
   "cell_type": "code",
   "execution_count": 12,
   "metadata": {
    "execution": {
     "iopub.execute_input": "2020-11-06T13:31:53.510788Z",
     "iopub.status.busy": "2020-11-06T13:31:53.509728Z",
     "iopub.status.idle": "2020-11-06T13:31:53.513224Z",
     "shell.execute_reply": "2020-11-06T13:31:53.512503Z"
    },
    "papermill": {
     "duration": 0.065937,
     "end_time": "2020-11-06T13:31:53.513351",
     "exception": false,
     "start_time": "2020-11-06T13:31:53.447414",
     "status": "completed"
    },
    "tags": []
   },
   "outputs": [],
   "source": [
    "import warnings \n",
    "warnings.filterwarnings('ignore')"
   ]
  },
  {
   "cell_type": "code",
   "execution_count": 13,
   "metadata": {
    "execution": {
     "iopub.execute_input": "2020-11-06T13:31:53.640803Z",
     "iopub.status.busy": "2020-11-06T13:31:53.633797Z",
     "iopub.status.idle": "2020-11-06T13:31:54.030369Z",
     "shell.execute_reply": "2020-11-06T13:31:54.029588Z"
    },
    "papermill": {
     "duration": 0.459746,
     "end_time": "2020-11-06T13:31:54.030526",
     "exception": false,
     "start_time": "2020-11-06T13:31:53.570780",
     "status": "completed"
    },
    "tags": []
   },
   "outputs": [
    {
     "data": {
      "image/png": "[encoded data removed]",
      "text/plain": [
       "<Figure size 432x288 with 1 Axes>"
      ]
     },
     "metadata": {},
     "output_type": "display_data"
    }
   ],
   "source": [
    "## Let's check what was the distribution for the age of people actually present in the titanic.\n",
    "\n",
    "sns.distplot(df['Age'].dropna() , kde = False ,  bins = 40);\n",
    "\n",
    "## As we already know that age has Nan values so we will drop that. For that we are using df['Age'].dropna()"
   ]
  },
  {
   "cell_type": "markdown",
   "metadata": {
    "papermill": {
     "duration": 0.056877,
     "end_time": "2020-11-06T13:31:54.145230",
     "exception": false,
     "start_time": "2020-11-06T13:31:54.088353",
     "status": "completed"
    },
    "tags": []
   },
   "source": [
    "#### So, elderly people were less, youngsters were more , less of old prople."
   ]
  },
  {
   "cell_type": "code",
   "execution_count": 14,
   "metadata": {
    "execution": {
     "iopub.execute_input": "2020-11-06T13:31:54.269277Z",
     "iopub.status.busy": "2020-11-06T13:31:54.268506Z",
     "iopub.status.idle": "2020-11-06T13:31:54.754160Z",
     "shell.execute_reply": "2020-11-06T13:31:54.753376Z"
    },
    "papermill": {
     "duration": 0.549463,
     "end_time": "2020-11-06T13:31:54.754316",
     "exception": false,
     "start_time": "2020-11-06T13:31:54.204853",
     "status": "completed"
    },
    "tags": []
   },
   "outputs": [
    {
     "data": {
      "image/png": "[encoded data removed]",
      "text/plain": [
       "<Figure size 432x288 with 1 Axes>"
      ]
     },
     "metadata": {},
     "output_type": "display_data"
    }
   ],
   "source": [
    "df['Age'].hist(bins = 30 );"
   ]
  },
  {
   "cell_type": "code",
   "execution_count": 15,
   "metadata": {
    "execution": {
     "iopub.execute_input": "2020-11-06T13:31:54.891408Z",
     "iopub.status.busy": "2020-11-06T13:31:54.879805Z",
     "iopub.status.idle": "2020-11-06T13:31:55.086556Z",
     "shell.execute_reply": "2020-11-06T13:31:55.085941Z"
    },
    "papermill": {
     "duration": 0.273041,
     "end_time": "2020-11-06T13:31:55.086690",
     "exception": false,
     "start_time": "2020-11-06T13:31:54.813649",
     "status": "completed"
    },
    "tags": []
   },
   "outputs": [
    {
     "data": {
      "image/png": "[encoded data removed]",
      "text/plain": [
       "<Figure size 432x288 with 1 Axes>"
      ]
     },
     "metadata": {},
     "output_type": "display_data"
    }
   ],
   "source": [
    "## Similar way let's check for the number of siblings and spouse.\n",
    "sns.countplot(x = 'SibSp', data=df);"
   ]
  },
  {
   "cell_type": "markdown",
   "metadata": {
    "papermill": {
     "duration": 0.059657,
     "end_time": "2020-11-06T13:31:55.206080",
     "exception": false,
     "start_time": "2020-11-06T13:31:55.146423",
     "status": "completed"
    },
    "tags": []
   },
   "source": [
    "- Most of the people had no sibling or spouse.\n",
    "- least had 5 (siblings + spouse)\n",
    "- Most of the people were travelling alone."
   ]
  },
  {
   "cell_type": "code",
   "execution_count": 16,
   "metadata": {
    "execution": {
     "iopub.execute_input": "2020-11-06T13:31:55.336496Z",
     "iopub.status.busy": "2020-11-06T13:31:55.335663Z",
     "iopub.status.idle": "2020-11-06T13:31:55.705781Z",
     "shell.execute_reply": "2020-11-06T13:31:55.706310Z"
    },
    "papermill": {
     "duration": 0.44134,
     "end_time": "2020-11-06T13:31:55.706494",
     "exception": false,
     "start_time": "2020-11-06T13:31:55.265154",
     "status": "completed"
    },
    "tags": []
   },
   "outputs": [
    {
     "data": {
      "image/png": "[encoded data removed]",
      "text/plain": [
       "<Figure size 576x288 with 1 Axes>"
      ]
     },
     "metadata": {},
     "output_type": "display_data"
    }
   ],
   "source": [
    "## Let's check what was the average fare of ticket that people bought. \n",
    "\n",
    "df['Fare'].hist(color = 'green' , bins = 40 , figsize = (8,4));"
   ]
  },
  {
   "cell_type": "markdown",
   "metadata": {
    "papermill": {
     "duration": 0.05954,
     "end_time": "2020-11-06T13:31:55.825931",
     "exception": false,
     "start_time": "2020-11-06T13:31:55.766391",
     "status": "completed"
    },
    "tags": []
   },
   "source": [
    "## Data Cleaning"
   ]
  },
  {
   "cell_type": "raw",
   "metadata": {
    "papermill": {
     "duration": 0.06004,
     "end_time": "2020-11-06T13:31:55.945939",
     "exception": false,
     "start_time": "2020-11-06T13:31:55.885899",
     "status": "completed"
    },
    "tags": []
   },
   "source": [
    "We want to fill the missing values and not drop them. One way is to fill with the mean age of passengers.\n",
    "Let's see few insights."
   ]
  },
  {
   "cell_type": "code",
   "execution_count": 17,
   "metadata": {
    "execution": {
     "iopub.execute_input": "2020-11-06T13:31:56.084715Z",
     "iopub.status.busy": "2020-11-06T13:31:56.077488Z",
     "iopub.status.idle": "2020-11-06T13:31:56.299644Z",
     "shell.execute_reply": "2020-11-06T13:31:56.298894Z"
    },
    "papermill": {
     "duration": 0.293563,
     "end_time": "2020-11-06T13:31:56.299769",
     "exception": false,
     "start_time": "2020-11-06T13:31:56.006206",
     "status": "completed"
    },
    "tags": []
   },
   "outputs": [
    {
     "data": {
      "image/png": "[encoded data removed]",
      "text/plain": [
       "<Figure size 864x504 with 1 Axes>"
      ]
     },
     "metadata": {},
     "output_type": "display_data"
    }
   ],
   "source": [
    "import matplotlib.pyplot as plt\n",
    "plt.figure(figsize = (12,7))\n",
    "sns.boxplot(x= 'Pclass', y='Age', data=df , palette = 'winter');"
   ]
  },
  {
   "cell_type": "markdown",
   "metadata": {
    "papermill": {
     "duration": 0.060837,
     "end_time": "2020-11-06T13:31:56.421646",
     "exception": false,
     "start_time": "2020-11-06T13:31:56.360809",
     "status": "completed"
    },
    "tags": []
   },
   "source": [
    "#### We can see here that which age of people were present and which passenger class they were.\n",
    "#### 3 passenger class.\n",
    "#### we found the avg value of each class is 37 or 38, 29, 24."
   ]
  },
  {
   "cell_type": "code",
   "execution_count": 18,
   "metadata": {
    "execution": {
     "iopub.execute_input": "2020-11-06T13:31:56.552417Z",
     "iopub.status.busy": "2020-11-06T13:31:56.551293Z",
     "iopub.status.idle": "2020-11-06T13:31:56.554512Z",
     "shell.execute_reply": "2020-11-06T13:31:56.553914Z"
    },
    "papermill": {
     "duration": 0.072148,
     "end_time": "2020-11-06T13:31:56.554655",
     "exception": false,
     "start_time": "2020-11-06T13:31:56.482507",
     "status": "completed"
    },
    "tags": []
   },
   "outputs": [],
   "source": [
    "## let's define a function\n",
    "\n",
    "def impute_age(cols):\n",
    "    Age = cols[0]\n",
    "    Pclass = cols[1]\n",
    "    \n",
    "    if pd.isnull(Age):\n",
    "        \n",
    "        if Pclass == 1 :\n",
    "            return 37\n",
    "            \n",
    "        elif Pclass == 2 :\n",
    "            return 29\n",
    "        else:\n",
    "            return 24\n",
    "        \n",
    "    else:\n",
    "        return Age"
   ]
  },
  {
   "cell_type": "code",
   "execution_count": 19,
   "metadata": {
    "execution": {
     "iopub.execute_input": "2020-11-06T13:31:56.685553Z",
     "iopub.status.busy": "2020-11-06T13:31:56.684719Z",
     "iopub.status.idle": "2020-11-06T13:31:56.708389Z",
     "shell.execute_reply": "2020-11-06T13:31:56.707783Z"
    },
    "papermill": {
     "duration": 0.091825,
     "end_time": "2020-11-06T13:31:56.708551",
     "exception": false,
     "start_time": "2020-11-06T13:31:56.616726",
     "status": "completed"
    },
    "tags": []
   },
   "outputs": [],
   "source": [
    "df[\"Age\"] = df[['Age','Pclass']].apply(impute_age , axis = 1)\n",
    "\n",
    "## for each and every record in age and Pclas it will be applied."
   ]
  },
  {
   "cell_type": "code",
   "execution_count": 20,
   "metadata": {
    "execution": {
     "iopub.execute_input": "2020-11-06T13:31:56.838807Z",
     "iopub.status.busy": "2020-11-06T13:31:56.837998Z",
     "iopub.status.idle": "2020-11-06T13:31:57.051082Z",
     "shell.execute_reply": "2020-11-06T13:31:57.050223Z"
    },
    "papermill": {
     "duration": 0.281071,
     "end_time": "2020-11-06T13:31:57.051231",
     "exception": false,
     "start_time": "2020-11-06T13:31:56.770160",
     "status": "completed"
    },
    "tags": []
   },
   "outputs": [
    {
     "data": {
      "image/png": "[encoded data removed]",
      "text/plain": [
       "<Figure size 432x288 with 1 Axes>"
      ]
     },
     "metadata": {},
     "output_type": "display_data"
    }
   ],
   "source": [
    "## let's see the heat map that we saw earlier.\n",
    "\n",
    "import seaborn as sns\n",
    "sns.heatmap(df.isnull() , yticklabels = False , cbar = False , cmap = 'viridis');"
   ]
  },
  {
   "cell_type": "markdown",
   "metadata": {
    "papermill": {
     "duration": 0.062761,
     "end_time": "2020-11-06T13:31:57.177405",
     "exception": false,
     "start_time": "2020-11-06T13:31:57.114644",
     "status": "completed"
    },
    "tags": []
   },
   "source": [
    "#### So, earlier the age column was having null values. But now those are filled."
   ]
  },
  {
   "cell_type": "markdown",
   "metadata": {
    "papermill": {
     "duration": 0.062227,
     "end_time": "2020-11-06T13:31:57.351713",
     "exception": false,
     "start_time": "2020-11-06T13:31:57.289486",
     "status": "completed"
    },
    "tags": []
   },
   "source": [
    "#### But the problem with the cabin is that there are many null values.\n",
    "#### So, we need to apply feature engineering."
   ]
  },
  {
   "cell_type": "code",
   "execution_count": 21,
   "metadata": {
    "execution": {
     "iopub.execute_input": "2020-11-06T13:31:57.486041Z",
     "iopub.status.busy": "2020-11-06T13:31:57.485091Z",
     "iopub.status.idle": "2020-11-06T13:31:57.490371Z",
     "shell.execute_reply": "2020-11-06T13:31:57.489772Z"
    },
    "papermill": {
     "duration": 0.076446,
     "end_time": "2020-11-06T13:31:57.490519",
     "exception": false,
     "start_time": "2020-11-06T13:31:57.414073",
     "status": "completed"
    },
    "tags": []
   },
   "outputs": [
    {
     "data": {
      "text/plain": [
       "PassengerId      0\n",
       "Survived         0\n",
       "Pclass           0\n",
       "Name             0\n",
       "Sex              0\n",
       "Age              0\n",
       "SibSp            0\n",
       "Parch            0\n",
       "Ticket           0\n",
       "Fare             0\n",
       "Cabin          687\n",
       "Embarked         2\n",
       "dtype: int64"
      ]
     },
     "execution_count": 21,
     "metadata": {},
     "output_type": "execute_result"
    }
   ],
   "source": [
    "## But here we can see...\n",
    "df.isnull().sum()"
   ]
  },
  {
   "cell_type": "code",
   "execution_count": 22,
   "metadata": {
    "execution": {
     "iopub.execute_input": "2020-11-06T13:31:57.622061Z",
     "iopub.status.busy": "2020-11-06T13:31:57.621191Z",
     "iopub.status.idle": "2020-11-06T13:31:57.625636Z",
     "shell.execute_reply": "2020-11-06T13:31:57.625023Z"
    },
    "papermill": {
     "duration": 0.072159,
     "end_time": "2020-11-06T13:31:57.625760",
     "exception": false,
     "start_time": "2020-11-06T13:31:57.553601",
     "status": "completed"
    },
    "tags": []
   },
   "outputs": [
    {
     "data": {
      "text/plain": [
       "(891, 12)"
      ]
     },
     "execution_count": 22,
     "metadata": {},
     "output_type": "execute_result"
    }
   ],
   "source": [
    "df.shape"
   ]
  },
  {
   "cell_type": "markdown",
   "metadata": {
    "papermill": {
     "duration": 0.063055,
     "end_time": "2020-11-06T13:31:57.752372",
     "exception": false,
     "start_time": "2020-11-06T13:31:57.689317",
     "status": "completed"
    },
    "tags": []
   },
   "source": [
    "-  So, out of 891 values, for cabin there are 687 Nan values.\n",
    "-  We can easily drop this."
   ]
  },
  {
   "cell_type": "code",
   "execution_count": 23,
   "metadata": {
    "execution": {
     "iopub.execute_input": "2020-11-06T13:31:57.887508Z",
     "iopub.status.busy": "2020-11-06T13:31:57.884997Z",
     "iopub.status.idle": "2020-11-06T13:31:57.890906Z",
     "shell.execute_reply": "2020-11-06T13:31:57.890232Z"
    },
    "papermill": {
     "duration": 0.075328,
     "end_time": "2020-11-06T13:31:57.891028",
     "exception": false,
     "start_time": "2020-11-06T13:31:57.815700",
     "status": "completed"
    },
    "tags": []
   },
   "outputs": [],
   "source": [
    "## lets drop the Cabin column\n",
    "\n",
    "df.drop('Cabin' , axis = 1, inplace = True)"
   ]
  },
  {
   "cell_type": "code",
   "execution_count": 24,
   "metadata": {
    "execution": {
     "iopub.execute_input": "2020-11-06T13:31:58.035400Z",
     "iopub.status.busy": "2020-11-06T13:31:58.028183Z",
     "iopub.status.idle": "2020-11-06T13:31:58.225158Z",
     "shell.execute_reply": "2020-11-06T13:31:58.224567Z"
    },
    "papermill": {
     "duration": 0.269706,
     "end_time": "2020-11-06T13:31:58.225286",
     "exception": false,
     "start_time": "2020-11-06T13:31:57.955580",
     "status": "completed"
    },
    "tags": []
   },
   "outputs": [
    {
     "data": {
      "image/png": "[encoded data removed]",
      "text/plain": [
       "<Figure size 432x288 with 1 Axes>"
      ]
     },
     "metadata": {},
     "output_type": "display_data"
    }
   ],
   "source": [
    "## let's visualize the heatmap.\n",
    "import seaborn as sns\n",
    "sns.heatmap(df.isnull() , yticklabels = False , cbar = False , cmap = 'viridis');"
   ]
  },
  {
   "cell_type": "code",
   "execution_count": 25,
   "metadata": {
    "execution": {
     "iopub.execute_input": "2020-11-06T13:31:58.366597Z",
     "iopub.status.busy": "2020-11-06T13:31:58.363990Z",
     "iopub.status.idle": "2020-11-06T13:31:58.370203Z",
     "shell.execute_reply": "2020-11-06T13:31:58.369415Z"
    },
    "papermill": {
     "duration": 0.079925,
     "end_time": "2020-11-06T13:31:58.370327",
     "exception": false,
     "start_time": "2020-11-06T13:31:58.290402",
     "status": "completed"
    },
    "tags": []
   },
   "outputs": [],
   "source": [
    "## Now it is fine so much but still emabarked has some null values. As we can easily see\n",
    "df.dropna(axis = 0, inplace = True)"
   ]
  },
  {
   "cell_type": "code",
   "execution_count": 26,
   "metadata": {
    "execution": {
     "iopub.execute_input": "2020-11-06T13:31:58.515261Z",
     "iopub.status.busy": "2020-11-06T13:31:58.508986Z",
     "iopub.status.idle": "2020-11-06T13:31:58.705989Z",
     "shell.execute_reply": "2020-11-06T13:31:58.706559Z"
    },
    "papermill": {
     "duration": 0.270919,
     "end_time": "2020-11-06T13:31:58.706739",
     "exception": false,
     "start_time": "2020-11-06T13:31:58.435820",
     "status": "completed"
    },
    "tags": []
   },
   "outputs": [
    {
     "data": {
      "image/png": "[encoded data removed]",
      "text/plain": [
       "<Figure size 432x288 with 1 Axes>"
      ]
     },
     "metadata": {},
     "output_type": "display_data"
    }
   ],
   "source": [
    "import seaborn as sns\n",
    "sns.heatmap(df.isnull() , yticklabels = False , cbar = False , cmap = 'viridis');"
   ]
  },
  {
   "cell_type": "markdown",
   "metadata": {
    "papermill": {
     "duration": 0.066012,
     "end_time": "2020-11-06T13:31:58.839327",
     "exception": false,
     "start_time": "2020-11-06T13:31:58.773315",
     "status": "completed"
    },
    "tags": []
   },
   "source": [
    "#### Now, Data is clean"
   ]
  },
  {
   "cell_type": "markdown",
   "metadata": {
    "papermill": {
     "duration": 0.06664,
     "end_time": "2020-11-06T13:31:58.971803",
     "exception": false,
     "start_time": "2020-11-06T13:31:58.905163",
     "status": "completed"
    },
    "tags": []
   },
   "source": [
    "## Converting Categorical Data"
   ]
  },
  {
   "cell_type": "code",
   "execution_count": 27,
   "metadata": {
    "execution": {
     "iopub.execute_input": "2020-11-06T13:31:59.120580Z",
     "iopub.status.busy": "2020-11-06T13:31:59.119743Z",
     "iopub.status.idle": "2020-11-06T13:31:59.123918Z",
     "shell.execute_reply": "2020-11-06T13:31:59.123124Z"
    },
    "papermill": {
     "duration": 0.085554,
     "end_time": "2020-11-06T13:31:59.124058",
     "exception": false,
     "start_time": "2020-11-06T13:31:59.038504",
     "status": "completed"
    },
    "tags": []
   },
   "outputs": [
    {
     "name": "stdout",
     "output_type": "stream",
     "text": [
      "<class 'pandas.core.frame.DataFrame'>\n",
      "Int64Index: 889 entries, 0 to 890\n",
      "Data columns (total 11 columns):\n",
      " #   Column       Non-Null Count  Dtype  \n",
      "---  ------       --------------  -----  \n",
      " 0   PassengerId  889 non-null    int64  \n",
      " 1   Survived     889 non-null    int64  \n",
      " 2   Pclass       889 non-null    int64  \n",
      " 3   Name         889 non-null    object \n",
      " 4   Sex          889 non-null    object \n",
      " 5   Age          889 non-null    float64\n",
      " 6   SibSp        889 non-null    int64  \n",
      " 7   Parch        889 non-null    int64  \n",
      " 8   Ticket       889 non-null    object \n",
      " 9   Fare         889 non-null    float64\n",
      " 10  Embarked     889 non-null    object \n",
      "dtypes: float64(2), int64(5), object(4)\n",
      "memory usage: 83.3+ KB\n"
     ]
    }
   ],
   "source": [
    "df.info()"
   ]
  },
  {
   "cell_type": "markdown",
   "metadata": {
    "papermill": {
     "duration": 0.06639,
     "end_time": "2020-11-06T13:31:59.259143",
     "exception": false,
     "start_time": "2020-11-06T13:31:59.192753",
     "status": "completed"
    },
    "tags": []
   },
   "source": [
    "- As I have Sex and Embarked object so we can convert them into dummies. (One hot Encoding)."
   ]
  },
  {
   "cell_type": "code",
   "execution_count": 28,
   "metadata": {
    "execution": {
     "iopub.execute_input": "2020-11-06T13:31:59.399031Z",
     "iopub.status.busy": "2020-11-06T13:31:59.398223Z",
     "iopub.status.idle": "2020-11-06T13:31:59.408945Z",
     "shell.execute_reply": "2020-11-06T13:31:59.408271Z"
    },
    "papermill": {
     "duration": 0.083174,
     "end_time": "2020-11-06T13:31:59.409077",
     "exception": false,
     "start_time": "2020-11-06T13:31:59.325903",
     "status": "completed"
    },
    "tags": []
   },
   "outputs": [
    {
     "data": {
      "text/html": [
       "<div>\n",
       "<style scoped>\n",
       "    .dataframe tbody tr th:only-of-type {\n",
       "        vertical-align: middle;\n",
       "    }\n",
       "\n",
       "    .dataframe tbody tr th {\n",
       "        vertical-align: top;\n",
       "    }\n",
       "\n",
       "    .dataframe thead th {\n",
       "        text-align: right;\n",
       "    }\n",
       "</style>\n",
       "<table border=\"1\" class=\"dataframe\">\n",
       "  <thead>\n",
       "    <tr style=\"text-align: right;\">\n",
       "      <th></th>\n",
       "      <th>Q</th>\n",
       "      <th>S</th>\n",
       "    </tr>\n",
       "  </thead>\n",
       "  <tbody>\n",
       "    <tr>\n",
       "      <th>0</th>\n",
       "      <td>0</td>\n",
       "      <td>1</td>\n",
       "    </tr>\n",
       "    <tr>\n",
       "      <th>1</th>\n",
       "      <td>0</td>\n",
       "      <td>0</td>\n",
       "    </tr>\n",
       "    <tr>\n",
       "      <th>2</th>\n",
       "      <td>0</td>\n",
       "      <td>1</td>\n",
       "    </tr>\n",
       "    <tr>\n",
       "      <th>3</th>\n",
       "      <td>0</td>\n",
       "      <td>1</td>\n",
       "    </tr>\n",
       "    <tr>\n",
       "      <th>4</th>\n",
       "      <td>0</td>\n",
       "      <td>1</td>\n",
       "    </tr>\n",
       "  </tbody>\n",
       "</table>\n",
       "</div>"
      ],
      "text/plain": [
       "   Q  S\n",
       "0  0  1\n",
       "1  0  0\n",
       "2  0  1\n",
       "3  0  1\n",
       "4  0  1"
      ]
     },
     "execution_count": 28,
     "metadata": {},
     "output_type": "execute_result"
    }
   ],
   "source": [
    "## So in my embarked column I had few \n",
    "pd.get_dummies(df['Embarked'], drop_first = True).head()\n",
    "\n",
    "## here we need to drop the first column other wise it will be redundant."
   ]
  },
  {
   "cell_type": "code",
   "execution_count": 29,
   "metadata": {
    "execution": {
     "iopub.execute_input": "2020-11-06T13:31:59.562872Z",
     "iopub.status.busy": "2020-11-06T13:31:59.562056Z",
     "iopub.status.idle": "2020-11-06T13:31:59.567212Z",
     "shell.execute_reply": "2020-11-06T13:31:59.566499Z"
    },
    "papermill": {
     "duration": 0.09032,
     "end_time": "2020-11-06T13:31:59.567335",
     "exception": false,
     "start_time": "2020-11-06T13:31:59.477015",
     "status": "completed"
    },
    "tags": []
   },
   "outputs": [
    {
     "data": {
      "text/html": [
       "<div>\n",
       "<style scoped>\n",
       "    .dataframe tbody tr th:only-of-type {\n",
       "        vertical-align: middle;\n",
       "    }\n",
       "\n",
       "    .dataframe tbody tr th {\n",
       "        vertical-align: top;\n",
       "    }\n",
       "\n",
       "    .dataframe thead th {\n",
       "        text-align: right;\n",
       "    }\n",
       "</style>\n",
       "<table border=\"1\" class=\"dataframe\">\n",
       "  <thead>\n",
       "    <tr style=\"text-align: right;\">\n",
       "      <th></th>\n",
       "      <th>PassengerId</th>\n",
       "      <th>Survived</th>\n",
       "      <th>Pclass</th>\n",
       "      <th>Name</th>\n",
       "      <th>Sex</th>\n",
       "      <th>Age</th>\n",
       "      <th>SibSp</th>\n",
       "      <th>Parch</th>\n",
       "      <th>Ticket</th>\n",
       "      <th>Fare</th>\n",
       "      <th>Embarked</th>\n",
       "    </tr>\n",
       "  </thead>\n",
       "  <tbody>\n",
       "    <tr>\n",
       "      <th>0</th>\n",
       "      <td>1</td>\n",
       "      <td>0</td>\n",
       "      <td>3</td>\n",
       "      <td>Braund, Mr. Owen Harris</td>\n",
       "      <td>male</td>\n",
       "      <td>22.0</td>\n",
       "      <td>1</td>\n",
       "      <td>0</td>\n",
       "      <td>A/5 21171</td>\n",
       "      <td>7.2500</td>\n",
       "      <td>S</td>\n",
       "    </tr>\n",
       "    <tr>\n",
       "      <th>1</th>\n",
       "      <td>2</td>\n",
       "      <td>1</td>\n",
       "      <td>1</td>\n",
       "      <td>Cumings, Mrs. John Bradley (Florence Briggs Th...</td>\n",
       "      <td>female</td>\n",
       "      <td>38.0</td>\n",
       "      <td>1</td>\n",
       "      <td>0</td>\n",
       "      <td>PC 17599</td>\n",
       "      <td>71.2833</td>\n",
       "      <td>C</td>\n",
       "    </tr>\n",
       "    <tr>\n",
       "      <th>2</th>\n",
       "      <td>3</td>\n",
       "      <td>1</td>\n",
       "      <td>3</td>\n",
       "      <td>Heikkinen, Miss. Laina</td>\n",
       "      <td>female</td>\n",
       "      <td>26.0</td>\n",
       "      <td>0</td>\n",
       "      <td>0</td>\n",
       "      <td>STON/O2. 3101282</td>\n",
       "      <td>7.9250</td>\n",
       "      <td>S</td>\n",
       "    </tr>\n",
       "    <tr>\n",
       "      <th>3</th>\n",
       "      <td>4</td>\n",
       "      <td>1</td>\n",
       "      <td>1</td>\n",
       "      <td>Futrelle, Mrs. Jacques Heath (Lily May Peel)</td>\n",
       "      <td>female</td>\n",
       "      <td>35.0</td>\n",
       "      <td>1</td>\n",
       "      <td>0</td>\n",
       "      <td>113803</td>\n",
       "      <td>53.1000</td>\n",
       "      <td>S</td>\n",
       "    </tr>\n",
       "    <tr>\n",
       "      <th>4</th>\n",
       "      <td>5</td>\n",
       "      <td>0</td>\n",
       "      <td>3</td>\n",
       "      <td>Allen, Mr. William Henry</td>\n",
       "      <td>male</td>\n",
       "      <td>35.0</td>\n",
       "      <td>0</td>\n",
       "      <td>0</td>\n",
       "      <td>373450</td>\n",
       "      <td>8.0500</td>\n",
       "      <td>S</td>\n",
       "    </tr>\n",
       "  </tbody>\n",
       "</table>\n",
       "</div>"
      ],
      "text/plain": [
       "   PassengerId  Survived  Pclass  \\\n",
       "0            1         0       3   \n",
       "1            2         1       1   \n",
       "2            3         1       3   \n",
       "3            4         1       1   \n",
       "4            5         0       3   \n",
       "\n",
       "                                                Name     Sex   Age  SibSp  \\\n",
       "0                            Braund, Mr. Owen Harris    male  22.0      1   \n",
       "1  Cumings, Mrs. John Bradley (Florence Briggs Th...  female  38.0      1   \n",
       "2                             Heikkinen, Miss. Laina  female  26.0      0   \n",
       "3       Futrelle, Mrs. Jacques Heath (Lily May Peel)  female  35.0      1   \n",
       "4                           Allen, Mr. William Henry    male  35.0      0   \n",
       "\n",
       "   Parch            Ticket     Fare Embarked  \n",
       "0      0         A/5 21171   7.2500        S  \n",
       "1      0          PC 17599  71.2833        C  \n",
       "2      0  STON/O2. 3101282   7.9250        S  \n",
       "3      0            113803  53.1000        S  \n",
       "4      0            373450   8.0500        S  "
      ]
     },
     "execution_count": 29,
     "metadata": {},
     "output_type": "execute_result"
    }
   ],
   "source": [
    "df.head()"
   ]
  },
  {
   "cell_type": "code",
   "execution_count": 30,
   "metadata": {
    "execution": {
     "iopub.execute_input": "2020-11-06T13:31:59.714711Z",
     "iopub.status.busy": "2020-11-06T13:31:59.713561Z",
     "iopub.status.idle": "2020-11-06T13:31:59.717221Z",
     "shell.execute_reply": "2020-11-06T13:31:59.716512Z"
    },
    "papermill": {
     "duration": 0.081304,
     "end_time": "2020-11-06T13:31:59.717347",
     "exception": false,
     "start_time": "2020-11-06T13:31:59.636043",
     "status": "completed"
    },
    "tags": []
   },
   "outputs": [],
   "source": [
    "sex = pd.get_dummies(df['Sex'], drop_first = True)\n",
    "embark = pd.get_dummies(df['Embarked'], drop_first = True)"
   ]
  },
  {
   "cell_type": "code",
   "execution_count": 31,
   "metadata": {
    "execution": {
     "iopub.execute_input": "2020-11-06T13:31:59.865761Z",
     "iopub.status.busy": "2020-11-06T13:31:59.864581Z",
     "iopub.status.idle": "2020-11-06T13:31:59.869574Z",
     "shell.execute_reply": "2020-11-06T13:31:59.868924Z"
    },
    "papermill": {
     "duration": 0.083822,
     "end_time": "2020-11-06T13:31:59.869713",
     "exception": false,
     "start_time": "2020-11-06T13:31:59.785891",
     "status": "completed"
    },
    "tags": []
   },
   "outputs": [
    {
     "data": {
      "text/html": [
       "<div>\n",
       "<style scoped>\n",
       "    .dataframe tbody tr th:only-of-type {\n",
       "        vertical-align: middle;\n",
       "    }\n",
       "\n",
       "    .dataframe tbody tr th {\n",
       "        vertical-align: top;\n",
       "    }\n",
       "\n",
       "    .dataframe thead th {\n",
       "        text-align: right;\n",
       "    }\n",
       "</style>\n",
       "<table border=\"1\" class=\"dataframe\">\n",
       "  <thead>\n",
       "    <tr style=\"text-align: right;\">\n",
       "      <th></th>\n",
       "      <th>male</th>\n",
       "    </tr>\n",
       "  </thead>\n",
       "  <tbody>\n",
       "    <tr>\n",
       "      <th>0</th>\n",
       "      <td>1</td>\n",
       "    </tr>\n",
       "    <tr>\n",
       "      <th>1</th>\n",
       "      <td>0</td>\n",
       "    </tr>\n",
       "    <tr>\n",
       "      <th>2</th>\n",
       "      <td>0</td>\n",
       "    </tr>\n",
       "    <tr>\n",
       "      <th>3</th>\n",
       "      <td>0</td>\n",
       "    </tr>\n",
       "    <tr>\n",
       "      <th>4</th>\n",
       "      <td>1</td>\n",
       "    </tr>\n",
       "  </tbody>\n",
       "</table>\n",
       "</div>"
      ],
      "text/plain": [
       "   male\n",
       "0     1\n",
       "1     0\n",
       "2     0\n",
       "3     0\n",
       "4     1"
      ]
     },
     "execution_count": 31,
     "metadata": {},
     "output_type": "execute_result"
    }
   ],
   "source": [
    "sex.head()\n",
    "## As for sex we can say that the person is male or female just with the help of one column only.\n",
    "## So, to reduce redundancy we are using drop_first as True."
   ]
  },
  {
   "cell_type": "code",
   "execution_count": 32,
   "metadata": {
    "execution": {
     "iopub.execute_input": "2020-11-06T13:32:00.020869Z",
     "iopub.status.busy": "2020-11-06T13:32:00.019875Z",
     "iopub.status.idle": "2020-11-06T13:32:00.024682Z",
     "shell.execute_reply": "2020-11-06T13:32:00.023922Z"
    },
    "papermill": {
     "duration": 0.085378,
     "end_time": "2020-11-06T13:32:00.024811",
     "exception": false,
     "start_time": "2020-11-06T13:31:59.939433",
     "status": "completed"
    },
    "tags": []
   },
   "outputs": [
    {
     "data": {
      "text/html": [
       "<div>\n",
       "<style scoped>\n",
       "    .dataframe tbody tr th:only-of-type {\n",
       "        vertical-align: middle;\n",
       "    }\n",
       "\n",
       "    .dataframe tbody tr th {\n",
       "        vertical-align: top;\n",
       "    }\n",
       "\n",
       "    .dataframe thead th {\n",
       "        text-align: right;\n",
       "    }\n",
       "</style>\n",
       "<table border=\"1\" class=\"dataframe\">\n",
       "  <thead>\n",
       "    <tr style=\"text-align: right;\">\n",
       "      <th></th>\n",
       "      <th>Q</th>\n",
       "      <th>S</th>\n",
       "    </tr>\n",
       "  </thead>\n",
       "  <tbody>\n",
       "    <tr>\n",
       "      <th>0</th>\n",
       "      <td>0</td>\n",
       "      <td>1</td>\n",
       "    </tr>\n",
       "    <tr>\n",
       "      <th>1</th>\n",
       "      <td>0</td>\n",
       "      <td>0</td>\n",
       "    </tr>\n",
       "    <tr>\n",
       "      <th>2</th>\n",
       "      <td>0</td>\n",
       "      <td>1</td>\n",
       "    </tr>\n",
       "    <tr>\n",
       "      <th>3</th>\n",
       "      <td>0</td>\n",
       "      <td>1</td>\n",
       "    </tr>\n",
       "    <tr>\n",
       "      <th>4</th>\n",
       "      <td>0</td>\n",
       "      <td>1</td>\n",
       "    </tr>\n",
       "  </tbody>\n",
       "</table>\n",
       "</div>"
      ],
      "text/plain": [
       "   Q  S\n",
       "0  0  1\n",
       "1  0  0\n",
       "2  0  1\n",
       "3  0  1\n",
       "4  0  1"
      ]
     },
     "execution_count": 32,
     "metadata": {},
     "output_type": "execute_result"
    }
   ],
   "source": [
    "embark.head()"
   ]
  },
  {
   "cell_type": "code",
   "execution_count": 33,
   "metadata": {
    "execution": {
     "iopub.execute_input": "2020-11-06T13:32:00.173967Z",
     "iopub.status.busy": "2020-11-06T13:32:00.172901Z",
     "iopub.status.idle": "2020-11-06T13:32:00.176434Z",
     "shell.execute_reply": "2020-11-06T13:32:00.175667Z"
    },
    "papermill": {
     "duration": 0.08149,
     "end_time": "2020-11-06T13:32:00.176593",
     "exception": false,
     "start_time": "2020-11-06T13:32:00.095103",
     "status": "completed"
    },
    "tags": []
   },
   "outputs": [],
   "source": [
    "## So, as i have created dummies so let's drop the repeated columns and the other columns that are not necessary for me.\n",
    "\n",
    "df.drop(['Sex', 'Embarked', 'Name', 'Ticket'], axis=1 , inplace=True)"
   ]
  },
  {
   "cell_type": "code",
   "execution_count": 34,
   "metadata": {
    "execution": {
     "iopub.execute_input": "2020-11-06T13:32:00.333366Z",
     "iopub.status.busy": "2020-11-06T13:32:00.332450Z",
     "iopub.status.idle": "2020-11-06T13:32:00.337358Z",
     "shell.execute_reply": "2020-11-06T13:32:00.336745Z"
    },
    "papermill": {
     "duration": 0.088326,
     "end_time": "2020-11-06T13:32:00.337514",
     "exception": false,
     "start_time": "2020-11-06T13:32:00.249188",
     "status": "completed"
    },
    "tags": []
   },
   "outputs": [
    {
     "data": {
      "text/html": [
       "<div>\n",
       "<style scoped>\n",
       "    .dataframe tbody tr th:only-of-type {\n",
       "        vertical-align: middle;\n",
       "    }\n",
       "\n",
       "    .dataframe tbody tr th {\n",
       "        vertical-align: top;\n",
       "    }\n",
       "\n",
       "    .dataframe thead th {\n",
       "        text-align: right;\n",
       "    }\n",
       "</style>\n",
       "<table border=\"1\" class=\"dataframe\">\n",
       "  <thead>\n",
       "    <tr style=\"text-align: right;\">\n",
       "      <th></th>\n",
       "      <th>PassengerId</th>\n",
       "      <th>Survived</th>\n",
       "      <th>Pclass</th>\n",
       "      <th>Age</th>\n",
       "      <th>SibSp</th>\n",
       "      <th>Parch</th>\n",
       "      <th>Fare</th>\n",
       "    </tr>\n",
       "  </thead>\n",
       "  <tbody>\n",
       "    <tr>\n",
       "      <th>0</th>\n",
       "      <td>1</td>\n",
       "      <td>0</td>\n",
       "      <td>3</td>\n",
       "      <td>22.0</td>\n",
       "      <td>1</td>\n",
       "      <td>0</td>\n",
       "      <td>7.2500</td>\n",
       "    </tr>\n",
       "    <tr>\n",
       "      <th>1</th>\n",
       "      <td>2</td>\n",
       "      <td>1</td>\n",
       "      <td>1</td>\n",
       "      <td>38.0</td>\n",
       "      <td>1</td>\n",
       "      <td>0</td>\n",
       "      <td>71.2833</td>\n",
       "    </tr>\n",
       "    <tr>\n",
       "      <th>2</th>\n",
       "      <td>3</td>\n",
       "      <td>1</td>\n",
       "      <td>3</td>\n",
       "      <td>26.0</td>\n",
       "      <td>0</td>\n",
       "      <td>0</td>\n",
       "      <td>7.9250</td>\n",
       "    </tr>\n",
       "    <tr>\n",
       "      <th>3</th>\n",
       "      <td>4</td>\n",
       "      <td>1</td>\n",
       "      <td>1</td>\n",
       "      <td>35.0</td>\n",
       "      <td>1</td>\n",
       "      <td>0</td>\n",
       "      <td>53.1000</td>\n",
       "    </tr>\n",
       "    <tr>\n",
       "      <th>4</th>\n",
       "      <td>5</td>\n",
       "      <td>0</td>\n",
       "      <td>3</td>\n",
       "      <td>35.0</td>\n",
       "      <td>0</td>\n",
       "      <td>0</td>\n",
       "      <td>8.0500</td>\n",
       "    </tr>\n",
       "  </tbody>\n",
       "</table>\n",
       "</div>"
      ],
      "text/plain": [
       "   PassengerId  Survived  Pclass   Age  SibSp  Parch     Fare\n",
       "0            1         0       3  22.0      1      0   7.2500\n",
       "1            2         1       1  38.0      1      0  71.2833\n",
       "2            3         1       3  26.0      0      0   7.9250\n",
       "3            4         1       1  35.0      1      0  53.1000\n",
       "4            5         0       3  35.0      0      0   8.0500"
      ]
     },
     "execution_count": 34,
     "metadata": {},
     "output_type": "execute_result"
    }
   ],
   "source": [
    "df.head()"
   ]
  },
  {
   "cell_type": "code",
   "execution_count": 35,
   "metadata": {
    "execution": {
     "iopub.execute_input": "2020-11-06T13:32:00.498972Z",
     "iopub.status.busy": "2020-11-06T13:32:00.497858Z",
     "iopub.status.idle": "2020-11-06T13:32:00.502601Z",
     "shell.execute_reply": "2020-11-06T13:32:00.501972Z"
    },
    "papermill": {
     "duration": 0.093785,
     "end_time": "2020-11-06T13:32:00.502723",
     "exception": false,
     "start_time": "2020-11-06T13:32:00.408938",
     "status": "completed"
    },
    "tags": []
   },
   "outputs": [
    {
     "data": {
      "text/html": [
       "<div>\n",
       "<style scoped>\n",
       "    .dataframe tbody tr th:only-of-type {\n",
       "        vertical-align: middle;\n",
       "    }\n",
       "\n",
       "    .dataframe tbody tr th {\n",
       "        vertical-align: top;\n",
       "    }\n",
       "\n",
       "    .dataframe thead th {\n",
       "        text-align: right;\n",
       "    }\n",
       "</style>\n",
       "<table border=\"1\" class=\"dataframe\">\n",
       "  <thead>\n",
       "    <tr style=\"text-align: right;\">\n",
       "      <th></th>\n",
       "      <th>PassengerId</th>\n",
       "      <th>Survived</th>\n",
       "      <th>Pclass</th>\n",
       "      <th>Age</th>\n",
       "      <th>SibSp</th>\n",
       "      <th>Parch</th>\n",
       "      <th>Fare</th>\n",
       "      <th>male</th>\n",
       "      <th>Q</th>\n",
       "      <th>S</th>\n",
       "    </tr>\n",
       "  </thead>\n",
       "  <tbody>\n",
       "    <tr>\n",
       "      <th>0</th>\n",
       "      <td>1</td>\n",
       "      <td>0</td>\n",
       "      <td>3</td>\n",
       "      <td>22.0</td>\n",
       "      <td>1</td>\n",
       "      <td>0</td>\n",
       "      <td>7.2500</td>\n",
       "      <td>1</td>\n",
       "      <td>0</td>\n",
       "      <td>1</td>\n",
       "    </tr>\n",
       "    <tr>\n",
       "      <th>1</th>\n",
       "      <td>2</td>\n",
       "      <td>1</td>\n",
       "      <td>1</td>\n",
       "      <td>38.0</td>\n",
       "      <td>1</td>\n",
       "      <td>0</td>\n",
       "      <td>71.2833</td>\n",
       "      <td>0</td>\n",
       "      <td>0</td>\n",
       "      <td>0</td>\n",
       "    </tr>\n",
       "    <tr>\n",
       "      <th>2</th>\n",
       "      <td>3</td>\n",
       "      <td>1</td>\n",
       "      <td>3</td>\n",
       "      <td>26.0</td>\n",
       "      <td>0</td>\n",
       "      <td>0</td>\n",
       "      <td>7.9250</td>\n",
       "      <td>0</td>\n",
       "      <td>0</td>\n",
       "      <td>1</td>\n",
       "    </tr>\n",
       "    <tr>\n",
       "      <th>3</th>\n",
       "      <td>4</td>\n",
       "      <td>1</td>\n",
       "      <td>1</td>\n",
       "      <td>35.0</td>\n",
       "      <td>1</td>\n",
       "      <td>0</td>\n",
       "      <td>53.1000</td>\n",
       "      <td>0</td>\n",
       "      <td>0</td>\n",
       "      <td>1</td>\n",
       "    </tr>\n",
       "    <tr>\n",
       "      <th>4</th>\n",
       "      <td>5</td>\n",
       "      <td>0</td>\n",
       "      <td>3</td>\n",
       "      <td>35.0</td>\n",
       "      <td>0</td>\n",
       "      <td>0</td>\n",
       "      <td>8.0500</td>\n",
       "      <td>1</td>\n",
       "      <td>0</td>\n",
       "      <td>1</td>\n",
       "    </tr>\n",
       "  </tbody>\n",
       "</table>\n",
       "</div>"
      ],
      "text/plain": [
       "   PassengerId  Survived  Pclass   Age  SibSp  Parch     Fare  male  Q  S\n",
       "0            1         0       3  22.0      1      0   7.2500     1  0  1\n",
       "1            2         1       1  38.0      1      0  71.2833     0  0  0\n",
       "2            3         1       3  26.0      0      0   7.9250     0  0  1\n",
       "3            4         1       1  35.0      1      0  53.1000     0  0  1\n",
       "4            5         0       3  35.0      0      0   8.0500     1  0  1"
      ]
     },
     "execution_count": 35,
     "metadata": {},
     "output_type": "execute_result"
    }
   ],
   "source": [
    "df1 = pd.concat([df,sex,embark], axis=1)\n",
    "df1.head()"
   ]
  },
  {
   "cell_type": "code",
   "execution_count": 36,
   "metadata": {
    "execution": {
     "iopub.execute_input": "2020-11-06T13:32:00.661201Z",
     "iopub.status.busy": "2020-11-06T13:32:00.660313Z",
     "iopub.status.idle": "2020-11-06T13:32:00.664850Z",
     "shell.execute_reply": "2020-11-06T13:32:00.664190Z"
    },
    "papermill": {
     "duration": 0.090425,
     "end_time": "2020-11-06T13:32:00.664971",
     "exception": false,
     "start_time": "2020-11-06T13:32:00.574546",
     "status": "completed"
    },
    "tags": []
   },
   "outputs": [
    {
     "data": {
      "text/html": [
       "<div>\n",
       "<style scoped>\n",
       "    .dataframe tbody tr th:only-of-type {\n",
       "        vertical-align: middle;\n",
       "    }\n",
       "\n",
       "    .dataframe tbody tr th {\n",
       "        vertical-align: top;\n",
       "    }\n",
       "\n",
       "    .dataframe thead th {\n",
       "        text-align: right;\n",
       "    }\n",
       "</style>\n",
       "<table border=\"1\" class=\"dataframe\">\n",
       "  <thead>\n",
       "    <tr style=\"text-align: right;\">\n",
       "      <th></th>\n",
       "      <th>PassengerId</th>\n",
       "      <th>Survived</th>\n",
       "      <th>Pclass</th>\n",
       "      <th>Age</th>\n",
       "      <th>SibSp</th>\n",
       "      <th>Parch</th>\n",
       "      <th>Fare</th>\n",
       "      <th>male</th>\n",
       "      <th>Q</th>\n",
       "      <th>S</th>\n",
       "    </tr>\n",
       "  </thead>\n",
       "  <tbody>\n",
       "    <tr>\n",
       "      <th>886</th>\n",
       "      <td>887</td>\n",
       "      <td>0</td>\n",
       "      <td>2</td>\n",
       "      <td>27.0</td>\n",
       "      <td>0</td>\n",
       "      <td>0</td>\n",
       "      <td>13.00</td>\n",
       "      <td>1</td>\n",
       "      <td>0</td>\n",
       "      <td>1</td>\n",
       "    </tr>\n",
       "    <tr>\n",
       "      <th>887</th>\n",
       "      <td>888</td>\n",
       "      <td>1</td>\n",
       "      <td>1</td>\n",
       "      <td>19.0</td>\n",
       "      <td>0</td>\n",
       "      <td>0</td>\n",
       "      <td>30.00</td>\n",
       "      <td>0</td>\n",
       "      <td>0</td>\n",
       "      <td>1</td>\n",
       "    </tr>\n",
       "    <tr>\n",
       "      <th>888</th>\n",
       "      <td>889</td>\n",
       "      <td>0</td>\n",
       "      <td>3</td>\n",
       "      <td>24.0</td>\n",
       "      <td>1</td>\n",
       "      <td>2</td>\n",
       "      <td>23.45</td>\n",
       "      <td>0</td>\n",
       "      <td>0</td>\n",
       "      <td>1</td>\n",
       "    </tr>\n",
       "    <tr>\n",
       "      <th>889</th>\n",
       "      <td>890</td>\n",
       "      <td>1</td>\n",
       "      <td>1</td>\n",
       "      <td>26.0</td>\n",
       "      <td>0</td>\n",
       "      <td>0</td>\n",
       "      <td>30.00</td>\n",
       "      <td>1</td>\n",
       "      <td>0</td>\n",
       "      <td>0</td>\n",
       "    </tr>\n",
       "    <tr>\n",
       "      <th>890</th>\n",
       "      <td>891</td>\n",
       "      <td>0</td>\n",
       "      <td>3</td>\n",
       "      <td>32.0</td>\n",
       "      <td>0</td>\n",
       "      <td>0</td>\n",
       "      <td>7.75</td>\n",
       "      <td>1</td>\n",
       "      <td>1</td>\n",
       "      <td>0</td>\n",
       "    </tr>\n",
       "  </tbody>\n",
       "</table>\n",
       "</div>"
      ],
      "text/plain": [
       "     PassengerId  Survived  Pclass   Age  SibSp  Parch   Fare  male  Q  S\n",
       "886          887         0       2  27.0      0      0  13.00     1  0  1\n",
       "887          888         1       1  19.0      0      0  30.00     0  0  1\n",
       "888          889         0       3  24.0      1      2  23.45     0  0  1\n",
       "889          890         1       1  26.0      0      0  30.00     1  0  0\n",
       "890          891         0       3  32.0      0      0   7.75     1  1  0"
      ]
     },
     "execution_count": 36,
     "metadata": {},
     "output_type": "execute_result"
    }
   ],
   "source": [
    "df1.tail()"
   ]
  },
  {
   "cell_type": "code",
   "execution_count": 37,
   "metadata": {
    "execution": {
     "iopub.execute_input": "2020-11-06T13:32:00.817451Z",
     "iopub.status.busy": "2020-11-06T13:32:00.816331Z",
     "iopub.status.idle": "2020-11-06T13:32:00.826055Z",
     "shell.execute_reply": "2020-11-06T13:32:00.825413Z"
    },
    "papermill": {
     "duration": 0.088275,
     "end_time": "2020-11-06T13:32:00.826177",
     "exception": false,
     "start_time": "2020-11-06T13:32:00.737902",
     "status": "completed"
    },
    "tags": []
   },
   "outputs": [
    {
     "name": "stdout",
     "output_type": "stream",
     "text": [
      "(889, 10)\n"
     ]
    },
    {
     "data": {
      "text/plain": [
       "PassengerId    0\n",
       "Survived       0\n",
       "Pclass         0\n",
       "Age            0\n",
       "SibSp          0\n",
       "Parch          0\n",
       "Fare           0\n",
       "male           0\n",
       "Q              0\n",
       "S              0\n",
       "dtype: int64"
      ]
     },
     "execution_count": 37,
     "metadata": {},
     "output_type": "execute_result"
    }
   ],
   "source": [
    "print(df1.shape)\n",
    "df1.isnull().sum()"
   ]
  },
  {
   "cell_type": "code",
   "execution_count": 38,
   "metadata": {
    "execution": {
     "iopub.execute_input": "2020-11-06T13:32:00.980076Z",
     "iopub.status.busy": "2020-11-06T13:32:00.979314Z",
     "iopub.status.idle": "2020-11-06T13:32:00.984692Z",
     "shell.execute_reply": "2020-11-06T13:32:00.983902Z"
    },
    "papermill": {
     "duration": 0.084984,
     "end_time": "2020-11-06T13:32:00.984822",
     "exception": false,
     "start_time": "2020-11-06T13:32:00.899838",
     "status": "completed"
    },
    "tags": []
   },
   "outputs": [],
   "source": [
    "## Now my data is ready.\n",
    "## do a train test split and make logistic model."
   ]
  },
  {
   "cell_type": "markdown",
   "metadata": {
    "papermill": {
     "duration": 0.07288,
     "end_time": "2020-11-06T13:32:01.131792",
     "exception": false,
     "start_time": "2020-11-06T13:32:01.058912",
     "status": "completed"
    },
    "tags": []
   },
   "source": [
    "## Train Test Split"
   ]
  },
  {
   "cell_type": "code",
   "execution_count": 39,
   "metadata": {
    "execution": {
     "iopub.execute_input": "2020-11-06T13:32:01.292227Z",
     "iopub.status.busy": "2020-11-06T13:32:01.291424Z",
     "iopub.status.idle": "2020-11-06T13:32:01.418427Z",
     "shell.execute_reply": "2020-11-06T13:32:01.417637Z"
    },
    "papermill": {
     "duration": 0.20764,
     "end_time": "2020-11-06T13:32:01.418584",
     "exception": false,
     "start_time": "2020-11-06T13:32:01.210944",
     "status": "completed"
    },
    "tags": []
   },
   "outputs": [],
   "source": [
    "from sklearn.model_selection import train_test_split\n",
    "X = df1.drop('Survived', axis=1)\n",
    "y = df1['Survived']\n",
    "X_train , X_test , y_train , y_test , = train_test_split(X,y,  test_size = 0.30,\n",
    "                                                        random_state = 123)"
   ]
  },
  {
   "cell_type": "code",
   "execution_count": 40,
   "metadata": {
    "execution": {
     "iopub.execute_input": "2020-11-06T13:32:01.578951Z",
     "iopub.status.busy": "2020-11-06T13:32:01.577947Z",
     "iopub.status.idle": "2020-11-06T13:32:01.583082Z",
     "shell.execute_reply": "2020-11-06T13:32:01.582339Z"
    },
    "papermill": {
     "duration": 0.091196,
     "end_time": "2020-11-06T13:32:01.583209",
     "exception": false,
     "start_time": "2020-11-06T13:32:01.492013",
     "status": "completed"
    },
    "tags": []
   },
   "outputs": [
    {
     "data": {
      "text/html": [
       "<div>\n",
       "<style scoped>\n",
       "    .dataframe tbody tr th:only-of-type {\n",
       "        vertical-align: middle;\n",
       "    }\n",
       "\n",
       "    .dataframe tbody tr th {\n",
       "        vertical-align: top;\n",
       "    }\n",
       "\n",
       "    .dataframe thead th {\n",
       "        text-align: right;\n",
       "    }\n",
       "</style>\n",
       "<table border=\"1\" class=\"dataframe\">\n",
       "  <thead>\n",
       "    <tr style=\"text-align: right;\">\n",
       "      <th></th>\n",
       "      <th>PassengerId</th>\n",
       "      <th>Pclass</th>\n",
       "      <th>Age</th>\n",
       "      <th>SibSp</th>\n",
       "      <th>Parch</th>\n",
       "      <th>Fare</th>\n",
       "      <th>male</th>\n",
       "      <th>Q</th>\n",
       "      <th>S</th>\n",
       "    </tr>\n",
       "  </thead>\n",
       "  <tbody>\n",
       "    <tr>\n",
       "      <th>0</th>\n",
       "      <td>1</td>\n",
       "      <td>3</td>\n",
       "      <td>22.0</td>\n",
       "      <td>1</td>\n",
       "      <td>0</td>\n",
       "      <td>7.25</td>\n",
       "      <td>1</td>\n",
       "      <td>0</td>\n",
       "      <td>1</td>\n",
       "    </tr>\n",
       "  </tbody>\n",
       "</table>\n",
       "</div>"
      ],
      "text/plain": [
       "   PassengerId  Pclass   Age  SibSp  Parch  Fare  male  Q  S\n",
       "0            1       3  22.0      1      0  7.25     1  0  1"
      ]
     },
     "execution_count": 40,
     "metadata": {},
     "output_type": "execute_result"
    }
   ],
   "source": [
    "X.head(1)"
   ]
  },
  {
   "cell_type": "code",
   "execution_count": 41,
   "metadata": {
    "execution": {
     "iopub.execute_input": "2020-11-06T13:32:01.747665Z",
     "iopub.status.busy": "2020-11-06T13:32:01.746539Z",
     "iopub.status.idle": "2020-11-06T13:32:01.750906Z",
     "shell.execute_reply": "2020-11-06T13:32:01.750154Z"
    },
    "papermill": {
     "duration": 0.092259,
     "end_time": "2020-11-06T13:32:01.751029",
     "exception": false,
     "start_time": "2020-11-06T13:32:01.658770",
     "status": "completed"
    },
    "tags": []
   },
   "outputs": [
    {
     "data": {
      "text/html": [
       "<div>\n",
       "<style scoped>\n",
       "    .dataframe tbody tr th:only-of-type {\n",
       "        vertical-align: middle;\n",
       "    }\n",
       "\n",
       "    .dataframe tbody tr th {\n",
       "        vertical-align: top;\n",
       "    }\n",
       "\n",
       "    .dataframe thead th {\n",
       "        text-align: right;\n",
       "    }\n",
       "</style>\n",
       "<table border=\"1\" class=\"dataframe\">\n",
       "  <thead>\n",
       "    <tr style=\"text-align: right;\">\n",
       "      <th></th>\n",
       "      <th>PassengerId</th>\n",
       "      <th>Pclass</th>\n",
       "      <th>Age</th>\n",
       "      <th>SibSp</th>\n",
       "      <th>Parch</th>\n",
       "      <th>Fare</th>\n",
       "      <th>male</th>\n",
       "      <th>Q</th>\n",
       "      <th>S</th>\n",
       "    </tr>\n",
       "  </thead>\n",
       "  <tbody>\n",
       "    <tr>\n",
       "      <th>591</th>\n",
       "      <td>592</td>\n",
       "      <td>1</td>\n",
       "      <td>52.0</td>\n",
       "      <td>1</td>\n",
       "      <td>0</td>\n",
       "      <td>78.2667</td>\n",
       "      <td>0</td>\n",
       "      <td>0</td>\n",
       "      <td>0</td>\n",
       "    </tr>\n",
       "  </tbody>\n",
       "</table>\n",
       "</div>"
      ],
      "text/plain": [
       "     PassengerId  Pclass   Age  SibSp  Parch     Fare  male  Q  S\n",
       "591          592       1  52.0      1      0  78.2667     0  0  0"
      ]
     },
     "execution_count": 41,
     "metadata": {},
     "output_type": "execute_result"
    }
   ],
   "source": [
    "X_train.head(1)"
   ]
  },
  {
   "cell_type": "code",
   "execution_count": 42,
   "metadata": {
    "execution": {
     "iopub.execute_input": "2020-11-06T13:32:01.917310Z",
     "iopub.status.busy": "2020-11-06T13:32:01.916099Z",
     "iopub.status.idle": "2020-11-06T13:32:01.921087Z",
     "shell.execute_reply": "2020-11-06T13:32:01.920495Z"
    },
    "papermill": {
     "duration": 0.094682,
     "end_time": "2020-11-06T13:32:01.921224",
     "exception": false,
     "start_time": "2020-11-06T13:32:01.826542",
     "status": "completed"
    },
    "tags": []
   },
   "outputs": [
    {
     "data": {
      "text/html": [
       "<div>\n",
       "<style scoped>\n",
       "    .dataframe tbody tr th:only-of-type {\n",
       "        vertical-align: middle;\n",
       "    }\n",
       "\n",
       "    .dataframe tbody tr th {\n",
       "        vertical-align: top;\n",
       "    }\n",
       "\n",
       "    .dataframe thead th {\n",
       "        text-align: right;\n",
       "    }\n",
       "</style>\n",
       "<table border=\"1\" class=\"dataframe\">\n",
       "  <thead>\n",
       "    <tr style=\"text-align: right;\">\n",
       "      <th></th>\n",
       "      <th>PassengerId</th>\n",
       "      <th>Pclass</th>\n",
       "      <th>Age</th>\n",
       "      <th>SibSp</th>\n",
       "      <th>Parch</th>\n",
       "      <th>Fare</th>\n",
       "      <th>male</th>\n",
       "      <th>Q</th>\n",
       "      <th>S</th>\n",
       "    </tr>\n",
       "  </thead>\n",
       "  <tbody>\n",
       "    <tr>\n",
       "      <th>173</th>\n",
       "      <td>174</td>\n",
       "      <td>3</td>\n",
       "      <td>21.0</td>\n",
       "      <td>0</td>\n",
       "      <td>0</td>\n",
       "      <td>7.925</td>\n",
       "      <td>1</td>\n",
       "      <td>0</td>\n",
       "      <td>1</td>\n",
       "    </tr>\n",
       "  </tbody>\n",
       "</table>\n",
       "</div>"
      ],
      "text/plain": [
       "     PassengerId  Pclass   Age  SibSp  Parch   Fare  male  Q  S\n",
       "173          174       3  21.0      0      0  7.925     1  0  1"
      ]
     },
     "execution_count": 42,
     "metadata": {},
     "output_type": "execute_result"
    }
   ],
   "source": [
    "X_test.head(1)"
   ]
  },
  {
   "cell_type": "code",
   "execution_count": 43,
   "metadata": {
    "execution": {
     "iopub.execute_input": "2020-11-06T13:32:02.082548Z",
     "iopub.status.busy": "2020-11-06T13:32:02.081685Z",
     "iopub.status.idle": "2020-11-06T13:32:02.086757Z",
     "shell.execute_reply": "2020-11-06T13:32:02.085937Z"
    },
    "papermill": {
     "duration": 0.08851,
     "end_time": "2020-11-06T13:32:02.086902",
     "exception": false,
     "start_time": "2020-11-06T13:32:01.998392",
     "status": "completed"
    },
    "tags": []
   },
   "outputs": [
    {
     "data": {
      "text/plain": [
       "0    0\n",
       "Name: Survived, dtype: int64"
      ]
     },
     "execution_count": 43,
     "metadata": {},
     "output_type": "execute_result"
    }
   ],
   "source": [
    "y.head(1)"
   ]
  },
  {
   "cell_type": "code",
   "execution_count": 44,
   "metadata": {
    "execution": {
     "iopub.execute_input": "2020-11-06T13:32:02.249929Z",
     "iopub.status.busy": "2020-11-06T13:32:02.248747Z",
     "iopub.status.idle": "2020-11-06T13:32:02.253060Z",
     "shell.execute_reply": "2020-11-06T13:32:02.252320Z"
    },
    "papermill": {
     "duration": 0.089069,
     "end_time": "2020-11-06T13:32:02.253182",
     "exception": false,
     "start_time": "2020-11-06T13:32:02.164113",
     "status": "completed"
    },
    "tags": []
   },
   "outputs": [
    {
     "data": {
      "text/plain": [
       "591    1\n",
       "Name: Survived, dtype: int64"
      ]
     },
     "execution_count": 44,
     "metadata": {},
     "output_type": "execute_result"
    }
   ],
   "source": [
    "y_train.head(1)"
   ]
  },
  {
   "cell_type": "code",
   "execution_count": 45,
   "metadata": {
    "execution": {
     "iopub.execute_input": "2020-11-06T13:32:02.415031Z",
     "iopub.status.busy": "2020-11-06T13:32:02.414161Z",
     "iopub.status.idle": "2020-11-06T13:32:02.418180Z",
     "shell.execute_reply": "2020-11-06T13:32:02.418761Z"
    },
    "papermill": {
     "duration": 0.088105,
     "end_time": "2020-11-06T13:32:02.418940",
     "exception": false,
     "start_time": "2020-11-06T13:32:02.330835",
     "status": "completed"
    },
    "tags": []
   },
   "outputs": [
    {
     "data": {
      "text/plain": [
       "173    0\n",
       "Name: Survived, dtype: int64"
      ]
     },
     "execution_count": 45,
     "metadata": {},
     "output_type": "execute_result"
    }
   ],
   "source": [
    "y_test.head(1)"
   ]
  },
  {
   "cell_type": "markdown",
   "metadata": {
    "papermill": {
     "duration": 0.077294,
     "end_time": "2020-11-06T13:32:02.574218",
     "exception": false,
     "start_time": "2020-11-06T13:32:02.496924",
     "status": "completed"
    },
    "tags": []
   },
   "source": [
    "## Training and Predicting"
   ]
  },
  {
   "cell_type": "code",
   "execution_count": 46,
   "metadata": {
    "execution": {
     "iopub.execute_input": "2020-11-06T13:32:02.744579Z",
     "iopub.status.busy": "2020-11-06T13:32:02.743432Z",
     "iopub.status.idle": "2020-11-06T13:32:02.747743Z",
     "shell.execute_reply": "2020-11-06T13:32:02.747147Z"
    },
    "papermill": {
     "duration": 0.09608,
     "end_time": "2020-11-06T13:32:02.747878",
     "exception": false,
     "start_time": "2020-11-06T13:32:02.651798",
     "status": "completed"
    },
    "tags": []
   },
   "outputs": [
    {
     "data": {
      "text/html": [
       "<div>\n",
       "<style scoped>\n",
       "    .dataframe tbody tr th:only-of-type {\n",
       "        vertical-align: middle;\n",
       "    }\n",
       "\n",
       "    .dataframe tbody tr th {\n",
       "        vertical-align: top;\n",
       "    }\n",
       "\n",
       "    .dataframe thead th {\n",
       "        text-align: right;\n",
       "    }\n",
       "</style>\n",
       "<table border=\"1\" class=\"dataframe\">\n",
       "  <thead>\n",
       "    <tr style=\"text-align: right;\">\n",
       "      <th></th>\n",
       "      <th>PassengerId</th>\n",
       "      <th>Pclass</th>\n",
       "      <th>Age</th>\n",
       "      <th>SibSp</th>\n",
       "      <th>Parch</th>\n",
       "      <th>Fare</th>\n",
       "      <th>male</th>\n",
       "      <th>Q</th>\n",
       "      <th>S</th>\n",
       "    </tr>\n",
       "  </thead>\n",
       "  <tbody>\n",
       "    <tr>\n",
       "      <th>591</th>\n",
       "      <td>592</td>\n",
       "      <td>1</td>\n",
       "      <td>52.0</td>\n",
       "      <td>1</td>\n",
       "      <td>0</td>\n",
       "      <td>78.2667</td>\n",
       "      <td>0</td>\n",
       "      <td>0</td>\n",
       "      <td>0</td>\n",
       "    </tr>\n",
       "    <tr>\n",
       "      <th>417</th>\n",
       "      <td>418</td>\n",
       "      <td>2</td>\n",
       "      <td>18.0</td>\n",
       "      <td>0</td>\n",
       "      <td>2</td>\n",
       "      <td>13.0000</td>\n",
       "      <td>0</td>\n",
       "      <td>0</td>\n",
       "      <td>1</td>\n",
       "    </tr>\n",
       "    <tr>\n",
       "      <th>745</th>\n",
       "      <td>746</td>\n",
       "      <td>1</td>\n",
       "      <td>70.0</td>\n",
       "      <td>1</td>\n",
       "      <td>1</td>\n",
       "      <td>71.0000</td>\n",
       "      <td>1</td>\n",
       "      <td>0</td>\n",
       "      <td>1</td>\n",
       "    </tr>\n",
       "    <tr>\n",
       "      <th>513</th>\n",
       "      <td>514</td>\n",
       "      <td>1</td>\n",
       "      <td>54.0</td>\n",
       "      <td>1</td>\n",
       "      <td>0</td>\n",
       "      <td>59.4000</td>\n",
       "      <td>0</td>\n",
       "      <td>0</td>\n",
       "      <td>0</td>\n",
       "    </tr>\n",
       "    <tr>\n",
       "      <th>456</th>\n",
       "      <td>457</td>\n",
       "      <td>1</td>\n",
       "      <td>65.0</td>\n",
       "      <td>0</td>\n",
       "      <td>0</td>\n",
       "      <td>26.5500</td>\n",
       "      <td>1</td>\n",
       "      <td>0</td>\n",
       "      <td>1</td>\n",
       "    </tr>\n",
       "  </tbody>\n",
       "</table>\n",
       "</div>"
      ],
      "text/plain": [
       "     PassengerId  Pclass   Age  SibSp  Parch     Fare  male  Q  S\n",
       "591          592       1  52.0      1      0  78.2667     0  0  0\n",
       "417          418       2  18.0      0      2  13.0000     0  0  1\n",
       "745          746       1  70.0      1      1  71.0000     1  0  1\n",
       "513          514       1  54.0      1      0  59.4000     0  0  0\n",
       "456          457       1  65.0      0      0  26.5500     1  0  1"
      ]
     },
     "execution_count": 46,
     "metadata": {},
     "output_type": "execute_result"
    }
   ],
   "source": [
    "X_train.head()"
   ]
  },
  {
   "cell_type": "code",
   "execution_count": 47,
   "metadata": {
    "execution": {
     "iopub.execute_input": "2020-11-06T13:32:02.910271Z",
     "iopub.status.busy": "2020-11-06T13:32:02.909435Z",
     "iopub.status.idle": "2020-11-06T13:32:03.046752Z",
     "shell.execute_reply": "2020-11-06T13:32:03.047394Z"
    },
    "papermill": {
     "duration": 0.22144,
     "end_time": "2020-11-06T13:32:03.047605",
     "exception": false,
     "start_time": "2020-11-06T13:32:02.826165",
     "status": "completed"
    },
    "tags": []
   },
   "outputs": [
    {
     "data": {
      "text/plain": [
       "LogisticRegression()"
      ]
     },
     "execution_count": 47,
     "metadata": {},
     "output_type": "execute_result"
    }
   ],
   "source": [
    "from sklearn.linear_model import LogisticRegression\n",
    "\n",
    "model = LogisticRegression()\n",
    "model.fit(X_train , y_train)"
   ]
  },
  {
   "cell_type": "code",
   "execution_count": 48,
   "metadata": {
    "execution": {
     "iopub.execute_input": "2020-11-06T13:32:03.221248Z",
     "iopub.status.busy": "2020-11-06T13:32:03.219792Z",
     "iopub.status.idle": "2020-11-06T13:32:03.222975Z",
     "shell.execute_reply": "2020-11-06T13:32:03.223628Z"
    },
    "papermill": {
     "duration": 0.09351,
     "end_time": "2020-11-06T13:32:03.223814",
     "exception": false,
     "start_time": "2020-11-06T13:32:03.130304",
     "status": "completed"
    },
    "tags": []
   },
   "outputs": [],
   "source": [
    "predictions = model.predict(X_test)"
   ]
  },
  {
   "cell_type": "code",
   "execution_count": 49,
   "metadata": {
    "execution": {
     "iopub.execute_input": "2020-11-06T13:32:03.390124Z",
     "iopub.status.busy": "2020-11-06T13:32:03.389342Z",
     "iopub.status.idle": "2020-11-06T13:32:03.395280Z",
     "shell.execute_reply": "2020-11-06T13:32:03.394691Z"
    },
    "papermill": {
     "duration": 0.090604,
     "end_time": "2020-11-06T13:32:03.395413",
     "exception": false,
     "start_time": "2020-11-06T13:32:03.304809",
     "status": "completed"
    },
    "tags": []
   },
   "outputs": [
    {
     "data": {
      "text/plain": [
       "0.7902621722846442"
      ]
     },
     "execution_count": 49,
     "metadata": {},
     "output_type": "execute_result"
    }
   ],
   "source": [
    "from sklearn.metrics import confusion_matrix , accuracy_score\n",
    "accuracy = accuracy_score(y_test, predictions)\n",
    "accuracy"
   ]
  },
  {
   "cell_type": "code",
   "execution_count": 50,
   "metadata": {
    "execution": {
     "iopub.execute_input": "2020-11-06T13:32:03.561914Z",
     "iopub.status.busy": "2020-11-06T13:32:03.560936Z",
     "iopub.status.idle": "2020-11-06T13:32:03.568438Z",
     "shell.execute_reply": "2020-11-06T13:32:03.567720Z"
    },
    "papermill": {
     "duration": 0.093011,
     "end_time": "2020-11-06T13:32:03.568587",
     "exception": false,
     "start_time": "2020-11-06T13:32:03.475576",
     "status": "completed"
    },
    "tags": []
   },
   "outputs": [
    {
     "data": {
      "text/plain": [
       "array([[143,  18],\n",
       "       [ 38,  68]])"
      ]
     },
     "execution_count": 50,
     "metadata": {},
     "output_type": "execute_result"
    }
   ],
   "source": [
    "C_Matrix = confusion_matrix(y_test, predictions)\n",
    "C_Matrix"
   ]
  },
  {
   "cell_type": "code",
   "execution_count": null,
   "metadata": {
    "papermill": {
     "duration": 0.080831,
     "end_time": "2020-11-06T13:32:03.730452",
     "exception": false,
     "start_time": "2020-11-06T13:32:03.649621",
     "status": "completed"
    },
    "tags": []
   },
   "outputs": [],
   "source": []
  }
 ],
 "metadata": {
  "kernelspec": {
   "display_name": "Python 3",
   "language": "python",
   "name": "python3"
  },
  "language_info": {
   "codemirror_mode": {
    "name": "ipython",
    "version": 3
   },
   "file_extension": ".py",
   "mimetype": "text/x-python",
   "name": "python",
   "nbconvert_exporter": "python",
   "pygments_lexer": "ipython3",
   "version": "3.7.6"
  },
  "papermill": {
   "duration": 19.793087,
   "end_time": "2020-11-06T13:32:03.921590",
   "environment_variables": {},
   "exception": null,
   "input_path": "__notebook__.ipynb",
   "output_path": "__notebook__.ipynb",
   "parameters": {},
   "start_time": "2020-11-06T13:31:44.128503",
   "version": "2.1.0"
  }
 },
 "nbformat": 4,
 "nbformat_minor": 4
}
