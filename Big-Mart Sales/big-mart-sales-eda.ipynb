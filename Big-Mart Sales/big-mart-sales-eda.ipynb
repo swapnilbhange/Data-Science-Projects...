{
 "cells": [
  {
   "cell_type": "markdown",
   "metadata": {
    "papermill": {
     "duration": 0.046093,
     "end_time": "2020-10-26T05:27:18.879635",
     "exception": false,
     "start_time": "2020-10-26T05:27:18.833542",
     "status": "completed"
    },
    "tags": []
   },
   "source": [
    "# Big Mart Sales Prediction"
   ]
  },
  {
   "cell_type": "markdown",
   "metadata": {
    "papermill": {
     "duration": 0.044697,
     "end_time": "2020-10-26T05:27:18.969675",
     "exception": false,
     "start_time": "2020-10-26T05:27:18.924978",
     "status": "completed"
    },
    "tags": []
   },
   "source": [
    "Sales Prediction for Big Mart Outlets\n",
    "The data scientists at BigMart have collected 2013 sales data for 1559 products across 10 stores in different cities. Also, certain attributes of each product and store have been defined. The aim is to build a predictive model and predict the sales of each product at a particular outlet.\n",
    "\n",
    "Using this model, BigMart will try to understand the properties of products and outlets which play a key role in increasing sales.\n",
    "\n",
    "Please note that the data may have missing values as some stores might not report all the data due to technical glitches. Hence, it will be required to treat them accordingly. "
   ]
  },
  {
   "cell_type": "markdown",
   "metadata": {
    "papermill": {
     "duration": 0.044704,
     "end_time": "2020-10-26T05:27:19.059639",
     "exception": false,
     "start_time": "2020-10-26T05:27:19.014935",
     "status": "completed"
    },
    "tags": []
   },
   "source": [
    "Data Dictionary\n",
    "We have train (8523) and test (5681) data set, train data set has both input and output variable(s). You need to predict the sales for test data set."
   ]
  },
  {
   "cell_type": "markdown",
   "metadata": {
    "papermill": {
     "duration": 0.046313,
     "end_time": "2020-10-26T05:27:19.151035",
     "exception": false,
     "start_time": "2020-10-26T05:27:19.104722",
     "status": "completed"
    },
    "tags": []
   },
   "source": [
    "[Dataset link ](https://www.kaggle.com/brijbhushannanda1979/bigmart-sales-data)"
   ]
  },
  {
   "cell_type": "markdown",
   "metadata": {
    "papermill": {
     "duration": 0.044592,
     "end_time": "2020-10-26T05:27:19.241322",
     "exception": false,
     "start_time": "2020-10-26T05:27:19.196730",
     "status": "completed"
    },
    "tags": []
   },
   "source": [
    "### importing Libraries"
   ]
  },
  {
   "cell_type": "code",
   "execution_count": 1,
   "metadata": {
    "execution": {
     "iopub.execute_input": "2020-10-26T05:27:19.340681Z",
     "iopub.status.busy": "2020-10-26T05:27:19.339772Z",
     "iopub.status.idle": "2020-10-26T05:27:20.210456Z",
     "shell.execute_reply": "2020-10-26T05:27:20.209602Z"
    },
    "papermill": {
     "duration": 0.92379,
     "end_time": "2020-10-26T05:27:20.210601",
     "exception": false,
     "start_time": "2020-10-26T05:27:19.286811",
     "status": "completed"
    },
    "tags": []
   },
   "outputs": [],
   "source": [
    "import pandas as pd\n",
    "import numpy as np\n",
    "import matplotlib.pyplot as plt\n",
    "import seaborn as sns\n",
    "%matplotlib inline"
   ]
  },
  {
   "cell_type": "markdown",
   "metadata": {
    "papermill": {
     "duration": 0.045884,
     "end_time": "2020-10-26T05:27:20.302376",
     "exception": false,
     "start_time": "2020-10-26T05:27:20.256492",
     "status": "completed"
    },
    "tags": []
   },
   "source": [
    "### importing datasets"
   ]
  },
  {
   "cell_type": "code",
   "execution_count": 2,
   "metadata": {
    "execution": {
     "iopub.execute_input": "2020-10-26T05:27:20.403382Z",
     "iopub.status.busy": "2020-10-26T05:27:20.402491Z",
     "iopub.status.idle": "2020-10-26T05:27:20.464832Z",
     "shell.execute_reply": "2020-10-26T05:27:20.463941Z"
    },
    "papermill": {
     "duration": 0.116791,
     "end_time": "2020-10-26T05:27:20.464994",
     "exception": false,
     "start_time": "2020-10-26T05:27:20.348203",
     "status": "completed"
    },
    "tags": []
   },
   "outputs": [],
   "source": [
    "train = pd.read_csv('../input/bigmart-sales-data/Train.csv')\n",
    "test = pd.read_csv(\"../input/bigmart-sales-data/Test.csv\")"
   ]
  },
  {
   "cell_type": "code",
   "execution_count": 3,
   "metadata": {
    "execution": {
     "iopub.execute_input": "2020-10-26T05:27:20.577805Z",
     "iopub.status.busy": "2020-10-26T05:27:20.576966Z",
     "iopub.status.idle": "2020-10-26T05:27:20.592164Z",
     "shell.execute_reply": "2020-10-26T05:27:20.592733Z"
    },
    "papermill": {
     "duration": 0.081636,
     "end_time": "2020-10-26T05:27:20.592919",
     "exception": false,
     "start_time": "2020-10-26T05:27:20.511283",
     "status": "completed"
    },
    "tags": []
   },
   "outputs": [
    {
     "data": {
      "text/html": [
       "<div>\n",
       "<style scoped>\n",
       "    .dataframe tbody tr th:only-of-type {\n",
       "        vertical-align: middle;\n",
       "    }\n",
       "\n",
       "    .dataframe tbody tr th {\n",
       "        vertical-align: top;\n",
       "    }\n",
       "\n",
       "    .dataframe thead th {\n",
       "        text-align: right;\n",
       "    }\n",
       "</style>\n",
       "<table border=\"1\" class=\"dataframe\">\n",
       "  <thead>\n",
       "    <tr style=\"text-align: right;\">\n",
       "      <th></th>\n",
       "      <th>Item_Identifier</th>\n",
       "      <th>Item_Weight</th>\n",
       "      <th>Item_Fat_Content</th>\n",
       "      <th>Item_Visibility</th>\n",
       "      <th>Item_Type</th>\n",
       "      <th>Item_MRP</th>\n",
       "      <th>Outlet_Identifier</th>\n",
       "      <th>Outlet_Establishment_Year</th>\n",
       "      <th>Outlet_Size</th>\n",
       "      <th>Outlet_Location_Type</th>\n",
       "      <th>Outlet_Type</th>\n",
       "      <th>Item_Outlet_Sales</th>\n",
       "    </tr>\n",
       "  </thead>\n",
       "  <tbody>\n",
       "    <tr>\n",
       "      <th>0</th>\n",
       "      <td>FDA15</td>\n",
       "      <td>9.30</td>\n",
       "      <td>Low Fat</td>\n",
       "      <td>0.016047</td>\n",
       "      <td>Dairy</td>\n",
       "      <td>249.8092</td>\n",
       "      <td>OUT049</td>\n",
       "      <td>1999</td>\n",
       "      <td>Medium</td>\n",
       "      <td>Tier 1</td>\n",
       "      <td>Supermarket Type1</td>\n",
       "      <td>3735.1380</td>\n",
       "    </tr>\n",
       "    <tr>\n",
       "      <th>1</th>\n",
       "      <td>DRC01</td>\n",
       "      <td>5.92</td>\n",
       "      <td>Regular</td>\n",
       "      <td>0.019278</td>\n",
       "      <td>Soft Drinks</td>\n",
       "      <td>48.2692</td>\n",
       "      <td>OUT018</td>\n",
       "      <td>2009</td>\n",
       "      <td>Medium</td>\n",
       "      <td>Tier 3</td>\n",
       "      <td>Supermarket Type2</td>\n",
       "      <td>443.4228</td>\n",
       "    </tr>\n",
       "    <tr>\n",
       "      <th>2</th>\n",
       "      <td>FDN15</td>\n",
       "      <td>17.50</td>\n",
       "      <td>Low Fat</td>\n",
       "      <td>0.016760</td>\n",
       "      <td>Meat</td>\n",
       "      <td>141.6180</td>\n",
       "      <td>OUT049</td>\n",
       "      <td>1999</td>\n",
       "      <td>Medium</td>\n",
       "      <td>Tier 1</td>\n",
       "      <td>Supermarket Type1</td>\n",
       "      <td>2097.2700</td>\n",
       "    </tr>\n",
       "    <tr>\n",
       "      <th>3</th>\n",
       "      <td>FDX07</td>\n",
       "      <td>19.20</td>\n",
       "      <td>Regular</td>\n",
       "      <td>0.000000</td>\n",
       "      <td>Fruits and Vegetables</td>\n",
       "      <td>182.0950</td>\n",
       "      <td>OUT010</td>\n",
       "      <td>1998</td>\n",
       "      <td>NaN</td>\n",
       "      <td>Tier 3</td>\n",
       "      <td>Grocery Store</td>\n",
       "      <td>732.3800</td>\n",
       "    </tr>\n",
       "    <tr>\n",
       "      <th>4</th>\n",
       "      <td>NCD19</td>\n",
       "      <td>8.93</td>\n",
       "      <td>Low Fat</td>\n",
       "      <td>0.000000</td>\n",
       "      <td>Household</td>\n",
       "      <td>53.8614</td>\n",
       "      <td>OUT013</td>\n",
       "      <td>1987</td>\n",
       "      <td>High</td>\n",
       "      <td>Tier 3</td>\n",
       "      <td>Supermarket Type1</td>\n",
       "      <td>994.7052</td>\n",
       "    </tr>\n",
       "  </tbody>\n",
       "</table>\n",
       "</div>"
      ],
      "text/plain": [
       "  Item_Identifier  Item_Weight Item_Fat_Content  Item_Visibility  \\\n",
       "0           FDA15         9.30          Low Fat         0.016047   \n",
       "1           DRC01         5.92          Regular         0.019278   \n",
       "2           FDN15        17.50          Low Fat         0.016760   \n",
       "3           FDX07        19.20          Regular         0.000000   \n",
       "4           NCD19         8.93          Low Fat         0.000000   \n",
       "\n",
       "               Item_Type  Item_MRP Outlet_Identifier  \\\n",
       "0                  Dairy  249.8092            OUT049   \n",
       "1            Soft Drinks   48.2692            OUT018   \n",
       "2                   Meat  141.6180            OUT049   \n",
       "3  Fruits and Vegetables  182.0950            OUT010   \n",
       "4              Household   53.8614            OUT013   \n",
       "\n",
       "   Outlet_Establishment_Year Outlet_Size Outlet_Location_Type  \\\n",
       "0                       1999      Medium               Tier 1   \n",
       "1                       2009      Medium               Tier 3   \n",
       "2                       1999      Medium               Tier 1   \n",
       "3                       1998         NaN               Tier 3   \n",
       "4                       1987        High               Tier 3   \n",
       "\n",
       "         Outlet_Type  Item_Outlet_Sales  \n",
       "0  Supermarket Type1          3735.1380  \n",
       "1  Supermarket Type2           443.4228  \n",
       "2  Supermarket Type1          2097.2700  \n",
       "3      Grocery Store           732.3800  \n",
       "4  Supermarket Type1           994.7052  "
      ]
     },
     "execution_count": 3,
     "metadata": {},
     "output_type": "execute_result"
    }
   ],
   "source": [
    "train.head()"
   ]
  },
  {
   "cell_type": "code",
   "execution_count": 4,
   "metadata": {
    "execution": {
     "iopub.execute_input": "2020-10-26T05:27:20.695971Z",
     "iopub.status.busy": "2020-10-26T05:27:20.695092Z",
     "iopub.status.idle": "2020-10-26T05:27:20.722993Z",
     "shell.execute_reply": "2020-10-26T05:27:20.723530Z"
    },
    "papermill": {
     "duration": 0.083804,
     "end_time": "2020-10-26T05:27:20.723691",
     "exception": false,
     "start_time": "2020-10-26T05:27:20.639887",
     "status": "completed"
    },
    "scrolled": true,
    "tags": []
   },
   "outputs": [
    {
     "data": {
      "text/html": [
       "<div>\n",
       "<style scoped>\n",
       "    .dataframe tbody tr th:only-of-type {\n",
       "        vertical-align: middle;\n",
       "    }\n",
       "\n",
       "    .dataframe tbody tr th {\n",
       "        vertical-align: top;\n",
       "    }\n",
       "\n",
       "    .dataframe thead th {\n",
       "        text-align: right;\n",
       "    }\n",
       "</style>\n",
       "<table border=\"1\" class=\"dataframe\">\n",
       "  <thead>\n",
       "    <tr style=\"text-align: right;\">\n",
       "      <th></th>\n",
       "      <th>Item_Weight</th>\n",
       "      <th>Item_Visibility</th>\n",
       "      <th>Item_MRP</th>\n",
       "      <th>Outlet_Establishment_Year</th>\n",
       "      <th>Item_Outlet_Sales</th>\n",
       "    </tr>\n",
       "  </thead>\n",
       "  <tbody>\n",
       "    <tr>\n",
       "      <th>count</th>\n",
       "      <td>7060.000000</td>\n",
       "      <td>8523.000000</td>\n",
       "      <td>8523.000000</td>\n",
       "      <td>8523.000000</td>\n",
       "      <td>8523.000000</td>\n",
       "    </tr>\n",
       "    <tr>\n",
       "      <th>mean</th>\n",
       "      <td>12.857645</td>\n",
       "      <td>0.066132</td>\n",
       "      <td>140.992782</td>\n",
       "      <td>1997.831867</td>\n",
       "      <td>2181.288914</td>\n",
       "    </tr>\n",
       "    <tr>\n",
       "      <th>std</th>\n",
       "      <td>4.643456</td>\n",
       "      <td>0.051598</td>\n",
       "      <td>62.275067</td>\n",
       "      <td>8.371760</td>\n",
       "      <td>1706.499616</td>\n",
       "    </tr>\n",
       "    <tr>\n",
       "      <th>min</th>\n",
       "      <td>4.555000</td>\n",
       "      <td>0.000000</td>\n",
       "      <td>31.290000</td>\n",
       "      <td>1985.000000</td>\n",
       "      <td>33.290000</td>\n",
       "    </tr>\n",
       "    <tr>\n",
       "      <th>25%</th>\n",
       "      <td>8.773750</td>\n",
       "      <td>0.026989</td>\n",
       "      <td>93.826500</td>\n",
       "      <td>1987.000000</td>\n",
       "      <td>834.247400</td>\n",
       "    </tr>\n",
       "    <tr>\n",
       "      <th>50%</th>\n",
       "      <td>12.600000</td>\n",
       "      <td>0.053931</td>\n",
       "      <td>143.012800</td>\n",
       "      <td>1999.000000</td>\n",
       "      <td>1794.331000</td>\n",
       "    </tr>\n",
       "    <tr>\n",
       "      <th>75%</th>\n",
       "      <td>16.850000</td>\n",
       "      <td>0.094585</td>\n",
       "      <td>185.643700</td>\n",
       "      <td>2004.000000</td>\n",
       "      <td>3101.296400</td>\n",
       "    </tr>\n",
       "    <tr>\n",
       "      <th>max</th>\n",
       "      <td>21.350000</td>\n",
       "      <td>0.328391</td>\n",
       "      <td>266.888400</td>\n",
       "      <td>2009.000000</td>\n",
       "      <td>13086.964800</td>\n",
       "    </tr>\n",
       "  </tbody>\n",
       "</table>\n",
       "</div>"
      ],
      "text/plain": [
       "       Item_Weight  Item_Visibility     Item_MRP  Outlet_Establishment_Year  \\\n",
       "count  7060.000000      8523.000000  8523.000000                8523.000000   \n",
       "mean     12.857645         0.066132   140.992782                1997.831867   \n",
       "std       4.643456         0.051598    62.275067                   8.371760   \n",
       "min       4.555000         0.000000    31.290000                1985.000000   \n",
       "25%       8.773750         0.026989    93.826500                1987.000000   \n",
       "50%      12.600000         0.053931   143.012800                1999.000000   \n",
       "75%      16.850000         0.094585   185.643700                2004.000000   \n",
       "max      21.350000         0.328391   266.888400                2009.000000   \n",
       "\n",
       "       Item_Outlet_Sales  \n",
       "count        8523.000000  \n",
       "mean         2181.288914  \n",
       "std          1706.499616  \n",
       "min            33.290000  \n",
       "25%           834.247400  \n",
       "50%          1794.331000  \n",
       "75%          3101.296400  \n",
       "max         13086.964800  "
      ]
     },
     "execution_count": 4,
     "metadata": {},
     "output_type": "execute_result"
    }
   ],
   "source": [
    "train.describe()"
   ]
  },
  {
   "cell_type": "code",
   "execution_count": 5,
   "metadata": {
    "execution": {
     "iopub.execute_input": "2020-10-26T05:27:20.832191Z",
     "iopub.status.busy": "2020-10-26T05:27:20.831387Z",
     "iopub.status.idle": "2020-10-26T05:27:20.844056Z",
     "shell.execute_reply": "2020-10-26T05:27:20.844897Z"
    },
    "papermill": {
     "duration": 0.074091,
     "end_time": "2020-10-26T05:27:20.845113",
     "exception": false,
     "start_time": "2020-10-26T05:27:20.771022",
     "status": "completed"
    },
    "tags": []
   },
   "outputs": [
    {
     "name": "stdout",
     "output_type": "stream",
     "text": [
      "<class 'pandas.core.frame.DataFrame'>\n",
      "RangeIndex: 8523 entries, 0 to 8522\n",
      "Data columns (total 12 columns):\n",
      " #   Column                     Non-Null Count  Dtype  \n",
      "---  ------                     --------------  -----  \n",
      " 0   Item_Identifier            8523 non-null   object \n",
      " 1   Item_Weight                7060 non-null   float64\n",
      " 2   Item_Fat_Content           8523 non-null   object \n",
      " 3   Item_Visibility            8523 non-null   float64\n",
      " 4   Item_Type                  8523 non-null   object \n",
      " 5   Item_MRP                   8523 non-null   float64\n",
      " 6   Outlet_Identifier          8523 non-null   object \n",
      " 7   Outlet_Establishment_Year  8523 non-null   int64  \n",
      " 8   Outlet_Size                6113 non-null   object \n",
      " 9   Outlet_Location_Type       8523 non-null   object \n",
      " 10  Outlet_Type                8523 non-null   object \n",
      " 11  Item_Outlet_Sales          8523 non-null   float64\n",
      "dtypes: float64(4), int64(1), object(7)\n",
      "memory usage: 799.2+ KB\n"
     ]
    }
   ],
   "source": [
    "train.info()"
   ]
  },
  {
   "cell_type": "code",
   "execution_count": 6,
   "metadata": {
    "execution": {
     "iopub.execute_input": "2020-10-26T05:27:20.948047Z",
     "iopub.status.busy": "2020-10-26T05:27:20.947137Z",
     "iopub.status.idle": "2020-10-26T05:27:20.952091Z",
     "shell.execute_reply": "2020-10-26T05:27:20.951497Z"
    },
    "papermill": {
     "duration": 0.05839,
     "end_time": "2020-10-26T05:27:20.952227",
     "exception": false,
     "start_time": "2020-10-26T05:27:20.893837",
     "status": "completed"
    },
    "tags": []
   },
   "outputs": [
    {
     "data": {
      "text/plain": [
       "((8523, 12), (5681, 11))"
      ]
     },
     "execution_count": 6,
     "metadata": {},
     "output_type": "execute_result"
    }
   ],
   "source": [
    "train.shape, test.shape"
   ]
  },
  {
   "cell_type": "markdown",
   "metadata": {
    "papermill": {
     "duration": 0.048461,
     "end_time": "2020-10-26T05:27:21.049313",
     "exception": false,
     "start_time": "2020-10-26T05:27:21.000852",
     "status": "completed"
    },
    "tags": []
   },
   "source": [
    "### Step to Modelling\n",
    "\n",
    "1.Problem Statement\n",
    "\n",
    "2.Hypothesis Generation\n",
    "\n",
    "3.Exploratory Data Anlysis\n",
    "\n",
    "    3.1. Univariate Analysis\n",
    "    \n",
    "    3.2. Bivariate or Multivariate Anlysis\n",
    "\n",
    "    3.3. Missing Values Treatment\n",
    "\n",
    "    3.4. Outlier Identification\n",
    "\n",
    "    3.5. Feature Engineering\n",
    "\n",
    "    3.6. Standardization - last step of EDA also known as Data Pre-Processing\n",
    "\n",
    "4. Applying Machine Learning Models"
   ]
  },
  {
   "cell_type": "markdown",
   "metadata": {
    "papermill": {
     "duration": 0.05008,
     "end_time": "2020-10-26T05:27:21.148200",
     "exception": false,
     "start_time": "2020-10-26T05:27:21.098120",
     "status": "completed"
    },
    "tags": []
   },
   "source": [
    "### Exploratory Data Analysis\n",
    "\n",
    "1. Univariate Analysis"
   ]
  },
  {
   "cell_type": "code",
   "execution_count": 7,
   "metadata": {
    "execution": {
     "iopub.execute_input": "2020-10-26T05:27:21.252653Z",
     "iopub.status.busy": "2020-10-26T05:27:21.251579Z",
     "iopub.status.idle": "2020-10-26T05:27:21.256091Z",
     "shell.execute_reply": "2020-10-26T05:27:21.255457Z"
    },
    "papermill": {
     "duration": 0.058617,
     "end_time": "2020-10-26T05:27:21.256216",
     "exception": false,
     "start_time": "2020-10-26T05:27:21.197599",
     "status": "completed"
    },
    "tags": []
   },
   "outputs": [
    {
     "data": {
      "text/plain": [
       "Index(['Item_Identifier', 'Item_Weight', 'Item_Fat_Content', 'Item_Visibility',\n",
       "       'Item_Type', 'Item_MRP', 'Outlet_Identifier',\n",
       "       'Outlet_Establishment_Year', 'Outlet_Size', 'Outlet_Location_Type',\n",
       "       'Outlet_Type', 'Item_Outlet_Sales'],\n",
       "      dtype='object')"
      ]
     },
     "execution_count": 7,
     "metadata": {},
     "output_type": "execute_result"
    }
   ],
   "source": [
    "train.columns"
   ]
  },
  {
   "cell_type": "code",
   "execution_count": 8,
   "metadata": {
    "execution": {
     "iopub.execute_input": "2020-10-26T05:27:21.361693Z",
     "iopub.status.busy": "2020-10-26T05:27:21.360911Z",
     "iopub.status.idle": "2020-10-26T05:27:21.679390Z",
     "shell.execute_reply": "2020-10-26T05:27:21.678652Z"
    },
    "papermill": {
     "duration": 0.373813,
     "end_time": "2020-10-26T05:27:21.679511",
     "exception": false,
     "start_time": "2020-10-26T05:27:21.305698",
     "status": "completed"
    },
    "tags": []
   },
   "outputs": [
    {
     "data": {
      "image/png": "[encoded data removed]",
      "text/plain": [
       "<Figure size 432x288 with 1 Axes>"
      ]
     },
     "metadata": {
      "needs_background": "light"
     },
     "output_type": "display_data"
    }
   ],
   "source": [
    "sns.distplot(train.Item_Outlet_Sales, color= \"m\")\n",
    "plt.show()"
   ]
  },
  {
   "cell_type": "markdown",
   "metadata": {
    "papermill": {
     "duration": 0.049938,
     "end_time": "2020-10-26T05:27:21.784035",
     "exception": false,
     "start_time": "2020-10-26T05:27:21.734097",
     "status": "completed"
    },
    "tags": []
   },
   "source": [
    "### Item_Outlet_Sales is Positively Skewed"
   ]
  },
  {
   "cell_type": "code",
   "execution_count": 9,
   "metadata": {
    "execution": {
     "iopub.execute_input": "2020-10-26T05:27:21.890679Z",
     "iopub.status.busy": "2020-10-26T05:27:21.889786Z",
     "iopub.status.idle": "2020-10-26T05:27:21.899894Z",
     "shell.execute_reply": "2020-10-26T05:27:21.899298Z"
    },
    "papermill": {
     "duration": 0.065718,
     "end_time": "2020-10-26T05:27:21.900024",
     "exception": false,
     "start_time": "2020-10-26T05:27:21.834306",
     "status": "completed"
    },
    "tags": []
   },
   "outputs": [
    {
     "data": {
      "text/plain": [
       "count     8523.000000\n",
       "mean      2181.288914\n",
       "std       1706.499616\n",
       "min         33.290000\n",
       "25%        834.247400\n",
       "50%       1794.331000\n",
       "75%       3101.296400\n",
       "max      13086.964800\n",
       "Name: Item_Outlet_Sales, dtype: float64"
      ]
     },
     "execution_count": 9,
     "metadata": {},
     "output_type": "execute_result"
    }
   ],
   "source": [
    "train.Item_Outlet_Sales.describe()"
   ]
  },
  {
   "cell_type": "code",
   "execution_count": 10,
   "metadata": {
    "execution": {
     "iopub.execute_input": "2020-10-26T05:27:22.016416Z",
     "iopub.status.busy": "2020-10-26T05:27:22.014444Z",
     "iopub.status.idle": "2020-10-26T05:27:22.285804Z",
     "shell.execute_reply": "2020-10-26T05:27:22.285080Z"
    },
    "papermill": {
     "duration": 0.334723,
     "end_time": "2020-10-26T05:27:22.285953",
     "exception": false,
     "start_time": "2020-10-26T05:27:21.951230",
     "status": "completed"
    },
    "tags": []
   },
   "outputs": [
    {
     "data": {
      "image/png": "[encoded data removed]",
      "text/plain": [
       "<Figure size 432x288 with 1 Axes>"
      ]
     },
     "metadata": {
      "needs_background": "light"
     },
     "output_type": "display_data"
    }
   ],
   "source": [
    "sns.distplot(train.Item_Visibility, color = \"b\")\n",
    "plt.show()"
   ]
  },
  {
   "cell_type": "markdown",
   "metadata": {
    "papermill": {
     "duration": 0.051751,
     "end_time": "2020-10-26T05:27:22.390461",
     "exception": false,
     "start_time": "2020-10-26T05:27:22.338710",
     "status": "completed"
    },
    "tags": []
   },
   "source": [
    "### visibility is Higher for lot of items"
   ]
  },
  {
   "cell_type": "code",
   "execution_count": 11,
   "metadata": {
    "execution": {
     "iopub.execute_input": "2020-10-26T05:27:22.507060Z",
     "iopub.status.busy": "2020-10-26T05:27:22.500767Z",
     "iopub.status.idle": "2020-10-26T05:27:22.708329Z",
     "shell.execute_reply": "2020-10-26T05:27:22.707533Z"
    },
    "papermill": {
     "duration": 0.265825,
     "end_time": "2020-10-26T05:27:22.708456",
     "exception": false,
     "start_time": "2020-10-26T05:27:22.442631",
     "status": "completed"
    },
    "tags": []
   },
   "outputs": [
    {
     "data": {
      "image/png": "[encoded data removed]",
      "text/plain": [
       "<Figure size 432x288 with 1 Axes>"
      ]
     },
     "metadata": {
      "needs_background": "light"
     },
     "output_type": "display_data"
    }
   ],
   "source": [
    "sns.distplot(train.Item_Weight.dropna(), color = \"r\")\n",
    "plt.show()"
   ]
  },
  {
   "cell_type": "markdown",
   "metadata": {
    "papermill": {
     "duration": 0.05269,
     "end_time": "2020-10-26T05:27:22.814426",
     "exception": false,
     "start_time": "2020-10-26T05:27:22.761736",
     "status": "completed"
    },
    "tags": []
   },
   "source": [
    "\n",
    "### Not much of pattern-- needs Exploring"
   ]
  },
  {
   "cell_type": "code",
   "execution_count": 12,
   "metadata": {
    "execution": {
     "iopub.execute_input": "2020-10-26T05:27:22.931022Z",
     "iopub.status.busy": "2020-10-26T05:27:22.925920Z",
     "iopub.status.idle": "2020-10-26T05:27:23.153581Z",
     "shell.execute_reply": "2020-10-26T05:27:23.152838Z"
    },
    "papermill": {
     "duration": 0.285966,
     "end_time": "2020-10-26T05:27:23.153711",
     "exception": false,
     "start_time": "2020-10-26T05:27:22.867745",
     "status": "completed"
    },
    "tags": []
   },
   "outputs": [
    {
     "data": {
      "image/png": "[encoded data removed]",
      "text/plain": [
       "<Figure size 432x288 with 1 Axes>"
      ]
     },
     "metadata": {
      "needs_background": "light"
     },
     "output_type": "display_data"
    }
   ],
   "source": [
    "sns.distplot(train.Item_MRP, color= \"g\")\n",
    "plt.show()"
   ]
  },
  {
   "cell_type": "markdown",
   "metadata": {
    "papermill": {
     "duration": 0.053692,
     "end_time": "2020-10-26T05:27:23.262465",
     "exception": false,
     "start_time": "2020-10-26T05:27:23.208773",
     "status": "completed"
    },
    "tags": []
   },
   "source": [
    "### MRP appears to have 04 different dist/ values"
   ]
  },
  {
   "cell_type": "code",
   "execution_count": 13,
   "metadata": {
    "execution": {
     "iopub.execute_input": "2020-10-26T05:27:23.380338Z",
     "iopub.status.busy": "2020-10-26T05:27:23.379569Z",
     "iopub.status.idle": "2020-10-26T05:27:23.617411Z",
     "shell.execute_reply": "2020-10-26T05:27:23.616646Z"
    },
    "papermill": {
     "duration": 0.30091,
     "end_time": "2020-10-26T05:27:23.617542",
     "exception": false,
     "start_time": "2020-10-26T05:27:23.316632",
     "status": "completed"
    },
    "tags": []
   },
   "outputs": [
    {
     "data": {
      "image/png": "[encoded data removed]",
      "text/plain": [
       "<Figure size 432x288 with 1 Axes>"
      ]
     },
     "metadata": {
      "needs_background": "light"
     },
     "output_type": "display_data"
    }
   ],
   "source": [
    "#Item Fat Content\n",
    "train.Item_Fat_Content.value_counts().plot(kind = 'bar')\n",
    "plt.show()"
   ]
  },
  {
   "cell_type": "code",
   "execution_count": 14,
   "metadata": {
    "execution": {
     "iopub.execute_input": "2020-10-26T05:27:23.752797Z",
     "iopub.status.busy": "2020-10-26T05:27:23.751554Z",
     "iopub.status.idle": "2020-10-26T05:27:23.755591Z",
     "shell.execute_reply": "2020-10-26T05:27:23.754488Z"
    },
    "papermill": {
     "duration": 0.082766,
     "end_time": "2020-10-26T05:27:23.755769",
     "exception": false,
     "start_time": "2020-10-26T05:27:23.673003",
     "status": "completed"
    },
    "tags": []
   },
   "outputs": [],
   "source": [
    "#replcement of LF, low fat and reg\n",
    "col1 = {'LF': 'Low Fat', 'reg': 'Regular', 'low fat': 'Low Fat'}\n",
    "train.Item_Fat_Content.replace(col1, inplace = True)"
   ]
  },
  {
   "cell_type": "code",
   "execution_count": 15,
   "metadata": {
    "execution": {
     "iopub.execute_input": "2020-10-26T05:27:23.907760Z",
     "iopub.status.busy": "2020-10-26T05:27:23.906983Z",
     "iopub.status.idle": "2020-10-26T05:27:24.023955Z",
     "shell.execute_reply": "2020-10-26T05:27:24.023198Z"
    },
    "papermill": {
     "duration": 0.194327,
     "end_time": "2020-10-26T05:27:24.024082",
     "exception": false,
     "start_time": "2020-10-26T05:27:23.829755",
     "status": "completed"
    },
    "tags": []
   },
   "outputs": [
    {
     "data": {
      "image/png": "[encoded data removed]",
      "text/plain": [
       "<Figure size 432x288 with 1 Axes>"
      ]
     },
     "metadata": {
      "needs_background": "light"
     },
     "output_type": "display_data"
    }
   ],
   "source": [
    "train.Item_Fat_Content.value_counts().plot(kind = 'bar')\n",
    "plt.show()"
   ]
  },
  {
   "cell_type": "code",
   "execution_count": 16,
   "metadata": {
    "execution": {
     "iopub.execute_input": "2020-10-26T05:27:24.157333Z",
     "iopub.status.busy": "2020-10-26T05:27:24.156496Z",
     "iopub.status.idle": "2020-10-26T05:27:24.161710Z",
     "shell.execute_reply": "2020-10-26T05:27:24.161120Z"
    },
    "papermill": {
     "duration": 0.081298,
     "end_time": "2020-10-26T05:27:24.161845",
     "exception": false,
     "start_time": "2020-10-26T05:27:24.080547",
     "status": "completed"
    },
    "tags": []
   },
   "outputs": [
    {
     "data": {
      "text/html": [
       "<div>\n",
       "<style scoped>\n",
       "    .dataframe tbody tr th:only-of-type {\n",
       "        vertical-align: middle;\n",
       "    }\n",
       "\n",
       "    .dataframe tbody tr th {\n",
       "        vertical-align: top;\n",
       "    }\n",
       "\n",
       "    .dataframe thead th {\n",
       "        text-align: right;\n",
       "    }\n",
       "</style>\n",
       "<table border=\"1\" class=\"dataframe\">\n",
       "  <thead>\n",
       "    <tr style=\"text-align: right;\">\n",
       "      <th></th>\n",
       "      <th>Item_Identifier</th>\n",
       "      <th>Item_Weight</th>\n",
       "      <th>Item_Fat_Content</th>\n",
       "      <th>Item_Visibility</th>\n",
       "      <th>Item_Type</th>\n",
       "      <th>Item_MRP</th>\n",
       "      <th>Outlet_Identifier</th>\n",
       "      <th>Outlet_Establishment_Year</th>\n",
       "      <th>Outlet_Size</th>\n",
       "      <th>Outlet_Location_Type</th>\n",
       "      <th>Outlet_Type</th>\n",
       "    </tr>\n",
       "  </thead>\n",
       "  <tbody>\n",
       "    <tr>\n",
       "      <th>0</th>\n",
       "      <td>FDW58</td>\n",
       "      <td>20.750</td>\n",
       "      <td>Low Fat</td>\n",
       "      <td>0.007565</td>\n",
       "      <td>Snack Foods</td>\n",
       "      <td>107.8622</td>\n",
       "      <td>OUT049</td>\n",
       "      <td>1999</td>\n",
       "      <td>Medium</td>\n",
       "      <td>Tier 1</td>\n",
       "      <td>Supermarket Type1</td>\n",
       "    </tr>\n",
       "    <tr>\n",
       "      <th>1</th>\n",
       "      <td>FDW14</td>\n",
       "      <td>8.300</td>\n",
       "      <td>reg</td>\n",
       "      <td>0.038428</td>\n",
       "      <td>Dairy</td>\n",
       "      <td>87.3198</td>\n",
       "      <td>OUT017</td>\n",
       "      <td>2007</td>\n",
       "      <td>NaN</td>\n",
       "      <td>Tier 2</td>\n",
       "      <td>Supermarket Type1</td>\n",
       "    </tr>\n",
       "    <tr>\n",
       "      <th>2</th>\n",
       "      <td>NCN55</td>\n",
       "      <td>14.600</td>\n",
       "      <td>Low Fat</td>\n",
       "      <td>0.099575</td>\n",
       "      <td>Others</td>\n",
       "      <td>241.7538</td>\n",
       "      <td>OUT010</td>\n",
       "      <td>1998</td>\n",
       "      <td>NaN</td>\n",
       "      <td>Tier 3</td>\n",
       "      <td>Grocery Store</td>\n",
       "    </tr>\n",
       "    <tr>\n",
       "      <th>3</th>\n",
       "      <td>FDQ58</td>\n",
       "      <td>7.315</td>\n",
       "      <td>Low Fat</td>\n",
       "      <td>0.015388</td>\n",
       "      <td>Snack Foods</td>\n",
       "      <td>155.0340</td>\n",
       "      <td>OUT017</td>\n",
       "      <td>2007</td>\n",
       "      <td>NaN</td>\n",
       "      <td>Tier 2</td>\n",
       "      <td>Supermarket Type1</td>\n",
       "    </tr>\n",
       "    <tr>\n",
       "      <th>4</th>\n",
       "      <td>FDY38</td>\n",
       "      <td>NaN</td>\n",
       "      <td>Regular</td>\n",
       "      <td>0.118599</td>\n",
       "      <td>Dairy</td>\n",
       "      <td>234.2300</td>\n",
       "      <td>OUT027</td>\n",
       "      <td>1985</td>\n",
       "      <td>Medium</td>\n",
       "      <td>Tier 3</td>\n",
       "      <td>Supermarket Type3</td>\n",
       "    </tr>\n",
       "  </tbody>\n",
       "</table>\n",
       "</div>"
      ],
      "text/plain": [
       "  Item_Identifier  Item_Weight Item_Fat_Content  Item_Visibility    Item_Type  \\\n",
       "0           FDW58       20.750          Low Fat         0.007565  Snack Foods   \n",
       "1           FDW14        8.300              reg         0.038428        Dairy   \n",
       "2           NCN55       14.600          Low Fat         0.099575       Others   \n",
       "3           FDQ58        7.315          Low Fat         0.015388  Snack Foods   \n",
       "4           FDY38          NaN          Regular         0.118599        Dairy   \n",
       "\n",
       "   Item_MRP Outlet_Identifier  Outlet_Establishment_Year Outlet_Size  \\\n",
       "0  107.8622            OUT049                       1999      Medium   \n",
       "1   87.3198            OUT017                       2007         NaN   \n",
       "2  241.7538            OUT010                       1998         NaN   \n",
       "3  155.0340            OUT017                       2007         NaN   \n",
       "4  234.2300            OUT027                       1985      Medium   \n",
       "\n",
       "  Outlet_Location_Type        Outlet_Type  \n",
       "0               Tier 1  Supermarket Type1  \n",
       "1               Tier 2  Supermarket Type1  \n",
       "2               Tier 3      Grocery Store  \n",
       "3               Tier 2  Supermarket Type1  \n",
       "4               Tier 3  Supermarket Type3  "
      ]
     },
     "execution_count": 16,
     "metadata": {},
     "output_type": "execute_result"
    }
   ],
   "source": [
    "test.head()"
   ]
  },
  {
   "cell_type": "code",
   "execution_count": 17,
   "metadata": {
    "execution": {
     "iopub.execute_input": "2020-10-26T05:27:24.295777Z",
     "iopub.status.busy": "2020-10-26T05:27:24.294676Z",
     "iopub.status.idle": "2020-10-26T05:27:24.430569Z",
     "shell.execute_reply": "2020-10-26T05:27:24.431159Z"
    },
    "papermill": {
     "duration": 0.212149,
     "end_time": "2020-10-26T05:27:24.431329",
     "exception": false,
     "start_time": "2020-10-26T05:27:24.219180",
     "status": "completed"
    },
    "tags": []
   },
   "outputs": [
    {
     "data": {
      "image/png": "[encoded data removed]",
      "text/plain": [
       "<Figure size 432x288 with 1 Axes>"
      ]
     },
     "metadata": {
      "needs_background": "light"
     },
     "output_type": "display_data"
    }
   ],
   "source": [
    "test.Item_Fat_Content.value_counts().plot(kind = 'bar')\n",
    "plt.show()"
   ]
  },
  {
   "cell_type": "code",
   "execution_count": 18,
   "metadata": {
    "execution": {
     "iopub.execute_input": "2020-10-26T05:27:24.558948Z",
     "iopub.status.busy": "2020-10-26T05:27:24.558058Z",
     "iopub.status.idle": "2020-10-26T05:27:24.560851Z",
     "shell.execute_reply": "2020-10-26T05:27:24.561455Z"
    },
    "papermill": {
     "duration": 0.071767,
     "end_time": "2020-10-26T05:27:24.561610",
     "exception": false,
     "start_time": "2020-10-26T05:27:24.489843",
     "status": "completed"
    },
    "tags": []
   },
   "outputs": [],
   "source": [
    "col2 = {'LF': 'Low Fat', 'reg': 'Regular', 'low fat': 'Low Fat'}\n",
    "test.Item_Fat_Content.replace(col1, inplace = True)"
   ]
  },
  {
   "cell_type": "code",
   "execution_count": 19,
   "metadata": {
    "execution": {
     "iopub.execute_input": "2020-10-26T05:27:24.697710Z",
     "iopub.status.busy": "2020-10-26T05:27:24.694995Z",
     "iopub.status.idle": "2020-10-26T05:27:24.819847Z",
     "shell.execute_reply": "2020-10-26T05:27:24.819087Z"
    },
    "papermill": {
     "duration": 0.199773,
     "end_time": "2020-10-26T05:27:24.819992",
     "exception": false,
     "start_time": "2020-10-26T05:27:24.620219",
     "status": "completed"
    },
    "tags": []
   },
   "outputs": [
    {
     "data": {
      "image/png": "[encoded data removed]",
      "text/plain": [
       "<Figure size 432x288 with 1 Axes>"
      ]
     },
     "metadata": {
      "needs_background": "light"
     },
     "output_type": "display_data"
    }
   ],
   "source": [
    "test.Item_Fat_Content.value_counts().plot(kind = 'bar')\n",
    "plt.show()"
   ]
  },
  {
   "cell_type": "code",
   "execution_count": 20,
   "metadata": {
    "execution": {
     "iopub.execute_input": "2020-10-26T05:27:24.957630Z",
     "iopub.status.busy": "2020-10-26T05:27:24.955390Z",
     "iopub.status.idle": "2020-10-26T05:27:25.163691Z",
     "shell.execute_reply": "2020-10-26T05:27:25.163073Z"
    },
    "papermill": {
     "duration": 0.284301,
     "end_time": "2020-10-26T05:27:25.163824",
     "exception": false,
     "start_time": "2020-10-26T05:27:24.879523",
     "status": "completed"
    },
    "tags": []
   },
   "outputs": [
    {
     "data": {
      "image/png": "[encoded data removed]",
      "text/plain": [
       "<Figure size 432x288 with 1 Axes>"
      ]
     },
     "metadata": {
      "needs_background": "light"
     },
     "output_type": "display_data"
    }
   ],
   "source": [
    "train.Item_Type.value_counts().plot(kind=\"bar\")\n",
    "plt.show()"
   ]
  },
  {
   "cell_type": "code",
   "execution_count": 21,
   "metadata": {
    "execution": {
     "iopub.execute_input": "2020-10-26T05:27:25.301893Z",
     "iopub.status.busy": "2020-10-26T05:27:25.296611Z",
     "iopub.status.idle": "2020-10-26T05:27:25.455779Z",
     "shell.execute_reply": "2020-10-26T05:27:25.456463Z"
    },
    "papermill": {
     "duration": 0.231747,
     "end_time": "2020-10-26T05:27:25.456628",
     "exception": false,
     "start_time": "2020-10-26T05:27:25.224881",
     "status": "completed"
    },
    "tags": []
   },
   "outputs": [
    {
     "data": {
      "image/png": "[encoded data removed]",
      "text/plain": [
       "<Figure size 432x288 with 1 Axes>"
      ]
     },
     "metadata": {
      "needs_background": "light"
     },
     "output_type": "display_data"
    }
   ],
   "source": [
    "#Outlet_Identifier\n",
    "train.Outlet_Identifier.value_counts().plot(kind=\"bar\")\n",
    "plt.show()"
   ]
  },
  {
   "cell_type": "markdown",
   "metadata": {
    "papermill": {
     "duration": 0.061182,
     "end_time": "2020-10-26T05:27:25.579927",
     "exception": false,
     "start_time": "2020-10-26T05:27:25.518745",
     "status": "completed"
    },
    "tags": []
   },
   "source": [
    "### less frequency count is out 10 and out 19"
   ]
  },
  {
   "cell_type": "code",
   "execution_count": 22,
   "metadata": {
    "execution": {
     "iopub.execute_input": "2020-10-26T05:27:25.714900Z",
     "iopub.status.busy": "2020-10-26T05:27:25.714120Z",
     "iopub.status.idle": "2020-10-26T05:27:25.838786Z",
     "shell.execute_reply": "2020-10-26T05:27:25.838152Z"
    },
    "papermill": {
     "duration": 0.197242,
     "end_time": "2020-10-26T05:27:25.838940",
     "exception": false,
     "start_time": "2020-10-26T05:27:25.641698",
     "status": "completed"
    },
    "tags": []
   },
   "outputs": [
    {
     "data": {
      "image/png": "[encoded data removed]",
      "text/plain": [
       "<Figure size 432x288 with 1 Axes>"
      ]
     },
     "metadata": {
      "needs_background": "light"
     },
     "output_type": "display_data"
    }
   ],
   "source": [
    "#Outlet_Size\n",
    "train.Outlet_Size.value_counts().plot(kind=\"bar\")\n",
    "plt.show()"
   ]
  },
  {
   "cell_type": "code",
   "execution_count": 23,
   "metadata": {
    "execution": {
     "iopub.execute_input": "2020-10-26T05:27:25.983531Z",
     "iopub.status.busy": "2020-10-26T05:27:25.980620Z",
     "iopub.status.idle": "2020-10-26T05:27:26.110735Z",
     "shell.execute_reply": "2020-10-26T05:27:26.111294Z"
    },
    "papermill": {
     "duration": 0.209783,
     "end_time": "2020-10-26T05:27:26.111472",
     "exception": false,
     "start_time": "2020-10-26T05:27:25.901689",
     "status": "completed"
    },
    "tags": []
   },
   "outputs": [
    {
     "data": {
      "image/png": "[encoded data removed]",
      "text/plain": [
       "<Figure size 432x288 with 1 Axes>"
      ]
     },
     "metadata": {
      "needs_background": "light"
     },
     "output_type": "display_data"
    }
   ],
   "source": [
    "#Outlet Type\n",
    "train.Outlet_Type.value_counts().plot(kind=\"bar\")\n",
    "plt.show()"
   ]
  },
  {
   "cell_type": "code",
   "execution_count": 24,
   "metadata": {
    "execution": {
     "iopub.execute_input": "2020-10-26T05:27:26.257929Z",
     "iopub.status.busy": "2020-10-26T05:27:26.257139Z",
     "iopub.status.idle": "2020-10-26T05:27:26.384573Z",
     "shell.execute_reply": "2020-10-26T05:27:26.383832Z"
    },
    "papermill": {
     "duration": 0.209031,
     "end_time": "2020-10-26T05:27:26.384694",
     "exception": false,
     "start_time": "2020-10-26T05:27:26.175663",
     "status": "completed"
    },
    "tags": []
   },
   "outputs": [
    {
     "data": {
      "image/png": "[encoded data removed]",
      "text/plain": [
       "<Figure size 432x288 with 1 Axes>"
      ]
     },
     "metadata": {
      "needs_background": "light"
     },
     "output_type": "display_data"
    }
   ],
   "source": [
    "# Outlet_Location_Type\n",
    "\n",
    "train.Outlet_Location_Type.value_counts().plot(kind=\"bar\")\n",
    "plt.show()"
   ]
  },
  {
   "cell_type": "markdown",
   "metadata": {
    "papermill": {
     "duration": 0.064464,
     "end_time": "2020-10-26T05:27:26.513288",
     "exception": false,
     "start_time": "2020-10-26T05:27:26.448824",
     "status": "completed"
    },
    "tags": []
   },
   "source": [
    "### Bivariate Analysis"
   ]
  },
  {
   "cell_type": "code",
   "execution_count": 25,
   "metadata": {
    "execution": {
     "iopub.execute_input": "2020-10-26T05:27:26.654171Z",
     "iopub.status.busy": "2020-10-26T05:27:26.649508Z",
     "iopub.status.idle": "2020-10-26T05:27:26.840618Z",
     "shell.execute_reply": "2020-10-26T05:27:26.839818Z"
    },
    "papermill": {
     "duration": 0.262895,
     "end_time": "2020-10-26T05:27:26.840743",
     "exception": false,
     "start_time": "2020-10-26T05:27:26.577848",
     "status": "completed"
    },
    "tags": []
   },
   "outputs": [
    {
     "data": {
      "image/png": "[encoded data removed]",
      "text/plain": [
       "<Figure size 432x288 with 1 Axes>"
      ]
     },
     "metadata": {
      "needs_background": "light"
     },
     "output_type": "display_data"
    }
   ],
   "source": [
    "plt.scatter(train.Item_Weight, train.Item_Outlet_Sales, color = \"m\")\n",
    "plt.show()"
   ]
  },
  {
   "cell_type": "code",
   "execution_count": 26,
   "metadata": {
    "execution": {
     "iopub.execute_input": "2020-10-26T05:27:26.985099Z",
     "iopub.status.busy": "2020-10-26T05:27:26.980693Z",
     "iopub.status.idle": "2020-10-26T05:27:27.177619Z",
     "shell.execute_reply": "2020-10-26T05:27:27.177014Z"
    },
    "papermill": {
     "duration": 0.269933,
     "end_time": "2020-10-26T05:27:27.177760",
     "exception": false,
     "start_time": "2020-10-26T05:27:26.907827",
     "status": "completed"
    },
    "tags": []
   },
   "outputs": [
    {
     "data": {
      "image/png": "[encoded data removed]",
      "text/plain": [
       "<Figure size 720x576 with 1 Axes>"
      ]
     },
     "metadata": {
      "needs_background": "light"
     },
     "output_type": "display_data"
    }
   ],
   "source": [
    "plt.figure(figsize = [10,8])\n",
    "plt.scatter(train.Item_Visibility, train.Item_Outlet_Sales, color = \"r\")\n",
    "plt.show()"
   ]
  },
  {
   "cell_type": "code",
   "execution_count": 27,
   "metadata": {
    "execution": {
     "iopub.execute_input": "2020-10-26T05:27:27.324806Z",
     "iopub.status.busy": "2020-10-26T05:27:27.323912Z",
     "iopub.status.idle": "2020-10-26T05:27:27.491688Z",
     "shell.execute_reply": "2020-10-26T05:27:27.490957Z"
    },
    "papermill": {
     "duration": 0.246225,
     "end_time": "2020-10-26T05:27:27.491810",
     "exception": false,
     "start_time": "2020-10-26T05:27:27.245585",
     "status": "completed"
    },
    "tags": []
   },
   "outputs": [
    {
     "data": {
      "image/png": "[encoded data removed]",
      "text/plain": [
       "<Figure size 432x288 with 1 Axes>"
      ]
     },
     "metadata": {
      "needs_background": "light"
     },
     "output_type": "display_data"
    }
   ],
   "source": [
    "#plt.figure(figsize = [10,8])\n",
    "plt.scatter(train.Item_MRP, train.Item_Outlet_Sales, color = \"b\")\n",
    "plt.show()"
   ]
  },
  {
   "cell_type": "markdown",
   "metadata": {
    "papermill": {
     "duration": 0.068147,
     "end_time": "2020-10-26T05:27:27.628425",
     "exception": false,
     "start_time": "2020-10-26T05:27:27.560278",
     "status": "completed"
    },
    "tags": []
   },
   "source": [
    "### this represent the collection of prices together\n",
    "### so can calculate price per unit"
   ]
  },
  {
   "cell_type": "code",
   "execution_count": 28,
   "metadata": {
    "execution": {
     "iopub.execute_input": "2020-10-26T05:27:27.773213Z",
     "iopub.status.busy": "2020-10-26T05:27:27.772141Z",
     "iopub.status.idle": "2020-10-26T05:27:27.921294Z",
     "shell.execute_reply": "2020-10-26T05:27:27.920520Z"
    },
    "papermill": {
     "duration": 0.224404,
     "end_time": "2020-10-26T05:27:27.921420",
     "exception": false,
     "start_time": "2020-10-26T05:27:27.697016",
     "status": "completed"
    },
    "tags": []
   },
   "outputs": [
    {
     "data": {
      "image/png": "[encoded data removed]",
      "text/plain": [
       "<Figure size 432x288 with 1 Axes>"
      ]
     },
     "metadata": {
      "needs_background": "light"
     },
     "output_type": "display_data"
    }
   ],
   "source": [
    "# categorical vs. Numerical\n",
    "\n",
    "\n",
    "sns.boxplot(train.Item_Fat_Content, train.Item_Outlet_Sales)\n",
    "plt.show()"
   ]
  },
  {
   "cell_type": "code",
   "execution_count": 29,
   "metadata": {
    "execution": {
     "iopub.execute_input": "2020-10-26T05:27:28.067357Z",
     "iopub.status.busy": "2020-10-26T05:27:28.065795Z",
     "iopub.status.idle": "2020-10-26T05:27:28.287537Z",
     "shell.execute_reply": "2020-10-26T05:27:28.286895Z"
    },
    "papermill": {
     "duration": 0.296862,
     "end_time": "2020-10-26T05:27:28.287658",
     "exception": false,
     "start_time": "2020-10-26T05:27:27.990796",
     "status": "completed"
    },
    "tags": []
   },
   "outputs": [
    {
     "data": {
      "image/png": "[encoded data removed]",
      "text/plain": [
       "<Figure size 720x576 with 1 Axes>"
      ]
     },
     "metadata": {
      "needs_background": "light"
     },
     "output_type": "display_data"
    }
   ],
   "source": [
    "plt.figure(figsize = [10,8])\n",
    "sns.violinplot(train.Item_Fat_Content, train.Item_Outlet_Sales)\n",
    "plt.show()"
   ]
  },
  {
   "cell_type": "code",
   "execution_count": 30,
   "metadata": {
    "execution": {
     "iopub.execute_input": "2020-10-26T05:27:28.485082Z",
     "iopub.status.busy": "2020-10-26T05:27:28.483951Z",
     "iopub.status.idle": "2020-10-26T05:27:28.503692Z",
     "shell.execute_reply": "2020-10-26T05:27:28.502941Z"
    },
    "papermill": {
     "duration": 0.144605,
     "end_time": "2020-10-26T05:27:28.503822",
     "exception": false,
     "start_time": "2020-10-26T05:27:28.359217",
     "status": "completed"
    },
    "tags": []
   },
   "outputs": [
    {
     "data": {
      "text/html": [
       "<div>\n",
       "<style scoped>\n",
       "    .dataframe tbody tr th:only-of-type {\n",
       "        vertical-align: middle;\n",
       "    }\n",
       "\n",
       "    .dataframe tbody tr th {\n",
       "        vertical-align: top;\n",
       "    }\n",
       "\n",
       "    .dataframe thead th {\n",
       "        text-align: right;\n",
       "    }\n",
       "</style>\n",
       "<table border=\"1\" class=\"dataframe\">\n",
       "  <thead>\n",
       "    <tr style=\"text-align: right;\">\n",
       "      <th>Item_Fat_Content</th>\n",
       "      <th>Low Fat</th>\n",
       "      <th>Regular</th>\n",
       "    </tr>\n",
       "  </thead>\n",
       "  <tbody>\n",
       "    <tr>\n",
       "      <th>count</th>\n",
       "      <td>5517.000000</td>\n",
       "      <td>3006.000000</td>\n",
       "    </tr>\n",
       "    <tr>\n",
       "      <th>mean</th>\n",
       "      <td>2157.711534</td>\n",
       "      <td>2224.561170</td>\n",
       "    </tr>\n",
       "    <tr>\n",
       "      <th>std</th>\n",
       "      <td>1697.973824</td>\n",
       "      <td>1721.480865</td>\n",
       "    </tr>\n",
       "    <tr>\n",
       "      <th>min</th>\n",
       "      <td>33.290000</td>\n",
       "      <td>33.955800</td>\n",
       "    </tr>\n",
       "    <tr>\n",
       "      <th>25%</th>\n",
       "      <td>826.257800</td>\n",
       "      <td>857.550400</td>\n",
       "    </tr>\n",
       "    <tr>\n",
       "      <th>50%</th>\n",
       "      <td>1765.035800</td>\n",
       "      <td>1844.598900</td>\n",
       "    </tr>\n",
       "    <tr>\n",
       "      <th>75%</th>\n",
       "      <td>3050.695600</td>\n",
       "      <td>3198.669650</td>\n",
       "    </tr>\n",
       "    <tr>\n",
       "      <th>max</th>\n",
       "      <td>13086.964800</td>\n",
       "      <td>12117.560000</td>\n",
       "    </tr>\n",
       "  </tbody>\n",
       "</table>\n",
       "</div>"
      ],
      "text/plain": [
       "Item_Fat_Content       Low Fat       Regular\n",
       "count              5517.000000   3006.000000\n",
       "mean               2157.711534   2224.561170\n",
       "std                1697.973824   1721.480865\n",
       "min                  33.290000     33.955800\n",
       "25%                 826.257800    857.550400\n",
       "50%                1765.035800   1844.598900\n",
       "75%                3050.695600   3198.669650\n",
       "max               13086.964800  12117.560000"
      ]
     },
     "execution_count": 30,
     "metadata": {},
     "output_type": "execute_result"
    }
   ],
   "source": [
    "\n",
    "train.groupby(\"Item_Fat_Content\")[\"Item_Outlet_Sales\"].describe().T"
   ]
  },
  {
   "cell_type": "code",
   "execution_count": 31,
   "metadata": {
    "execution": {
     "iopub.execute_input": "2020-10-26T05:27:28.655808Z",
     "iopub.status.busy": "2020-10-26T05:27:28.655087Z",
     "iopub.status.idle": "2020-10-26T05:27:29.200627Z",
     "shell.execute_reply": "2020-10-26T05:27:29.200012Z"
    },
    "papermill": {
     "duration": 0.625425,
     "end_time": "2020-10-26T05:27:29.200753",
     "exception": false,
     "start_time": "2020-10-26T05:27:28.575328",
     "status": "completed"
    },
    "tags": []
   },
   "outputs": [
    {
     "data": {
      "image/png": "[encoded data removed]",
      "text/plain": [
       "<Figure size 864x648 with 1 Axes>"
      ]
     },
     "metadata": {
      "needs_background": "light"
     },
     "output_type": "display_data"
    }
   ],
   "source": [
    "plt.figure(figsize = [12,9])\n",
    "sns.boxplot(train.Item_Type, train.Item_Outlet_Sales)\n",
    "plt.xticks(rotation = 90)\n",
    "plt.title(\"Boxplot - Item Type vs Sales\")\n",
    "plt.xlabel(\"Item Type\")\n",
    "plt.ylabel(\"Sales\")\n",
    "plt.show()"
   ]
  },
  {
   "cell_type": "code",
   "execution_count": 32,
   "metadata": {
    "execution": {
     "iopub.execute_input": "2020-10-26T05:27:29.354700Z",
     "iopub.status.busy": "2020-10-26T05:27:29.353852Z",
     "iopub.status.idle": "2020-10-26T05:27:29.413488Z",
     "shell.execute_reply": "2020-10-26T05:27:29.412824Z"
    },
    "papermill": {
     "duration": 0.139616,
     "end_time": "2020-10-26T05:27:29.413611",
     "exception": false,
     "start_time": "2020-10-26T05:27:29.273995",
     "status": "completed"
    },
    "tags": []
   },
   "outputs": [
    {
     "data": {
      "text/html": [
       "<div>\n",
       "<style scoped>\n",
       "    .dataframe tbody tr th:only-of-type {\n",
       "        vertical-align: middle;\n",
       "    }\n",
       "\n",
       "    .dataframe tbody tr th {\n",
       "        vertical-align: top;\n",
       "    }\n",
       "\n",
       "    .dataframe thead th {\n",
       "        text-align: right;\n",
       "    }\n",
       "</style>\n",
       "<table border=\"1\" class=\"dataframe\">\n",
       "  <thead>\n",
       "    <tr style=\"text-align: right;\">\n",
       "      <th>Item_Type</th>\n",
       "      <th>Baking Goods</th>\n",
       "      <th>Breads</th>\n",
       "      <th>Breakfast</th>\n",
       "      <th>Canned</th>\n",
       "      <th>Dairy</th>\n",
       "      <th>Frozen Foods</th>\n",
       "      <th>Fruits and Vegetables</th>\n",
       "      <th>Hard Drinks</th>\n",
       "      <th>Health and Hygiene</th>\n",
       "      <th>Household</th>\n",
       "      <th>Meat</th>\n",
       "      <th>Others</th>\n",
       "      <th>Seafood</th>\n",
       "      <th>Snack Foods</th>\n",
       "      <th>Soft Drinks</th>\n",
       "      <th>Starchy Foods</th>\n",
       "    </tr>\n",
       "  </thead>\n",
       "  <tbody>\n",
       "    <tr>\n",
       "      <th>count</th>\n",
       "      <td>648.000000</td>\n",
       "      <td>251.000000</td>\n",
       "      <td>110.000000</td>\n",
       "      <td>649.000000</td>\n",
       "      <td>682.000000</td>\n",
       "      <td>856.000000</td>\n",
       "      <td>1232.000000</td>\n",
       "      <td>214.000000</td>\n",
       "      <td>520.000000</td>\n",
       "      <td>910.000000</td>\n",
       "      <td>425.000000</td>\n",
       "      <td>169.000000</td>\n",
       "      <td>64.000000</td>\n",
       "      <td>1200.000000</td>\n",
       "      <td>445.000000</td>\n",
       "      <td>148.000000</td>\n",
       "    </tr>\n",
       "    <tr>\n",
       "      <th>mean</th>\n",
       "      <td>1952.971207</td>\n",
       "      <td>2204.132226</td>\n",
       "      <td>2111.808651</td>\n",
       "      <td>2225.194904</td>\n",
       "      <td>2232.542597</td>\n",
       "      <td>2132.867744</td>\n",
       "      <td>2289.009592</td>\n",
       "      <td>2139.221622</td>\n",
       "      <td>2010.000265</td>\n",
       "      <td>2258.784300</td>\n",
       "      <td>2158.977911</td>\n",
       "      <td>1926.139702</td>\n",
       "      <td>2326.065928</td>\n",
       "      <td>2277.321739</td>\n",
       "      <td>2006.511735</td>\n",
       "      <td>2374.332773</td>\n",
       "    </tr>\n",
       "    <tr>\n",
       "      <th>std</th>\n",
       "      <td>1546.788045</td>\n",
       "      <td>1644.235914</td>\n",
       "      <td>1911.693586</td>\n",
       "      <td>1645.235638</td>\n",
       "      <td>1884.404698</td>\n",
       "      <td>1724.777720</td>\n",
       "      <td>1799.503459</td>\n",
       "      <td>1606.191587</td>\n",
       "      <td>1553.633063</td>\n",
       "      <td>1692.245757</td>\n",
       "      <td>1695.231081</td>\n",
       "      <td>1431.860471</td>\n",
       "      <td>1842.988719</td>\n",
       "      <td>1705.121755</td>\n",
       "      <td>1674.249752</td>\n",
       "      <td>1773.945328</td>\n",
       "    </tr>\n",
       "    <tr>\n",
       "      <th>min</th>\n",
       "      <td>37.284800</td>\n",
       "      <td>35.287400</td>\n",
       "      <td>39.948000</td>\n",
       "      <td>37.950600</td>\n",
       "      <td>40.613800</td>\n",
       "      <td>36.619000</td>\n",
       "      <td>45.274400</td>\n",
       "      <td>37.950600</td>\n",
       "      <td>34.621600</td>\n",
       "      <td>33.290000</td>\n",
       "      <td>47.937600</td>\n",
       "      <td>39.948000</td>\n",
       "      <td>149.805000</td>\n",
       "      <td>33.955800</td>\n",
       "      <td>33.290000</td>\n",
       "      <td>58.590400</td>\n",
       "    </tr>\n",
       "    <tr>\n",
       "      <th>25%</th>\n",
       "      <td>705.082200</td>\n",
       "      <td>968.739000</td>\n",
       "      <td>679.116000</td>\n",
       "      <td>952.094000</td>\n",
       "      <td>788.973000</td>\n",
       "      <td>808.947000</td>\n",
       "      <td>884.848200</td>\n",
       "      <td>834.913200</td>\n",
       "      <td>758.845550</td>\n",
       "      <td>853.389150</td>\n",
       "      <td>782.980800</td>\n",
       "      <td>790.970400</td>\n",
       "      <td>473.383800</td>\n",
       "      <td>918.804000</td>\n",
       "      <td>771.662200</td>\n",
       "      <td>958.752000</td>\n",
       "    </tr>\n",
       "    <tr>\n",
       "      <th>50%</th>\n",
       "      <td>1577.946000</td>\n",
       "      <td>1860.245200</td>\n",
       "      <td>1554.643000</td>\n",
       "      <td>1860.245200</td>\n",
       "      <td>1650.851100</td>\n",
       "      <td>1687.137200</td>\n",
       "      <td>1830.950000</td>\n",
       "      <td>1816.635300</td>\n",
       "      <td>1669.493500</td>\n",
       "      <td>1981.420800</td>\n",
       "      <td>1829.618400</td>\n",
       "      <td>1713.769200</td>\n",
       "      <td>2055.324600</td>\n",
       "      <td>1944.136000</td>\n",
       "      <td>1518.024000</td>\n",
       "      <td>1968.104800</td>\n",
       "    </tr>\n",
       "    <tr>\n",
       "      <th>75%</th>\n",
       "      <td>2823.824250</td>\n",
       "      <td>3145.905000</td>\n",
       "      <td>2970.300250</td>\n",
       "      <td>3101.296400</td>\n",
       "      <td>3296.209350</td>\n",
       "      <td>3079.491450</td>\n",
       "      <td>3227.132600</td>\n",
       "      <td>3071.335400</td>\n",
       "      <td>2884.578500</td>\n",
       "      <td>3236.786700</td>\n",
       "      <td>3036.048000</td>\n",
       "      <td>2719.793000</td>\n",
       "      <td>3589.327800</td>\n",
       "      <td>3143.574700</td>\n",
       "      <td>2759.075200</td>\n",
       "      <td>3592.656800</td>\n",
       "    </tr>\n",
       "    <tr>\n",
       "      <th>max</th>\n",
       "      <td>7931.675400</td>\n",
       "      <td>8958.339000</td>\n",
       "      <td>8209.314000</td>\n",
       "      <td>10306.584000</td>\n",
       "      <td>10256.649000</td>\n",
       "      <td>9678.068800</td>\n",
       "      <td>12117.560000</td>\n",
       "      <td>7843.124000</td>\n",
       "      <td>9779.936200</td>\n",
       "      <td>13086.964800</td>\n",
       "      <td>9390.443200</td>\n",
       "      <td>6008.845000</td>\n",
       "      <td>6503.534400</td>\n",
       "      <td>10993.689600</td>\n",
       "      <td>9554.230000</td>\n",
       "      <td>8132.081200</td>\n",
       "    </tr>\n",
       "  </tbody>\n",
       "</table>\n",
       "</div>"
      ],
      "text/plain": [
       "Item_Type  Baking Goods       Breads    Breakfast        Canned         Dairy  \\\n",
       "count        648.000000   251.000000   110.000000    649.000000    682.000000   \n",
       "mean        1952.971207  2204.132226  2111.808651   2225.194904   2232.542597   \n",
       "std         1546.788045  1644.235914  1911.693586   1645.235638   1884.404698   \n",
       "min           37.284800    35.287400    39.948000     37.950600     40.613800   \n",
       "25%          705.082200   968.739000   679.116000    952.094000    788.973000   \n",
       "50%         1577.946000  1860.245200  1554.643000   1860.245200   1650.851100   \n",
       "75%         2823.824250  3145.905000  2970.300250   3101.296400   3296.209350   \n",
       "max         7931.675400  8958.339000  8209.314000  10306.584000  10256.649000   \n",
       "\n",
       "Item_Type  Frozen Foods  Fruits and Vegetables  Hard Drinks  \\\n",
       "count        856.000000            1232.000000   214.000000   \n",
       "mean        2132.867744            2289.009592  2139.221622   \n",
       "std         1724.777720            1799.503459  1606.191587   \n",
       "min           36.619000              45.274400    37.950600   \n",
       "25%          808.947000             884.848200   834.913200   \n",
       "50%         1687.137200            1830.950000  1816.635300   \n",
       "75%         3079.491450            3227.132600  3071.335400   \n",
       "max         9678.068800           12117.560000  7843.124000   \n",
       "\n",
       "Item_Type  Health and Hygiene     Household         Meat       Others  \\\n",
       "count              520.000000    910.000000   425.000000   169.000000   \n",
       "mean              2010.000265   2258.784300  2158.977911  1926.139702   \n",
       "std               1553.633063   1692.245757  1695.231081  1431.860471   \n",
       "min                 34.621600     33.290000    47.937600    39.948000   \n",
       "25%                758.845550    853.389150   782.980800   790.970400   \n",
       "50%               1669.493500   1981.420800  1829.618400  1713.769200   \n",
       "75%               2884.578500   3236.786700  3036.048000  2719.793000   \n",
       "max               9779.936200  13086.964800  9390.443200  6008.845000   \n",
       "\n",
       "Item_Type      Seafood   Snack Foods  Soft Drinks  Starchy Foods  \n",
       "count        64.000000   1200.000000   445.000000     148.000000  \n",
       "mean       2326.065928   2277.321739  2006.511735    2374.332773  \n",
       "std        1842.988719   1705.121755  1674.249752    1773.945328  \n",
       "min         149.805000     33.955800    33.290000      58.590400  \n",
       "25%         473.383800    918.804000   771.662200     958.752000  \n",
       "50%        2055.324600   1944.136000  1518.024000    1968.104800  \n",
       "75%        3589.327800   3143.574700  2759.075200    3592.656800  \n",
       "max        6503.534400  10993.689600  9554.230000    8132.081200  "
      ]
     },
     "execution_count": 32,
     "metadata": {},
     "output_type": "execute_result"
    }
   ],
   "source": [
    "\n",
    "train.groupby(\"Item_Type\")[\"Item_Outlet_Sales\"].describe().T"
   ]
  },
  {
   "cell_type": "code",
   "execution_count": 33,
   "metadata": {
    "execution": {
     "iopub.execute_input": "2020-10-26T05:27:29.571404Z",
     "iopub.status.busy": "2020-10-26T05:27:29.569732Z",
     "iopub.status.idle": "2020-10-26T05:27:29.901034Z",
     "shell.execute_reply": "2020-10-26T05:27:29.900375Z"
    },
    "papermill": {
     "duration": 0.412902,
     "end_time": "2020-10-26T05:27:29.901159",
     "exception": false,
     "start_time": "2020-10-26T05:27:29.488257",
     "status": "completed"
    },
    "tags": []
   },
   "outputs": [
    {
     "data": {
      "image/png": "[encoded data removed]",
      "text/plain": [
       "<Figure size 864x648 with 1 Axes>"
      ]
     },
     "metadata": {
      "needs_background": "light"
     },
     "output_type": "display_data"
    }
   ],
   "source": [
    "plt.figure(figsize = [12,9])\n",
    "sns.boxplot(train.Outlet_Identifier, train.Item_Outlet_Sales)\n",
    "plt.xticks(rotation = 90)\n",
    "plt.title(\"Boxplot - Outlet Identifier vs Sales\")\n",
    "plt.xlabel(\"Outlet Identifier\")\n",
    "plt.ylabel(\"Sales\")\n",
    "plt.show()"
   ]
  },
  {
   "cell_type": "code",
   "execution_count": 34,
   "metadata": {
    "execution": {
     "iopub.execute_input": "2020-10-26T05:27:30.062358Z",
     "iopub.status.busy": "2020-10-26T05:27:30.058461Z",
     "iopub.status.idle": "2020-10-26T05:27:30.256558Z",
     "shell.execute_reply": "2020-10-26T05:27:30.255778Z"
    },
    "papermill": {
     "duration": 0.280288,
     "end_time": "2020-10-26T05:27:30.256683",
     "exception": false,
     "start_time": "2020-10-26T05:27:29.976395",
     "status": "completed"
    },
    "tags": []
   },
   "outputs": [
    {
     "data": {
      "image/png": "[encoded data removed]",
      "text/plain": [
       "<Figure size 864x648 with 1 Axes>"
      ]
     },
     "metadata": {
      "needs_background": "light"
     },
     "output_type": "display_data"
    }
   ],
   "source": [
    "plt.figure(figsize = [12,9])\n",
    "sns.boxplot(train.Outlet_Size, train.Item_Outlet_Sales)\n",
    "plt.xticks(rotation = 90)\n",
    "plt.title(\"Boxplot - Outlet Size vs Sales\")\n",
    "plt.xlabel(\"Outlet Size\")\n",
    "plt.ylabel(\"Sales\")\n",
    "plt.show()"
   ]
  },
  {
   "cell_type": "code",
   "execution_count": 35,
   "metadata": {
    "execution": {
     "iopub.execute_input": "2020-10-26T05:27:30.418699Z",
     "iopub.status.busy": "2020-10-26T05:27:30.417592Z",
     "iopub.status.idle": "2020-10-26T05:27:30.439224Z",
     "shell.execute_reply": "2020-10-26T05:27:30.438573Z"
    },
    "papermill": {
     "duration": 0.105903,
     "end_time": "2020-10-26T05:27:30.439349",
     "exception": false,
     "start_time": "2020-10-26T05:27:30.333446",
     "status": "completed"
    },
    "tags": []
   },
   "outputs": [
    {
     "data": {
      "text/html": [
       "<div>\n",
       "<style scoped>\n",
       "    .dataframe tbody tr th:only-of-type {\n",
       "        vertical-align: middle;\n",
       "    }\n",
       "\n",
       "    .dataframe tbody tr th {\n",
       "        vertical-align: top;\n",
       "    }\n",
       "\n",
       "    .dataframe thead th {\n",
       "        text-align: right;\n",
       "    }\n",
       "</style>\n",
       "<table border=\"1\" class=\"dataframe\">\n",
       "  <thead>\n",
       "    <tr style=\"text-align: right;\">\n",
       "      <th>Outlet_Size</th>\n",
       "      <th>High</th>\n",
       "      <th>Medium</th>\n",
       "      <th>Small</th>\n",
       "    </tr>\n",
       "  </thead>\n",
       "  <tbody>\n",
       "    <tr>\n",
       "      <th>count</th>\n",
       "      <td>932.000000</td>\n",
       "      <td>2793.000000</td>\n",
       "      <td>2388.000000</td>\n",
       "    </tr>\n",
       "    <tr>\n",
       "      <th>mean</th>\n",
       "      <td>2298.995256</td>\n",
       "      <td>2681.603542</td>\n",
       "      <td>1912.149161</td>\n",
       "    </tr>\n",
       "    <tr>\n",
       "      <th>std</th>\n",
       "      <td>1533.531664</td>\n",
       "      <td>1855.210528</td>\n",
       "      <td>1582.370364</td>\n",
       "    </tr>\n",
       "    <tr>\n",
       "      <th>min</th>\n",
       "      <td>73.238000</td>\n",
       "      <td>69.243200</td>\n",
       "      <td>33.955800</td>\n",
       "    </tr>\n",
       "    <tr>\n",
       "      <th>25%</th>\n",
       "      <td>1072.603800</td>\n",
       "      <td>1270.346400</td>\n",
       "      <td>601.050950</td>\n",
       "    </tr>\n",
       "    <tr>\n",
       "      <th>50%</th>\n",
       "      <td>2050.664000</td>\n",
       "      <td>2251.069800</td>\n",
       "      <td>1544.656000</td>\n",
       "    </tr>\n",
       "    <tr>\n",
       "      <th>75%</th>\n",
       "      <td>3166.378350</td>\n",
       "      <td>3691.195200</td>\n",
       "      <td>2824.323600</td>\n",
       "    </tr>\n",
       "    <tr>\n",
       "      <th>max</th>\n",
       "      <td>10256.649000</td>\n",
       "      <td>13086.964800</td>\n",
       "      <td>9779.936200</td>\n",
       "    </tr>\n",
       "  </tbody>\n",
       "</table>\n",
       "</div>"
      ],
      "text/plain": [
       "Outlet_Size          High        Medium        Small\n",
       "count          932.000000   2793.000000  2388.000000\n",
       "mean          2298.995256   2681.603542  1912.149161\n",
       "std           1533.531664   1855.210528  1582.370364\n",
       "min             73.238000     69.243200    33.955800\n",
       "25%           1072.603800   1270.346400   601.050950\n",
       "50%           2050.664000   2251.069800  1544.656000\n",
       "75%           3166.378350   3691.195200  2824.323600\n",
       "max          10256.649000  13086.964800  9779.936200"
      ]
     },
     "execution_count": 35,
     "metadata": {},
     "output_type": "execute_result"
    }
   ],
   "source": [
    "train.groupby(\"Outlet_Size\")[\"Item_Outlet_Sales\"].describe().T"
   ]
  },
  {
   "cell_type": "code",
   "execution_count": 36,
   "metadata": {
    "execution": {
     "iopub.execute_input": "2020-10-26T05:27:30.602425Z",
     "iopub.status.busy": "2020-10-26T05:27:30.601618Z",
     "iopub.status.idle": "2020-10-26T05:27:30.619254Z",
     "shell.execute_reply": "2020-10-26T05:27:30.618600Z"
    },
    "papermill": {
     "duration": 0.102054,
     "end_time": "2020-10-26T05:27:30.619396",
     "exception": false,
     "start_time": "2020-10-26T05:27:30.517342",
     "status": "completed"
    },
    "tags": []
   },
   "outputs": [
    {
     "data": {
      "text/html": [
       "<div>\n",
       "<style scoped>\n",
       "    .dataframe tbody tr th:only-of-type {\n",
       "        vertical-align: middle;\n",
       "    }\n",
       "\n",
       "    .dataframe tbody tr th {\n",
       "        vertical-align: top;\n",
       "    }\n",
       "\n",
       "    .dataframe thead tr th {\n",
       "        text-align: left;\n",
       "    }\n",
       "</style>\n",
       "<table border=\"1\" class=\"dataframe\">\n",
       "  <thead>\n",
       "    <tr>\n",
       "      <th>Outlet_Size</th>\n",
       "      <th>High</th>\n",
       "      <th colspan=\"3\" halign=\"left\">Medium</th>\n",
       "      <th colspan=\"3\" halign=\"left\">Small</th>\n",
       "    </tr>\n",
       "    <tr>\n",
       "      <th>Outlet_Identifier</th>\n",
       "      <th>OUT013</th>\n",
       "      <th>OUT027</th>\n",
       "      <th>OUT049</th>\n",
       "      <th>OUT018</th>\n",
       "      <th>OUT035</th>\n",
       "      <th>OUT046</th>\n",
       "      <th>OUT019</th>\n",
       "    </tr>\n",
       "  </thead>\n",
       "  <tbody>\n",
       "    <tr>\n",
       "      <th>Outlet_Identifier</th>\n",
       "      <td>932</td>\n",
       "      <td>935</td>\n",
       "      <td>930</td>\n",
       "      <td>928</td>\n",
       "      <td>930</td>\n",
       "      <td>930</td>\n",
       "      <td>528</td>\n",
       "    </tr>\n",
       "  </tbody>\n",
       "</table>\n",
       "</div>"
      ],
      "text/plain": [
       "Outlet_Size         High Medium                Small              \n",
       "Outlet_Identifier OUT013 OUT027 OUT049 OUT018 OUT035 OUT046 OUT019\n",
       "Outlet_Identifier    932    935    930    928    930    930    528"
      ]
     },
     "execution_count": 36,
     "metadata": {},
     "output_type": "execute_result"
    }
   ],
   "source": [
    "pd.DataFrame(train.groupby(\"Outlet_Size\")[\"Outlet_Identifier\"].value_counts()).T"
   ]
  },
  {
   "cell_type": "code",
   "execution_count": 37,
   "metadata": {
    "execution": {
     "iopub.execute_input": "2020-10-26T05:27:30.785676Z",
     "iopub.status.busy": "2020-10-26T05:27:30.784574Z",
     "iopub.status.idle": "2020-10-26T05:27:30.977711Z",
     "shell.execute_reply": "2020-10-26T05:27:30.976985Z"
    },
    "papermill": {
     "duration": 0.279583,
     "end_time": "2020-10-26T05:27:30.977833",
     "exception": false,
     "start_time": "2020-10-26T05:27:30.698250",
     "status": "completed"
    },
    "tags": []
   },
   "outputs": [
    {
     "data": {
      "image/png": "[encoded data removed]",
      "text/plain": [
       "<Figure size 864x648 with 1 Axes>"
      ]
     },
     "metadata": {
      "needs_background": "light"
     },
     "output_type": "display_data"
    }
   ],
   "source": [
    "plt.figure(figsize = [12,9])\n",
    "sns.boxplot(train.Outlet_Location_Type, train.Item_Outlet_Sales)\n",
    "plt.xticks(rotation = 90)\n",
    "plt.title(\"Boxplot - Outlet_Location_Type vs Sales\")\n",
    "plt.xlabel(\"Outlet Location Type\")\n",
    "plt.ylabel(\"Sales\")\n",
    "plt.show()"
   ]
  },
  {
   "cell_type": "markdown",
   "metadata": {
    "papermill": {
     "duration": 0.079958,
     "end_time": "2020-10-26T05:27:31.137537",
     "exception": false,
     "start_time": "2020-10-26T05:27:31.057579",
     "status": "completed"
    },
    "tags": []
   },
   "source": [
    "\n",
    "Observations\n",
    "\n",
    "    Tier 1 and Tier 3 locations of Outlet_Location_Type look similar.\n",
    "    In the Outlet_Type plot, Grocery Store has most of its data points around the lower sales values as compared to the other categories.\n",
    "\n",
    "These are the kind of insights that we can extract by visualizing our data. Hence, data visualization should be an important part of any kind data analysis.\n"
   ]
  },
  {
   "cell_type": "code",
   "execution_count": 38,
   "metadata": {
    "execution": {
     "iopub.execute_input": "2020-10-26T05:27:31.311950Z",
     "iopub.status.busy": "2020-10-26T05:27:31.311121Z",
     "iopub.status.idle": "2020-10-26T05:27:31.318933Z",
     "shell.execute_reply": "2020-10-26T05:27:31.318336Z"
    },
    "papermill": {
     "duration": 0.100364,
     "end_time": "2020-10-26T05:27:31.319072",
     "exception": false,
     "start_time": "2020-10-26T05:27:31.218708",
     "status": "completed"
    },
    "tags": []
   },
   "outputs": [
    {
     "data": {
      "text/plain": [
       "Item_Identifier                 0\n",
       "Item_Weight                  1463\n",
       "Item_Fat_Content                0\n",
       "Item_Visibility                 0\n",
       "Item_Type                       0\n",
       "Item_MRP                        0\n",
       "Outlet_Identifier               0\n",
       "Outlet_Establishment_Year       0\n",
       "Outlet_Size                  2410\n",
       "Outlet_Location_Type            0\n",
       "Outlet_Type                     0\n",
       "Item_Outlet_Sales               0\n",
       "dtype: int64"
      ]
     },
     "execution_count": 38,
     "metadata": {},
     "output_type": "execute_result"
    }
   ],
   "source": [
    "train.isna().sum()"
   ]
  },
  {
   "cell_type": "markdown",
   "metadata": {
    "papermill": {
     "duration": 0.079477,
     "end_time": "2020-10-26T05:27:31.478822",
     "exception": false,
     "start_time": "2020-10-26T05:27:31.399345",
     "status": "completed"
    },
    "tags": []
   },
   "source": [
    "Further steps are\n",
    "- impute missing values\n",
    "- Feature Engineering\n",
    "- Label encoding for the categorical variables\n",
    "- Model Building \n",
    "- Cross-validation\n",
    "- Hyperparameter Tuning"
   ]
  },
  {
   "cell_type": "code",
   "execution_count": 39,
   "metadata": {
    "execution": {
     "iopub.execute_input": "2020-10-26T05:27:31.644344Z",
     "iopub.status.busy": "2020-10-26T05:27:31.643305Z",
     "iopub.status.idle": "2020-10-26T05:27:31.646673Z",
     "shell.execute_reply": "2020-10-26T05:27:31.645953Z"
    },
    "papermill": {
     "duration": 0.087737,
     "end_time": "2020-10-26T05:27:31.646799",
     "exception": false,
     "start_time": "2020-10-26T05:27:31.559062",
     "status": "completed"
    },
    "tags": []
   },
   "outputs": [],
   "source": [
    "#train.dropna(axis = 1)"
   ]
  },
  {
   "cell_type": "code",
   "execution_count": 40,
   "metadata": {
    "execution": {
     "iopub.execute_input": "2020-10-26T05:27:31.815808Z",
     "iopub.status.busy": "2020-10-26T05:27:31.814839Z",
     "iopub.status.idle": "2020-10-26T05:27:31.817812Z",
     "shell.execute_reply": "2020-10-26T05:27:31.817234Z"
    },
    "papermill": {
     "duration": 0.08725,
     "end_time": "2020-10-26T05:27:31.817975",
     "exception": false,
     "start_time": "2020-10-26T05:27:31.730725",
     "status": "completed"
    },
    "tags": []
   },
   "outputs": [],
   "source": [
    "#test.isna().sum()"
   ]
  },
  {
   "cell_type": "code",
   "execution_count": 41,
   "metadata": {
    "execution": {
     "iopub.execute_input": "2020-10-26T05:27:31.983607Z",
     "iopub.status.busy": "2020-10-26T05:27:31.982700Z",
     "iopub.status.idle": "2020-10-26T05:27:31.987172Z",
     "shell.execute_reply": "2020-10-26T05:27:31.986583Z"
    },
    "papermill": {
     "duration": 0.08871,
     "end_time": "2020-10-26T05:27:31.987301",
     "exception": false,
     "start_time": "2020-10-26T05:27:31.898591",
     "status": "completed"
    },
    "tags": []
   },
   "outputs": [],
   "source": [
    "#test.dropna(axis = 1)"
   ]
  },
  {
   "cell_type": "code",
   "execution_count": 42,
   "metadata": {
    "execution": {
     "iopub.execute_input": "2020-10-26T05:27:32.154119Z",
     "iopub.status.busy": "2020-10-26T05:27:32.153203Z",
     "iopub.status.idle": "2020-10-26T05:27:32.155891Z",
     "shell.execute_reply": "2020-10-26T05:27:32.156500Z"
    },
    "papermill": {
     "duration": 0.08914,
     "end_time": "2020-10-26T05:27:32.156655",
     "exception": false,
     "start_time": "2020-10-26T05:27:32.067515",
     "status": "completed"
    },
    "tags": []
   },
   "outputs": [],
   "source": [
    "#train.drop('Item_Identifier', axis=1, inplace=True)"
   ]
  },
  {
   "cell_type": "code",
   "execution_count": 43,
   "metadata": {
    "execution": {
     "iopub.execute_input": "2020-10-26T05:27:32.323675Z",
     "iopub.status.busy": "2020-10-26T05:27:32.322575Z",
     "iopub.status.idle": "2020-10-26T05:27:32.325785Z",
     "shell.execute_reply": "2020-10-26T05:27:32.325209Z"
    },
    "papermill": {
     "duration": 0.089086,
     "end_time": "2020-10-26T05:27:32.325936",
     "exception": false,
     "start_time": "2020-10-26T05:27:32.236850",
     "status": "completed"
    },
    "tags": []
   },
   "outputs": [],
   "source": [
    "#item_identifier = test['Item_Identifier']"
   ]
  },
  {
   "cell_type": "code",
   "execution_count": 44,
   "metadata": {
    "execution": {
     "iopub.execute_input": "2020-10-26T05:27:32.493355Z",
     "iopub.status.busy": "2020-10-26T05:27:32.492453Z",
     "iopub.status.idle": "2020-10-26T05:27:32.495142Z",
     "shell.execute_reply": "2020-10-26T05:27:32.495667Z"
    },
    "papermill": {
     "duration": 0.089119,
     "end_time": "2020-10-26T05:27:32.495826",
     "exception": false,
     "start_time": "2020-10-26T05:27:32.406707",
     "status": "completed"
    },
    "tags": []
   },
   "outputs": [],
   "source": [
    "#outlet_identifier = test['Outlet_Identifier']"
   ]
  },
  {
   "cell_type": "code",
   "execution_count": 45,
   "metadata": {
    "execution": {
     "iopub.execute_input": "2020-10-26T05:27:32.663500Z",
     "iopub.status.busy": "2020-10-26T05:27:32.662690Z",
     "iopub.status.idle": "2020-10-26T05:27:32.666003Z",
     "shell.execute_reply": "2020-10-26T05:27:32.665261Z"
    },
    "papermill": {
     "duration": 0.088559,
     "end_time": "2020-10-26T05:27:32.666132",
     "exception": false,
     "start_time": "2020-10-26T05:27:32.577573",
     "status": "completed"
    },
    "tags": []
   },
   "outputs": [],
   "source": [
    "#train['Item_Fat_Content']=train['Item_Fat_Content'].astype(float)"
   ]
  },
  {
   "cell_type": "code",
   "execution_count": 46,
   "metadata": {
    "execution": {
     "iopub.execute_input": "2020-10-26T05:27:32.834398Z",
     "iopub.status.busy": "2020-10-26T05:27:32.833454Z",
     "iopub.status.idle": "2020-10-26T05:27:32.836464Z",
     "shell.execute_reply": "2020-10-26T05:27:32.835717Z"
    },
    "papermill": {
     "duration": 0.089089,
     "end_time": "2020-10-26T05:27:32.836585",
     "exception": false,
     "start_time": "2020-10-26T05:27:32.747496",
     "status": "completed"
    },
    "tags": []
   },
   "outputs": [],
   "source": [
    "#X = train.drop('Item_Outlet_Sales', axis = 1)\n",
    "#Y = train['Item_Outlet_Sales']"
   ]
  },
  {
   "cell_type": "code",
   "execution_count": 47,
   "metadata": {
    "execution": {
     "iopub.execute_input": "2020-10-26T05:27:33.003691Z",
     "iopub.status.busy": "2020-10-26T05:27:33.002923Z",
     "iopub.status.idle": "2020-10-26T05:27:33.005495Z",
     "shell.execute_reply": "2020-10-26T05:27:33.006045Z"
    },
    "papermill": {
     "duration": 0.088459,
     "end_time": "2020-10-26T05:27:33.006209",
     "exception": false,
     "start_time": "2020-10-26T05:27:32.917750",
     "status": "completed"
    },
    "tags": []
   },
   "outputs": [],
   "source": [
    "#from sklearn.linear_model import LinearRegression"
   ]
  },
  {
   "cell_type": "code",
   "execution_count": 48,
   "metadata": {
    "execution": {
     "iopub.execute_input": "2020-10-26T05:27:33.218131Z",
     "iopub.status.busy": "2020-10-26T05:27:33.217335Z",
     "iopub.status.idle": "2020-10-26T05:27:33.221146Z",
     "shell.execute_reply": "2020-10-26T05:27:33.220519Z"
    },
    "papermill": {
     "duration": 0.117012,
     "end_time": "2020-10-26T05:27:33.221270",
     "exception": false,
     "start_time": "2020-10-26T05:27:33.104258",
     "status": "completed"
    },
    "tags": []
   },
   "outputs": [],
   "source": [
    "#lm = LinearRegression()\n",
    "#lm"
   ]
  },
  {
   "cell_type": "code",
   "execution_count": 49,
   "metadata": {
    "execution": {
     "iopub.execute_input": "2020-10-26T05:27:33.393708Z",
     "iopub.status.busy": "2020-10-26T05:27:33.392578Z",
     "iopub.status.idle": "2020-10-26T05:27:33.396334Z",
     "shell.execute_reply": "2020-10-26T05:27:33.395390Z"
    },
    "papermill": {
     "duration": 0.090742,
     "end_time": "2020-10-26T05:27:33.396513",
     "exception": false,
     "start_time": "2020-10-26T05:27:33.305771",
     "status": "completed"
    },
    "tags": []
   },
   "outputs": [],
   "source": [
    "#lm.fit(X,Y) # fit the model"
   ]
  },
  {
   "cell_type": "code",
   "execution_count": null,
   "metadata": {
    "papermill": {
     "duration": 0.090723,
     "end_time": "2020-10-26T05:27:33.574084",
     "exception": false,
     "start_time": "2020-10-26T05:27:33.483361",
     "status": "completed"
    },
    "tags": []
   },
   "outputs": [],
   "source": []
  }
 ],
 "metadata": {
  "kernelspec": {
   "display_name": "Python 3",
   "language": "python",
   "name": "python3"
  },
  "language_info": {
   "codemirror_mode": {
    "name": "ipython",
    "version": 3
   },
   "file_extension": ".py",
   "mimetype": "text/x-python",
   "name": "python",
   "nbconvert_exporter": "python",
   "pygments_lexer": "ipython3",
   "version": "3.7.6"
  },
  "papermill": {
   "duration": 19.515398,
   "end_time": "2020-10-26T05:27:33.763554",
   "environment_variables": {},
   "exception": null,
   "input_path": "__notebook__.ipynb",
   "output_path": "__notebook__.ipynb",
   "parameters": {},
   "start_time": "2020-10-26T05:27:14.248156",
   "version": "2.1.0"
  }
 },
 "nbformat": 4,
 "nbformat_minor": 4
}
